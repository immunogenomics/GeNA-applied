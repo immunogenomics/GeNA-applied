{
 "cells": [
  {
   "cell_type": "markdown",
   "id": "6181a2bf",
   "metadata": {},
   "source": [
    "# csaQTL GWAS Suggestive Associations"
   ]
  },
  {
   "cell_type": "code",
   "execution_count": 1,
   "id": "b53833fe",
   "metadata": {},
   "outputs": [],
   "source": [
    "import numpy as np\n",
    "import pandas as pd\n",
    "import matplotlib.pyplot as plt\n",
    "import cna, pickle, os, pp \n",
    "from matplotlib import lines\n",
    "from matplotlib.patches import ConnectionPatch\n",
    "\n",
    "res_folder = \"/data/srlab/lrumker/MCSC_Project/cna-qtl/results/\"\n",
    "fig_dir = \"/data/srlab/lrumker/MCSC_Project/cna-qtl/figs/\""
   ]
  },
  {
   "cell_type": "code",
   "execution_count": 2,
   "id": "f0c8e742",
   "metadata": {},
   "outputs": [],
   "source": [
    "# Load suggestive loci\n",
    "sugg_loci = pd.DataFrame({})\n",
    "for celltype in [\"T\", \"B\", \"NK\", \"Myeloid\"]:\n",
    "    new = pd.read_table(res_folder+\"gwas_\"+celltype+\"/gwas_suggestive_loci.tsv\")\n",
    "    sugg_loci = pd.concat([sugg_loci, new])\n",
    "sugg_loci.index = [sugg_loci.celltype.values[i]+\"_\"+sugg_loci.ID.values[i] for i in np.arange(sugg_loci.shape[0])]\n",
    "\n",
    "sig_loci = pd.DataFrame({})\n",
    "for celltype in [\"NK\", \"Myeloid\"]:\n",
    "    new = pd.read_table(res_folder+\"gwas_\"+celltype+\"/gwas_loci.tsv\")\n",
    "    sig_loci = pd.concat([sig_loci, new])\n",
    "sig_loci.index = [sig_loci.celltype.values[i]+\"_\"+sig_loci.ID.values[i] for i in np.arange(sig_loci.shape[0])]\n",
    "sugg_loci.drop(index=sig_loci.index, inplace = True)"
   ]
  },
  {
   "cell_type": "markdown",
   "id": "87dbfb40",
   "metadata": {},
   "source": [
    "## Neighborhood-level phenotypes"
   ]
  },
  {
   "cell_type": "code",
   "execution_count": 3,
   "id": "6604e85c",
   "metadata": {},
   "outputs": [],
   "source": [
    "# Load suggestive loci phenotypes\n",
    "NK_phenos = pd.read_table(res_folder+\"gwas_NK/sugg_npheno.tsv\", index_col=0)\n",
    "NK_phenos.columns = [\"NK_\"+NK_phenos.columns[i] for i in np.arange(NK_phenos.shape[1])]\n",
    "NK_phenos = NK_phenos.loc[:,[NK_phenos.columns[i] in sugg_loci.index for i in np.arange(NK_phenos.shape[1])]]\n",
    "\n",
    "M_phenos = pd.read_table(res_folder+\"gwas_Myeloid/sugg_npheno.tsv\", index_col=0)\n",
    "M_phenos.columns = [\"Myeloid_\"+M_phenos.columns[i] for i in np.arange(M_phenos.shape[1])]\n",
    "M_phenos = M_phenos.loc[:,[M_phenos.columns[i] in sugg_loci.index for i in np.arange(M_phenos.shape[1])]]\n",
    "\n",
    "T_phenos = pd.read_table(res_folder+\"gwas_T/sugg_npheno.tsv\", index_col=0)\n",
    "T_phenos.columns = [\"T_\"+T_phenos.columns[i] for i in np.arange(T_phenos.shape[1])]\n",
    "T_phenos = T_phenos.loc[:,[T_phenos.columns[i] in sugg_loci.index for i in np.arange(T_phenos.shape[1])]]\n",
    "\n",
    "B_phenos = pd.read_table(res_folder+\"gwas_B/sugg_npheno.tsv\", index_col=0)\n",
    "B_phenos.columns = [\"B_\"+B_phenos.columns[i] for i in np.arange(B_phenos.shape[1])]\n",
    "B_phenos = B_phenos.loc[:,[B_phenos.columns[i] in sugg_loci.index for i in np.arange(B_phenos.shape[1])]]"
   ]
  },
  {
   "cell_type": "code",
   "execution_count": 4,
   "id": "8e57c8cf",
   "metadata": {},
   "outputs": [],
   "source": [
    "# Load T cell sc object for plotting neighborhood-level phenotypes\n",
    "d_T = cna.read(\"/data/srlab/lrumker/datasets/onek1k/pheno/T.h5ad\")\n",
    "d_T.obs['kept'] = np.repeat(False, d_T.obs.shape[0])\n",
    "d_T.obs.loc[T_phenos.index,'kept'] = True"
   ]
  },
  {
   "cell_type": "code",
   "execution_count": null,
   "id": "9d61da28",
   "metadata": {},
   "outputs": [],
   "source": [
    "fig, axes = plt.subplots(2,5, figsize = (15,6), dpi = 100)\n",
    "\n",
    "# Plot B suggestive phenotypes\n",
    "d = cna.read(\"/data/srlab/lrumker/datasets/onek1k/pheno/B.h5ad\")\n",
    "d.obs['kept'] = np.repeat(False, d.obs.shape[0])\n",
    "d.obs.loc[B_phenos.index,'kept'] = True\n",
    "pp.umapprops['s'] = 0.4\n",
    "for i, ax in enumerate(axes.reshape(-1,)[:1]):\n",
    "    cbar_plot = ax.scatter(d.obsm['X_umap'][d.obs.kept,0], d.obsm['X_umap'][d.obs.kept,1],\n",
    "                    c = B_phenos.iloc[:,i], cmap = \"seismic\", s = 0.001)\n",
    "    ax.axis(\"off\")\n",
    "    cbar = plt.colorbar(cbar_plot, ticks = [], shrink=0.5, location='left', ax = ax, pad = 0.01)\n",
    "    cbar.set_ticklabels([])\n",
    "    cbar.outline.set_visible(False)\n",
    "    ax.set_title(\"\\n\".join(B_phenos.columns[i].split(\"_\"))+\"\\n\"+\\\n",
    "                'p='+'{:.1e}'.format(sugg_loci.loc[B_phenos.columns[i],'P']))\n",
    "    \n",
    "    x_min = np.min(d.obsm['X_umap'][d.obs.kept,0])\n",
    "    y_min = np.min(d.obsm['X_umap'][d.obs.kept,1])\n",
    "    ax.text(x_min+0.45*x_min,\n",
    "            y_min*0.18,'Abundance correlation', fontsize=8, rotation = 90)\n",
    "    ax.text(x_min+0.25*x_min,y_min*0.34,'Neg', fontsize=8)\n",
    "    ax.text(x_min+0.25*x_min,y_min*-2.4,'Pos', fontsize=8)\n",
    "\n",
    "# Plot T suggestive phenotypes\n",
    "pp.umapprops['s'] = 0.1\n",
    "for i, ax in enumerate(axes.reshape(-1,)[1:3]):\n",
    "    pp.scatter_random(d_T.obsm['X_umap'][d_T.obs.kept,0], d_T.obsm['X_umap'][d_T.obs.kept,1],\n",
    "                    c = T_phenos.iloc[:,i], ax = ax, cmap = \"seismic\")\n",
    "    ax.axis(\"off\")\n",
    "    ax.set_title(\"\\n\".join(T_phenos.columns[i].split(\"_\"))+\"\\n\"+\\\n",
    "                'p='+'{:.1e}'.format(sugg_loci.loc[T_phenos.columns[i],'P']))\n",
    "\n",
    "# Plot NK suggestive phenotypes\n",
    "d = cna.read(\"/data/srlab/lrumker/datasets/onek1k/pheno/NK.h5ad\")\n",
    "d.obs['kept'] = np.repeat(False, d.obs.shape[0])\n",
    "d.obs.loc[NK_phenos.index,'kept'] = True\n",
    "pp.umapprops['s'] = 0.4\n",
    "for i, ax in enumerate(axes.reshape(-1,)[3:6]):\n",
    "    pp.scatter_random(d.obsm['X_umap'][d.obs.kept,0], d.obsm['X_umap'][d.obs.kept,1],\n",
    "                    c = NK_phenos.iloc[:,i], ax = ax, cmap = \"seismic\")\n",
    "    ax.axis(\"off\")\n",
    "    ax.set_title(\"\\n\".join(NK_phenos.columns[i].split(\"_\"))+\"\\n\"+\\\n",
    "                'p='+'{:.1e}'.format(sugg_loci.loc[NK_phenos.columns[i],'P']))\n",
    "    \n",
    "# Plot Myeloid suggestive phenotypes\n",
    "d = cna.read(\"/data/srlab/lrumker/datasets/onek1k/pheno/Myeloid.h5ad\")\n",
    "d.obs['kept'] = np.repeat(False, d.obs.shape[0])\n",
    "d.obs.loc[M_phenos.index,'kept'] = True\n",
    "pp.umapprops['s'] = 0.6\n",
    "for i, ax in enumerate(axes.reshape(-1,)[6:10]):\n",
    "    pp.scatter_random(d.obsm['X_umap'][d.obs.kept,0], d.obsm['X_umap'][d.obs.kept,1],\n",
    "                    c = M_phenos.iloc[:,i], ax = ax, cmap = \"seismic\")\n",
    "    ax.axis(\"off\")\n",
    "    ax.set_title(\"\\n\".join(M_phenos.columns[i].split(\"_\"))+\"\\n\"+\\\n",
    "                'p='+'{:.1e}'.format(sugg_loci.loc[M_phenos.columns[i],'P']))\n",
    "    \n",
    "plt.tight_layout()\n",
    "plt.savefig(fig_dir+\"suppfig.sugg_snps.png\", bbox_inches='tight')\n",
    "plt.show()"
   ]
  },
  {
   "cell_type": "markdown",
   "id": "1dc880ba",
   "metadata": {},
   "source": [
    "## Sample-level phenotypes"
   ]
  },
  {
   "cell_type": "code",
   "execution_count": null,
   "id": "a578080d",
   "metadata": {},
   "outputs": [],
   "source": [
    "# Load suggestive loci phenotypes\n",
    "NK_phenos = pd.read_table(res_folder+\"gwas_NK/sugg_spheno.tsv\", index_col=0)\n",
    "NK_phenos.columns = [\"NK_\"+NK_phenos.columns[i] for i in np.arange(NK_phenos.shape[1])]\n",
    "\n",
    "M_phenos = pd.read_table(res_folder+\"gwas_Myeloid/sugg_spheno.tsv\", index_col=0)\n",
    "M_phenos.columns = [\"Myeloid_\"+M_phenos.columns[i] for i in np.arange(M_phenos.shape[1])]\n",
    "\n",
    "T_phenos = pd.read_table(res_folder+\"gwas_T/sugg_spheno.tsv\", index_col=0)\n",
    "T_phenos.columns = [\"T_\"+T_phenos.columns[i] for i in np.arange(T_phenos.shape[1])]\n",
    "\n",
    "B_phenos = pd.read_table(res_folder+\"gwas_B/sugg_spheno.tsv\", index_col=0)\n",
    "B_phenos.columns = [\"B_\"+B_phenos.columns[i] for i in np.arange(B_phenos.shape[1])]"
   ]
  },
  {
   "cell_type": "code",
   "execution_count": null,
   "id": "da8cf01d",
   "metadata": {},
   "outputs": [],
   "source": [
    "def plot_trait_cors(phenos, ax, celltype):\n",
    "    snp_names = [phenos.columns[i].split(\"_\")[1] for i in np.arange(phenos.shape[1])]\n",
    "    vals = phenos.corr()**2\n",
    "    mask = np.triu(vals, k=1)\n",
    "    vals = np.ma.array(vals, mask=mask)\n",
    "\n",
    "    im = ax.imshow(vals, cmap=\"seismic\")\n",
    "    ax.set_xticks(np.arange(len(snp_names)))\n",
    "    ax.set_xticklabels(snp_names)\n",
    "    ax.set_yticks(np.arange(len(snp_names)))\n",
    "    ax.set_yticklabels(snp_names)\n",
    "    plt.setp(ax.get_xticklabels(), rotation=45, ha=\"right\", rotation_mode=\"anchor\")\n",
    "    for i in range(len(snp_names)):\n",
    "        for j in range(len(snp_names)):\n",
    "            text = ax.text(j, i, np.around(vals[i, j],2),\n",
    "                           ha=\"center\", va=\"center\", color=\"w\")\n",
    "    ax.set_title(celltype+\"\\nPearson's r-squared between traits\")"
   ]
  },
  {
   "cell_type": "code",
   "execution_count": null,
   "id": "ef07a782",
   "metadata": {},
   "outputs": [],
   "source": [
    "fig, axs = plt.subplots(1,3, figsize=(14,5), dpi = 250)\n",
    "plot_trait_cors(NK_phenos, axs[0], \"NK\")\n",
    "plot_trait_cors(M_phenos, axs[1], \"M\")\n",
    "plot_trait_cors(T_phenos, axs[2], \"T\")\n",
    "plt.tight_layout()\n",
    "plt.savefig(fig_dir+\"suppfig.trait_corrs.png\", bbox_inches='tight')\n",
    "plt.show()"
   ]
  }
 ],
 "metadata": {
  "kernelspec": {
   "display_name": "Python 3 (ipykernel)",
   "language": "python",
   "name": "python3"
  },
  "language_info": {
   "codemirror_mode": {
    "name": "ipython",
    "version": 3
   },
   "file_extension": ".py",
   "mimetype": "text/x-python",
   "name": "python",
   "nbconvert_exporter": "python",
   "pygments_lexer": "ipython3",
   "version": "3.8.10"
  }
 },
 "nbformat": 4,
 "nbformat_minor": 5
}
