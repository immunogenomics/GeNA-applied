{
 "cells": [
  {
   "cell_type": "markdown",
   "id": "c8154745",
   "metadata": {},
   "source": [
    "# Identify gene sets eriched in cell populations associated with genetic risk"
   ]
  },
  {
   "cell_type": "code",
   "execution_count": 1,
   "id": "50625afd",
   "metadata": {},
   "outputs": [],
   "source": [
    "library(fgsea)\n",
    "library(GSA)"
   ]
  },
  {
   "cell_type": "code",
   "execution_count": 2,
   "id": "4ca240ae",
   "metadata": {},
   "outputs": [],
   "source": [
    "# load gene sets\n",
    "geneset_files = c(\"/data/srlab/lrumker/MSigDB_Sets/c7.all.v7.0.symbols.gmt.txt\", #Immune\n",
    "\"/data/srlab/lrumker/MSigDB_Sets/h.all.v7.0.symbols.gmt.txt\", #Hallmark\n",
    "\"/data/srlab/lrumker/MSigDB_Sets/c2.all.v7.0.symbols.gmt.txt\") #Cannonical\n",
    "\n",
    "GeneSet_SizeBound_Upper = 500 # Maximum gene set size considered\n",
    "GeneSet_SizeBound_Lower = 0 # Minimum gene set size considered"
   ]
  },
  {
   "cell_type": "markdown",
   "id": "d3e56780",
   "metadata": {},
   "source": [
    "## Helper functions"
   ]
  },
  {
   "cell_type": "code",
   "execution_count": 3,
   "id": "7f45eb75",
   "metadata": {},
   "outputs": [],
   "source": [
    "parseGeneSetGMT <-function(filepath, known_genes, sizeBound_Upper=500, sizeBound_Lower=0){\n",
    "  Gene_Sets_DB = GSA.read.gmt(filepath)\n",
    "  GeneSet_sizes = sapply(Gene_Sets_DB$genesets,length)\n",
    "  recognized_genes = matrix(NA, nrow=length(GeneSet_sizes), ncol = max(GeneSet_sizes))\n",
    "  for(i in c(1:length(GeneSet_sizes))){\n",
    "    recognized_genes[i,c(1:GeneSet_sizes[i])] = Gene_Sets_DB$genesets[[i]]\n",
    "  }\n",
    "  recognized_genes = matrix(is.element(recognized_genes, known_genes), ncol = ncol(recognized_genes))\n",
    "  GeneSet_sizes = apply(recognized_genes, 1, sum)\n",
    "  retain_GeneSet = (GeneSet_sizes>=sizeBound_Lower)&(GeneSet_sizes<=sizeBound_Upper)\n",
    "  Gene_Sets_DB$genesets = Gene_Sets_DB$genesets[retain_GeneSet]\n",
    "  Gene_Sets_DB$geneset.names = Gene_Sets_DB$geneset.names[retain_GeneSet]\n",
    "  Gene_Sets_DB$geneset.descriptions = Gene_Sets_DB$geneset.descriptions[retain_GeneSet]\n",
    "  Gene_Sets_DB$geneset.sizes = GeneSet_sizes[retain_GeneSet]\n",
    "  return(Gene_Sets_DB)\n",
    "}"
   ]
  },
  {
   "cell_type": "code",
   "execution_count": 4,
   "id": "6f325609",
   "metadata": {},
   "outputs": [],
   "source": [
    "run_GSEA_byFile <-function(genesettype, rankList, filter_output=TRUE, \n",
    "                           GeneSet_SizeBound_Upper = 500, GeneSet_SizeBound_Lower = 0){\n",
    "    # Genesetttype takes string values \"immune\", \"canonical\", and \"immune\"\n",
    "    # rankList must be named with gene labels per value\n",
    "    if(genesettype==\"canonical\"){\n",
    "        i_file = 3\n",
    "    }else if(genesettype==\"hallmark\"){\n",
    "        i_file = 2\n",
    "    }else if(genesettype==\"immune\"){\n",
    "        i_file = 1\n",
    "    }else{\n",
    "        print(\"Geneset file label not recognized.\")\n",
    "        return\n",
    "    }\n",
    "    Gene_Sets_DB = parseGeneSetGMT(geneset_files[i_file], names(rankList), \n",
    "                                   GeneSet_SizeBound_Upper, GeneSet_SizeBound_Lower)\n",
    "    input_genesets = Gene_Sets_DB$genesets\n",
    "    names(input_genesets) = Gene_Sets_DB$geneset.names\n",
    "\n",
    "    FGSEA_output = fgsea(input_genesets, rankList, #nperm=10000, \n",
    "                             minSize = 15, maxSize = 500, nproc = 0,\n",
    "                             gseaParam = 1, BPPARAM = NULL)\n",
    "    \n",
    "    if(filter_output){\n",
    "        FGSEA_output = FGSEA_output[order(FGSEA_output$padj),]\n",
    "        FGSEA_output = FGSEA_output[which(FGSEA_output$padj<0.05),]\n",
    "    }\n",
    "    return(FGSEA_output)\n",
    "}"
   ]
  },
  {
   "cell_type": "markdown",
   "id": "46d0beff",
   "metadata": {},
   "source": [
    "## Test enrichment for SLE PRS-associated phenotype"
   ]
  },
  {
   "cell_type": "code",
   "execution_count": 5,
   "id": "d05dcb76",
   "metadata": {},
   "outputs": [
    {
     "name": "stdout",
     "output_type": "stream",
     "text": [
      "12345678910111213141516171819202122232425262728293031323334353637383940414243444546474849501\n",
      "2\n",
      "3\n",
      "4\n",
      "5\n",
      "6\n",
      "7\n",
      "8\n",
      "9\n",
      "10\n",
      "11\n",
      "12\n",
      "13\n",
      "14\n",
      "15\n",
      "16\n",
      "17\n",
      "18\n",
      "19\n",
      "20\n",
      "21\n",
      "22\n",
      "23\n",
      "24\n",
      "25\n",
      "26\n",
      "27\n",
      "28\n",
      "29\n",
      "30\n",
      "31\n",
      "32\n",
      "33\n",
      "34\n",
      "35\n",
      "36\n",
      "37\n",
      "38\n",
      "39\n",
      "40\n",
      "41\n",
      "42\n",
      "43\n",
      "44\n",
      "45\n",
      "46\n",
      "47\n",
      "48\n",
      "49\n"
     ]
    },
    {
     "name": "stderr",
     "output_type": "stream",
     "text": [
      "Warning message in fgseaMultilevel(...):\n",
      "“For some pathways, in reality P-values are less than 1e-10. You can set the `eps` argument to zero for better estimation.”\n"
     ]
    },
    {
     "name": "stdout",
     "output_type": "stream",
     "text": [
      "                              pathway  pval    padj log2err        ES      NES\n",
      "1: HALLMARK_INTERFERON_ALPHA_RESPONSE 1e-10 1.5e-09      NA 0.9456849 1.933187\n",
      "   size                             leadingEdge\n",
      "1:   29 ISG15,LY6E,IFI44L,IFITM3,EPSTI1,MX1,...\n"
     ]
    }
   ],
   "source": [
    "set.seed(0)\n",
    "res = read.csv(paste0(\"/data/srlab/lrumker/MCSC_Project/cna-prs/results/PRS/SLE_Myeloid_vargenecors.csv\"))\n",
    "cors = res$cor\n",
    "names(cors) = res$gene\n",
    "sets = run_GSEA_byFile(\"hallmark\", cors)\n",
    "print(head(sets, 1))"
   ]
  },
  {
   "cell_type": "markdown",
   "id": "90981865",
   "metadata": {},
   "source": [
    "### Export interferon response gene set"
   ]
  },
  {
   "cell_type": "code",
   "execution_count": 6,
   "id": "556ffcc0",
   "metadata": {},
   "outputs": [
    {
     "name": "stdout",
     "output_type": "stream",
     "text": [
      "12345678910111213141516171819202122232425262728293031323334353637383940414243444546474849501\n",
      "2\n",
      "3\n",
      "4\n",
      "5\n",
      "6\n",
      "7\n",
      "8\n",
      "9\n",
      "10\n",
      "11\n",
      "12\n",
      "13\n",
      "14\n",
      "15\n",
      "16\n",
      "17\n",
      "18\n",
      "19\n",
      "20\n",
      "21\n",
      "22\n",
      "23\n",
      "24\n",
      "25\n",
      "26\n",
      "27\n",
      "28\n",
      "29\n",
      "30\n",
      "31\n",
      "32\n",
      "33\n",
      "34\n",
      "35\n",
      "36\n",
      "37\n",
      "38\n",
      "39\n",
      "40\n",
      "41\n",
      "42\n",
      "43\n",
      "44\n",
      "45\n",
      "46\n",
      "47\n",
      "48\n",
      "49\n"
     ]
    }
   ],
   "source": [
    "Gene_Sets_DB = GSA.read.gmt(geneset_files[2])\n",
    "ifna_genes = Gene_Sets_DB$genesets[[which(Gene_Sets_DB$geneset.names ==\"HALLMARK_INTERFERON_ALPHA_RESPONSE\")]]\n",
    "write.csv(ifna_genes, \"/data/srlab/lrumker/MCSC_Project/cna-prs/results/PRS/ifna_geneset.csv\")"
   ]
  }
 ],
 "metadata": {
  "kernelspec": {
   "display_name": "R",
   "language": "R",
   "name": "ir"
  },
  "language_info": {
   "codemirror_mode": "r",
   "file_extension": ".r",
   "mimetype": "text/x-r-source",
   "name": "R",
   "pygments_lexer": "r",
   "version": "4.0.5"
  }
 },
 "nbformat": 4,
 "nbformat_minor": 5
}
