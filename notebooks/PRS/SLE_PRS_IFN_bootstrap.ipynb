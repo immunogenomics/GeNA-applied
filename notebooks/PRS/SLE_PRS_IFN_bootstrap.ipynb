{
 "cells": [
  {
   "cell_type": "markdown",
   "id": "75bc6d22",
   "metadata": {},
   "source": [
    "# Correlation between IFN response and PRS phenotype in bootstrapped cohorts"
   ]
  },
  {
   "cell_type": "code",
   "execution_count": 1,
   "id": "b5a9f5b2",
   "metadata": {},
   "outputs": [],
   "source": [
    "import pandas as pd\n",
    "import numpy as np\n",
    "import cna, os, pickle\n",
    "import scipy.stats as st\n",
    "import statsmodels.api as sm\n",
    "src_folder = \"/data/srlab/lrumker/datasets/onek1k/pheno/\"\n",
    "res_folder = \"/data/srlab/lrumker/MCSC_Project/cna-prs/results/\"\n",
    "np.random.seed(0)"
   ]
  },
  {
   "cell_type": "code",
   "execution_count": 2,
   "id": "e9889e66",
   "metadata": {},
   "outputs": [],
   "source": [
    "def bootstrapped_p_ifn_cor(celltype, nreps = 1000):\n",
    "\n",
    "    res = pickle.load(open(res_folder+\"PRS/SLE_Myeloid.p\", 'rb'))\n",
    "    d = cna.read(\"/data/srlab/lrumker/datasets/onek1k/pheno/\"+celltype+\".h5ad\")\n",
    "    \n",
    "    # Compute mean expr per sample of IFN-alpha response gene set\n",
    "    ifn_genes = pd.read_csv(\"/data/srlab/lrumker/MCSC_Project/cna-prs/results/PRS/ifna_geneset.csv\", \n",
    "                            index_col = 0).iloc[:,0].values\n",
    "    i_ifn_genes = [i for i in np.arange(d.var.shape[0]) if d.var.index[i] in ifn_genes]\n",
    "    ifn_percell = d.X[:,i_ifn_genes].sum(axis=1)\n",
    "    d.obs['IFN'] = ifn_percell\n",
    "    d.obs_to_sample(['IFN'], aggregate = np.mean)\n",
    "    \n",
    "    \n",
    "    IFN = d.obs.loc[res.kept, ['id', 'IFN']]\n",
    "    ncorrs_df = d.obs.loc[res.kept, ['id']]\n",
    "    ncorrs_df['ncorrs'] = res.ncorrs\n",
    "    \n",
    "    ncorrs_df['cellid'] = np.repeat('', ncorrs_df.shape[0])\n",
    "    for donor in ncorrs_df.id.value_counts().index:\n",
    "        ncorrs_df.loc[ncorrs_df.id==donor,'cellid'] = [donor+\"_\"+str(i) for i in np.arange(np.sum(ncorrs_df.id==donor))]\n",
    "    for donor in IFN.id.value_counts().index:\n",
    "        IFN.loc[IFN.id==donor,'cellid'] = [donor+\"_\"+str(i) for i in np.arange(np.sum(IFN.id==donor))]\n",
    "    ncorrs_df.set_index('cellid', inplace = True, drop = True)\n",
    "    IFN.set_index('cellid', inplace = True, drop = True)\n",
    "    \n",
    "    np.random.seed(0)\n",
    "    corr_magnitude = []\n",
    "    for i in np.arange(nreps):\n",
    "        donors = np.random.choice(d.samplem.index, d.N)\n",
    "        bootstrap_ncorrs = np.concatenate([ncorrs_df.loc[[donor+\"_\"+str(i) for i in np.arange(np.sum(ncorrs_df.id==donor))],'ncorrs'].values \\\n",
    "                    for donor in donors])\n",
    "        bootstrap_ifn = np.concatenate([IFN.loc[[donor+\"_\"+str(i) for i in np.arange(np.sum(IFN.id==donor))],'IFN'].values \\\n",
    "                    for donor in donors])\n",
    "        corr_magnitude.extend([np.abs(np.corrcoef(bootstrap_ifn,bootstrap_ncorrs)[0,1])])\n",
    "\n",
    "    # P-value\n",
    "    return(np.sum(np.array(corr_magnitude)<=0)/len(corr_magnitude))"
   ]
  },
  {
   "cell_type": "code",
   "execution_count": 3,
   "id": "f8314554",
   "metadata": {},
   "outputs": [
    {
     "data": {
      "text/plain": [
       "0.0"
      ]
     },
     "execution_count": 3,
     "metadata": {},
     "output_type": "execute_result"
    }
   ],
   "source": [
    "bootstrapped_p_ifn_cor(\"Myeloid\", nreps = 1000)"
   ]
  }
 ],
 "metadata": {
  "kernelspec": {
   "display_name": "Python 3 (ipykernel)",
   "language": "python",
   "name": "python3"
  },
  "language_info": {
   "codemirror_mode": {
    "name": "ipython",
    "version": 3
   },
   "file_extension": ".py",
   "mimetype": "text/x-python",
   "name": "python",
   "nbconvert_exporter": "python",
   "pygments_lexer": "ipython3",
   "version": "3.8.10"
  }
 },
 "nbformat": 4,
 "nbformat_minor": 5
}
