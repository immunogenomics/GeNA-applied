{
 "cells": [
  {
   "cell_type": "markdown",
   "id": "a90fa7d4",
   "metadata": {},
   "source": [
    "# Comparison of disease- and PRS-associated phenotypes"
   ]
  },
  {
   "cell_type": "code",
   "execution_count": null,
   "id": "342558d6",
   "metadata": {},
   "outputs": [],
   "source": [
    "import pandas as pd\n",
    "import numpy as np\n",
    "import pp, cna, os, pickle\n",
    "pp.umapprops['s'] = 0.6\n",
    "import matplotlib.pyplot as plt\n",
    "import matplotlib.gridspec as gridspec\n",
    "import matplotlib.patches as patches\n",
    "import scipy.stats as st\n",
    "import statsmodels.api as sm\n",
    "fig_dir = '/data/srlab/lrumker/MCSC_Project/cna-prs/figs/'\n",
    "src_folder = \"/data/srlab/lrumker/datasets/onek1k/pheno/\"\n",
    "res_folder = \"/data/srlab/lrumker/MCSC_Project/cna-prs/results/\"\n",
    "np.random.seed(0)"
   ]
  },
  {
   "cell_type": "code",
   "execution_count": null,
   "id": "465f8897",
   "metadata": {},
   "outputs": [],
   "source": [
    "# From Okabe & Ito, \"colorblind-friendly\" palette \n",
    "from matplotlib.colors import LinearSegmentedColormap\n",
    "color_dict = {'orange': '#E69F00', 'skyblue': '#56B4E9', 'green': '#009E73', \n",
    "              'yellow': '#F0E442', 'purple': '#CC79A7', 'oceanblue': '#0072B2', \n",
    "              'vermillion': '#E63d00'} # O&I use '#D55E00'"
   ]
  },
  {
   "cell_type": "markdown",
   "id": "a3548178",
   "metadata": {},
   "source": [
    "## Helper functions"
   ]
  },
  {
   "cell_type": "code",
   "execution_count": null,
   "id": "3f91149f",
   "metadata": {},
   "outputs": [],
   "source": [
    "# Evaluate sigificance of correlation between phenotype value and RA PRS value\n",
    "def perm_test(trait_name, d, show_plot = False, verbose = False):\n",
    "    np.random.seed(0)\n",
    "    \n",
    "    trait_df = d.samplem.loc[:,[trait_name, 'RA']]\n",
    "    trait_df = trait_df.loc[~pd.isna(trait_df[trait_name].values),:].reset_index(drop = True)\n",
    "    \n",
    "    obs_val = np.corrcoef(trait_df.RA.values, trait_df[trait_name].values)[0,1]\n",
    "    perm_vals=[]\n",
    "    for n_perm in np.arange(1000):\n",
    "        perm_vals.append(np.corrcoef(np.random.choice(trait_df.RA.values,trait_df.shape[0], replace=False), \n",
    "                                 trait_df[trait_name].values)[0,1])\n",
    "    pval = np.sum(np.abs(perm_vals)>np.abs(obs_val))/len(perm_vals)\n",
    "    if verbose:\n",
    "        print(\"R=\"+str(obs_val))\n",
    "        print(\"Perm P=\"+str(pval))\n",
    "    \n",
    "    if show_plot:\n",
    "        plt.hist(np.abs(perm_vals), bins = 30)\n",
    "        plt.axvline(x=np.abs(obs_val), c = \"red\")\n",
    "        \n",
    "    return obs_val, pval"
   ]
  },
  {
   "cell_type": "code",
   "execution_count": null,
   "id": "280f3b67",
   "metadata": {},
   "outputs": [],
   "source": [
    "# Performs a two-sided t-test for values of the trait of interest beween RA and non-RA cohorts\n",
    "# Removes individuals with NaN trait values, if relevant\n",
    "def trait_test(traoit, d):\n",
    "    trait_df = d.samplem.loc[:,[trait, 'Rheumatoid_arthritis']]\n",
    "    trait_df.columns = ['test_trait', 'Rheumatoid_arthritis']\n",
    "    trait_df = trait_df.loc[~pd.isna(trait_df.test_trait),:].reset_index(drop = True)\n",
    "    pval_trait = st.ttest_ind(trait_df.test_trait.values[trait_df.Rheumatoid_arthritis==0], \n",
    "                 trait_df.test_trait.values[trait_df.Rheumatoid_arthritis==1])[1]\n",
    "    rval = np.corrcoef(trait_df.test_trait.values, trait_df.Rheumatoid_arthritis.values)[0,1]\n",
    "    return rval, pval_trait"
   ]
  },
  {
   "cell_type": "markdown",
   "id": "8cfd7c4c",
   "metadata": {},
   "source": [
    "## Load results objects"
   ]
  },
  {
   "cell_type": "code",
   "execution_count": null,
   "id": "08dc7af8",
   "metadata": {},
   "outputs": [],
   "source": [
    "# From PRS association test\n",
    "PRS = pd.read_csv(\"/data/srlab/lrumker/MCSC_Project/cna-prs/results/PRS/RA_PRS_noMHC.csv\", index_col = 0)\n",
    "PRS.set_index('IDs', inplace = True, drop = True)\n",
    "PRS.columns = ['RA']\n",
    "d_prs = cna.read(\"/data/srlab/lrumker/datasets/onek1k/pheno/allcells.h5ad\")\n",
    "d_prs.samplem = d_prs.samplem.join(PRS)\n",
    "res_prs = pickle.load(open(\"/data/srlab/lrumker/MCSC_Project/cna-prs/results/PRS/RA_allcells.p\", 'rb'))\n",
    "UMAP1_prs=d_prs.obsm['X_umap'][res_prs.kept,0]\n",
    "UMAP2_prs=d_prs.obsm['X_umap'][res_prs.kept,1]"
   ]
  },
  {
   "cell_type": "code",
   "execution_count": null,
   "id": "919737b6",
   "metadata": {},
   "outputs": [],
   "source": [
    "# From RA case-control association test\n",
    "d_cc = cna.read(\"/data/srlab/lrumker/MCSC_Project/cna-prs/results/sc_objects/1K1K_casecontrol_allcells.h5ad\")\n",
    "res_cc = pickle.load(open(\"/data/srlab/lrumker/MCSC_Project/cna-prs/results/RA_casecontrol/1K1K_casecontrol_\"\\\n",
    "                            +\"allcells.p\", 'rb'))\n",
    "UMAP1_cc=d_cc.obsm['X_umap'][res_cc.kept,0]\n",
    "UMAP2_cc=d_cc.obsm['X_umap'][res_cc.kept,1]"
   ]
  },
  {
   "cell_type": "markdown",
   "id": "d144a52f",
   "metadata": {},
   "source": [
    "## Visualize results"
   ]
  },
  {
   "cell_type": "code",
   "execution_count": null,
   "id": "86fe9586",
   "metadata": {},
   "outputs": [],
   "source": [
    "pp.scatter_random(UMAP1_prs, UMAP2_prs, c = res_prs.ncorrs, cmap = \"seismic\")\n",
    "plt.axis(\"off\")\n",
    "plt.show()"
   ]
  },
  {
   "cell_type": "code",
   "execution_count": null,
   "id": "1bbf18f1",
   "metadata": {},
   "outputs": [],
   "source": [
    "pp.scatter_random(UMAP1_cc, UMAP2_cc, c = res_cc.ncorrs, cmap = \"seismic\")\n",
    "plt.axis(\"off\")\n",
    "plt.show()"
   ]
  },
  {
   "cell_type": "code",
   "execution_count": null,
   "id": "3c8245ab",
   "metadata": {},
   "outputs": [],
   "source": [
    "# Examine distribution of abundance correlations across major celltypes\n",
    "res = res_cc\n",
    "d = d_cc\n",
    "fig = plt.figure(figsize=(7,3), dpi = 150)\n",
    "sel_types = [\"B\", \"T\", \"NK\", \"Myeloid\"]\n",
    "ncorrs_celltype = []\n",
    "medians = []\n",
    "for sel_type in sel_types:\n",
    "    ncorrs_celltype.append(res.ncorrs[d.obs.majortype[res.kept]==sel_type])\n",
    "    medians.append(np.median(res.ncorrs[d.obs.majortype[res.kept]==sel_type]))\n",
    "    \n",
    "order = np.argsort(medians)\n",
    "ncorrs_celltype=[ncorrs_celltype[i] for i in order]\n",
    "sel_types = [sel_types[i] for i in order]\n",
    "medians = [medians[i] for i in order]\n",
    "plt.violinplot(ncorrs_celltype)\n",
    "plt.scatter(np.arange(len(ncorrs_celltype))+1, medians, s = 5, c = color_dict['orange'], alpha =1, zorder = 10)\n",
    "plt.xticks(np.arange(len(ncorrs_celltype))+1, labels = sel_types, rotation=90)\n",
    "plt.axhline(y=0, c= \"black\", lw = 1, ls=\"--\")\n",
    "plt.show()"
   ]
  },
  {
   "cell_type": "code",
   "execution_count": null,
   "id": "d0cdec4d",
   "metadata": {},
   "outputs": [],
   "source": [
    "# Examine distribution of abundance correlations across major celltypes\n",
    "res = res_prs\n",
    "d = d_prs\n",
    "fig = plt.figure(figsize=(7,3), dpi = 150)\n",
    "sel_types = [\"B\", \"T\", \"NK\", \"Myeloid\"]\n",
    "ncorrs_celltype = []\n",
    "medians = []\n",
    "for sel_type in sel_types:\n",
    "    ncorrs_celltype.append(res.ncorrs[d.obs.majortype[res.kept]==sel_type])\n",
    "    medians.append(np.median(res.ncorrs[d.obs.majortype[res.kept]==sel_type]))\n",
    "    \n",
    "order = np.argsort(medians)\n",
    "ncorrs_celltype=[ncorrs_celltype[i] for i in order]\n",
    "sel_types = [sel_types[i] for i in order]\n",
    "medians = [medians[i] for i in order]\n",
    "plt.violinplot(ncorrs_celltype)\n",
    "plt.scatter(np.arange(len(ncorrs_celltype))+1, medians, s = 5, c = color_dict['orange'], alpha =1, zorder = 10)\n",
    "plt.xticks(np.arange(len(ncorrs_celltype))+1, labels = sel_types, rotation=90)\n",
    "plt.axhline(y=0, c= \"black\", lw = 1, ls=\"--\")\n",
    "plt.show()"
   ]
  },
  {
   "cell_type": "code",
   "execution_count": null,
   "id": "b7501a71",
   "metadata": {},
   "outputs": [],
   "source": [
    "# Examine distribution of abundance correlations across clusters\n",
    "# Are there any suggested abundance shifts among T cell types? \n",
    "res = res_cc\n",
    "d = d_cc\n",
    "fig = plt.figure(figsize=(7,3), dpi = 150)\n",
    "T_types = np.unique(d.obs.celltype[d.obs.majortype==\"T\"].values)\n",
    "T_types = [T_types[i] for i in np.arange(len(T_types)) if \"Proliferating\" not in T_types[i]]\n",
    "ncorrs_celltype = []\n",
    "medians = []\n",
    "for sel_type in T_types:\n",
    "    ncorrs_celltype.append(res.ncorrs[d.obs.celltype[res.kept]==sel_type])\n",
    "    medians.append(np.median(res.ncorrs[d.obs.celltype[res.kept]==sel_type]))\n",
    "    \n",
    "order = np.argsort(medians)\n",
    "ncorrs_celltype=[ncorrs_celltype[i] for i in order]\n",
    "T_types = [T_types[i] for i in order]\n",
    "medians = [medians[i] for i in order]\n",
    "plt.violinplot(ncorrs_celltype)\n",
    "plt.scatter(np.arange(len(ncorrs_celltype))+1, medians, s = 5, c = color_dict['orange'], alpha =1, zorder = 10)\n",
    "plt.xticks(np.arange(len(ncorrs_celltype))+1, labels = T_types, rotation=90)\n",
    "plt.axhline(y=0, c= \"black\", lw = 1, ls=\"--\")\n",
    "plt.show()"
   ]
  },
  {
   "cell_type": "code",
   "execution_count": null,
   "id": "20ce85d5",
   "metadata": {},
   "outputs": [],
   "source": [
    "# Examine distribution of abundance correlations across clusters\n",
    "# Are there any suggested abundance shifts among T cell types? \n",
    "res = res_prs\n",
    "d = d_prs\n",
    "fig = plt.figure(figsize=(7,3), dpi = 150)\n",
    "T_types = np.unique(d.obs.celltype[d.obs.majortype==\"T\"].values)\n",
    "T_types = [T_types[i] for i in np.arange(len(T_types)) if \"Proliferating\" not in T_types[i]]\n",
    "ncorrs_celltype = []\n",
    "medians = []\n",
    "for sel_type in T_types:\n",
    "    ncorrs_celltype.append(res.ncorrs[d.obs.celltype[res.kept]==sel_type])\n",
    "    medians.append(np.median(res.ncorrs[d.obs.celltype[res.kept]==sel_type]))\n",
    "    \n",
    "order = np.argsort(medians)\n",
    "ncorrs_celltype=[ncorrs_celltype[i] for i in order]\n",
    "T_types = [T_types[i] for i in order]\n",
    "medians = [medians[i] for i in order]\n",
    "plt.violinplot(ncorrs_celltype)\n",
    "plt.scatter(np.arange(len(ncorrs_celltype))+1, medians, s = 5, c = color_dict['orange'], alpha =1, zorder = 10)\n",
    "plt.xticks(np.arange(len(ncorrs_celltype))+1, labels = T_types, rotation=90)\n",
    "plt.axhline(y=0, c= \"black\", lw = 1, ls=\"--\")\n",
    "plt.show()"
   ]
  },
  {
   "cell_type": "markdown",
   "id": "178ae440",
   "metadata": {},
   "source": [
    "## Directly test cluster-based relationships suggested by neighborhood abundance corrs"
   ]
  },
  {
   "cell_type": "code",
   "execution_count": null,
   "id": "ef92b0b4",
   "metadata": {},
   "outputs": [],
   "source": [
    "fig, axes = plt.subplots(2,2, figsize = (6,8), dpi = 150)\n",
    "\n",
    "np.random.seed(0)\n",
    "ax = axes[0,0]\n",
    "d_cc.obs['T_Naive_to_CTL_TEM'] = np.repeat(np.nan, d_cc.obs.shape[0])\n",
    "d_cc.obs.loc[d_cc.obs.celltype=='CD4 Naive', 'T_Naive_to_CTL_TEM'] = 0\n",
    "d_cc.obs.loc[d_cc.obs.celltype=='CD4 TEM', 'T_Naive_to_CTL_TEM'] = 1\n",
    "d_cc.obs.loc[d_cc.obs.celltype=='CD4 CTL', 'T_Naive_to_CTL_TEM'] = 1\n",
    "d_cc.obs_to_sample('T_Naive_to_CTL_TEM', aggregate=np.mean)\n",
    "rval, pval = trait_test('T_Naive_to_CTL_TEM', d_cc)\n",
    "pval = pval/2 # we specifically test the hypothesis suggested by ncorrs\n",
    "ax.scatter(1+np.random.normal(0,0.1,np.sum(d_cc.samplem.Rheumatoid_arthritis==0)), \n",
    "           d_cc.samplem.T_Naive_to_CTL_TEM.values[d_cc.samplem.Rheumatoid_arthritis==0], s = 2, alpha=0.5, c=color_dict[\"green\"])\n",
    "ax.scatter(2+np.random.normal(0,0.1,np.sum(d_cc.samplem.Rheumatoid_arthritis==1)), \n",
    "           d_cc.samplem.T_Naive_to_CTL_TEM.values[d_cc.samplem.Rheumatoid_arthritis==1], s = 2, alpha=0.5, c=color_dict[\"green\"])\n",
    "ax.boxplot([d_cc.samplem.T_Naive_to_CTL_TEM.values[d_cc.samplem.Rheumatoid_arthritis==0], \n",
    "             d_cc.samplem.T_Naive_to_CTL_TEM.values[d_cc.samplem.Rheumatoid_arthritis==1]], \n",
    "           showfliers=False, widths = 0.35)\n",
    "ax.set_xticklabels(['Control', 'RA'], rotation=90)\n",
    "ax.text(1.95, 0.97, \"r=\"+str(np.around(rval, 2)))\n",
    "ax.text(1.95, 0.92, \"p=\"+str(np.around(pval, 3)))\n",
    "ax.set_ylim([-0.05,1.05])\n",
    "ax.set_xlabel(\"Clinical status\")\n",
    "ax.set_ylabel(\"(CD4+ T$_{naive}$) / (CD4+ T$_{EM}$+T$_{CTL}$)\\nper individual\")\n",
    "\n",
    "ax = axes[0,1]\n",
    "d_prs.obs['T_Naive_to_CTL_TEM'] = np.repeat(np.nan, d_prs.obs.shape[0])\n",
    "d_prs.obs.loc[d_prs.obs.celltype=='CD4 Naive', 'T_Naive_to_CTL_TEM'] = 0\n",
    "d_prs.obs.loc[d_prs.obs.celltype=='CD4 TEM', 'T_Naive_to_CTL_TEM'] = 1\n",
    "d_prs.obs.loc[d_prs.obs.celltype=='CD4 CTL', 'T_Naive_to_CTL_TEM'] = 1\n",
    "d_prs.obs_to_sample('T_Naive_to_CTL_TEM', aggregate=np.mean)\n",
    "rval, pval = perm_test('T_Naive_to_CTL_TEM', d_prs)\n",
    "pval = pval/2 # we only specifically test the hypothesis suggested by ncorrs\n",
    "PRS_thresh = np.quantile(d_prs.samplem.RA, 0.95)\n",
    "ax.scatter(1+np.random.normal(0,0.1,np.sum(d_prs.samplem.RA<PRS_thresh)), \n",
    "           d_prs.samplem.T_Naive_to_CTL_TEM.values[d_prs.samplem.RA<PRS_thresh], s=1, alpha=0.5, c=color_dict[\"green\"])\n",
    "ax.scatter(2+np.random.normal(0,0.1,np.sum(d_prs.samplem.RA>=PRS_thresh)), \n",
    "           d_prs.samplem.T_Naive_to_CTL_TEM.values[d_prs.samplem.RA>=PRS_thresh], s=1, alpha=0.5, c=color_dict[\"green\"])\n",
    "ax.boxplot([d_prs.samplem.T_Naive_to_CTL_TEM.values[d_prs.samplem.RA<PRS_thresh], \n",
    "             d_prs.samplem.T_Naive_to_CTL_TEM.values[d_prs.samplem.RA>=PRS_thresh]], showfliers=False, widths = 0.5)\n",
    "ax.set_xticklabels(['Lower 95%', 'Top 5%'], rotation=90)\n",
    "ax.text(1.95, 0.97, \"r=\"+str(np.around(rval, 2)))\n",
    "ax.text(1.95, 0.92, \"p=\"+str(np.around(pval, 3)))\n",
    "ax.set_xlabel(\"RA PRS\")\n",
    "ax.set_ylim([-0.05,1.05])\n",
    "\n",
    "np.random.seed(0)\n",
    "ax = axes[1,0]\n",
    "d_cc.obs['CD4_TEM_frac_all'] = np.repeat(0, d_cc.obs.shape[0])\n",
    "d_cc.obs.loc[d_cc.obs.celltype=='CD4 TEM', 'CD4_TEM_frac_all'] = 1\n",
    "d_cc.obs_to_sample('CD4_TEM_frac_all', aggregate=np.mean)\n",
    "rval, pval = trait_test('CD4_TEM_frac_all', d_cc)\n",
    "pval = pval/2 # we specifically test the hypothesis suggested by ncorrs\n",
    "ax.scatter(1+np.random.normal(0,0.1,np.sum(d_cc.samplem.Rheumatoid_arthritis==0)), \n",
    "           d_cc.samplem.CD4_TEM_frac_all.values[d_cc.samplem.Rheumatoid_arthritis==0], s = 2, alpha=0.5, c=color_dict[\"green\"])\n",
    "ax.scatter(2+np.random.normal(0,0.1,np.sum(d_cc.samplem.Rheumatoid_arthritis==1)), \n",
    "           d_cc.samplem.CD4_TEM_frac_all.values[d_cc.samplem.Rheumatoid_arthritis==1], s = 2, alpha=0.5, c=color_dict[\"green\"])\n",
    "ax.boxplot([d_cc.samplem.CD4_TEM_frac_all.values[d_cc.samplem.Rheumatoid_arthritis==0], \n",
    "             d_cc.samplem.CD4_TEM_frac_all.values[d_cc.samplem.Rheumatoid_arthritis==1]], \n",
    "           showfliers=False, widths = 0.35)\n",
    "ax.set_xticklabels(['Control', 'RA'], rotation=90)\n",
    "ax.text(1.93, 0.0251, \"r=\"+str(np.around(rval, 2)))\n",
    "ax.text(1.93, 0.0238, \"p=\"+str(np.around(pval, 3)))\n",
    "ax.set_xlabel(\"Clinical status\")\n",
    "ax.set_ylabel(\"CD4+ T$_{EM}$ % all cells per individual\")\n",
    "\n",
    "ax = axes[1,1]\n",
    "d_prs.obs['CD4_TEM_frac_all'] = np.repeat(0, d_prs.obs.shape[0])\n",
    "d_prs.obs.loc[d_prs.obs.celltype=='CD4 TEM', 'CD4_TEM_frac_all'] = 1\n",
    "d_prs.obs_to_sample('CD4_TEM_frac_all', aggregate=np.mean)\n",
    "rval, pval = perm_test('CD4_TEM_frac_all', d_prs)\n",
    "pval = pval/2 # we only specifically test the hypothesis suggested by ncorrs\n",
    "PRS_thresh = np.quantile(d_prs.samplem.RA, 0.95)\n",
    "ax.scatter(1+np.random.normal(0,0.1,np.sum(d_prs.samplem.RA<PRS_thresh)), \n",
    "           d_prs.samplem.CD4_TEM_frac_all.values[d_prs.samplem.RA<PRS_thresh], s=1, alpha=0.5, c=color_dict[\"green\"])\n",
    "ax.scatter(2+np.random.normal(0,0.1,np.sum(d_prs.samplem.RA>=PRS_thresh)), \n",
    "           d_prs.samplem.CD4_TEM_frac_all.values[d_prs.samplem.RA>=PRS_thresh], s=1, alpha=0.5, c=color_dict[\"green\"])\n",
    "ax.boxplot([d_prs.samplem.CD4_TEM_frac_all.values[d_prs.samplem.RA<PRS_thresh], \n",
    "             d_prs.samplem.CD4_TEM_frac_all.values[d_prs.samplem.RA>=PRS_thresh]], showfliers=False, widths = 0.5)\n",
    "ax.set_xticklabels(['Lower 95%', 'Top 5%'], rotation=90)\n",
    "ax.text(1.93, 0.062, \"r=\"+str(np.around(rval, 2)))\n",
    "ax.text(1.93, 0.058, \"p=\"+str(np.around(pval, 3)))\n",
    "ax.set_xlabel(\"RA PRS\")\n",
    "\n",
    "plt.tight_layout()\n",
    "plt.savefig(fig_dir+\"suppfig.RA_CC_PRS.png\")\n",
    "plt.show()"
   ]
  }
 ],
 "metadata": {
  "kernelspec": {
   "display_name": "Python 3 (ipykernel)",
   "language": "python",
   "name": "python3"
  },
  "language_info": {
   "codemirror_mode": {
    "name": "ipython",
    "version": 3
   },
   "file_extension": ".py",
   "mimetype": "text/x-python",
   "name": "python",
   "nbconvert_exporter": "python",
   "pygments_lexer": "ipython3",
   "version": "3.8.10"
  }
 },
 "nbformat": 4,
 "nbformat_minor": 5
}
