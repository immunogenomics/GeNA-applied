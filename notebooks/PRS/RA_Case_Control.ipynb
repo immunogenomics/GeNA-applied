{
 "cells": [
  {
   "cell_type": "markdown",
   "id": "b4eacd4c",
   "metadata": {},
   "source": [
    "# Rheumatoid Arthritis Case Control Association Testing"
   ]
  },
  {
   "cell_type": "code",
   "execution_count": 1,
   "id": "0dcf70d4",
   "metadata": {},
   "outputs": [],
   "source": [
    "import pandas as pd\n",
    "import numpy as np\n",
    "import scanpy as sc\n",
    "import anndata as ad\n",
    "import harmonypy as hm\n",
    "import pp, cna, os, pickle\n",
    "pp.umapprops['s'] = 0.4\n",
    "import multianndata as mad\n",
    "import matplotlib.pyplot as plt\n",
    "import matplotlib.gridspec as gridspec\n",
    "import scipy.stats as st\n",
    "fig_dir = '/data/srlab/lrumker/MCSC_Project/cna-prs/figs/'\n",
    "src_folder = \"/data/srlab/lrumker/datasets/onek1k/pheno/\"\n",
    "res_folder = \"/data/srlab/lrumker/MCSC_Project/cna-prs/results/sc_objects/\"\n",
    "np.random.seed(0)"
   ]
  },
  {
   "cell_type": "code",
   "execution_count": 2,
   "id": "de92b896",
   "metadata": {},
   "outputs": [],
   "source": [
    "# From Okabe & Ito, \"colorblind-friendly\" palette \n",
    "from matplotlib.colors import LinearSegmentedColormap\n",
    "color_dict = {'orange': '#E69F00', 'skyblue': '#56B4E9', 'green': '#009E73', \n",
    "              'yellow': '#F0E442', 'purple': '#CC79A7', 'oceanblue': '#0072B2', \n",
    "              'vermillion': '#E63d00'} # O&I use '#D55E00'"
   ]
  },
  {
   "cell_type": "code",
   "execution_count": 3,
   "id": "852d7611",
   "metadata": {},
   "outputs": [],
   "source": [
    "# Subscript in text mode not math mode (avoids italics)\n",
    "params = {'mathtext.default': 'regular' }          \n",
    "plt.rcParams.update(params)"
   ]
  },
  {
   "cell_type": "markdown",
   "id": "e079cb81",
   "metadata": {},
   "source": [
    "## Build single-cell object for case-control cohort"
   ]
  },
  {
   "cell_type": "code",
   "execution_count": 4,
   "id": "20f6598c",
   "metadata": {},
   "outputs": [
    {
     "name": "stdout",
     "output_type": "stream",
     "text": [
      "NK\n"
     ]
    },
    {
     "name": "stderr",
     "output_type": "stream",
     "text": [
      "Trying to set attribute `.var` of view, copying.\n",
      "Trying to set attribute `.var` of view, copying.\n"
     ]
    },
    {
     "name": "stdout",
     "output_type": "stream",
     "text": [
      "Keeping 503 samples with RA or known absence of non-RA autoimmune disease\n",
      "Keeping 483 samples with at least 25 cells\n",
      "Keeping 30 samples after downsampling controls to 50% case rate\n"
     ]
    },
    {
     "name": "stderr",
     "output_type": "stream",
     "text": [
      "Trying to set attribute `.var` of view, copying.\n",
      "Trying to set attribute `.var` of view, copying.\n",
      "/PHShome/lar24/anaconda3/envs/py3_clone/lib/python3.8/site-packages/scanpy/preprocessing/_normalization.py:138: UserWarning: Revieved a view of an AnnData. Making a copy.\n",
      "  view_to_actual(adata)\n",
      "/PHShome/lar24/anaconda3/envs/py3_clone/lib/python3.8/site-packages/scanpy/preprocessing/_simple.py:845: UserWarning: Revieved a view of an AnnData. Making a copy.\n",
      "  view_to_actual(adata)\n",
      "2023-11-05 18:39:18,125 - harmonypy - INFO - Iteration 1 of 50\n",
      "2023-11-05 18:39:18,753 - harmonypy - INFO - Iteration 2 of 50\n",
      "2023-11-05 18:39:19,386 - harmonypy - INFO - Iteration 3 of 50\n",
      "2023-11-05 18:39:20,019 - harmonypy - INFO - Iteration 4 of 50\n",
      "2023-11-05 18:39:20,232 - harmonypy - INFO - Iteration 5 of 50\n",
      "2023-11-05 18:39:20,474 - harmonypy - INFO - Iteration 6 of 50\n",
      "2023-11-05 18:39:20,878 - harmonypy - INFO - Iteration 7 of 50\n",
      "2023-11-05 18:39:21,340 - harmonypy - INFO - Iteration 8 of 50\n",
      "2023-11-05 18:39:21,937 - harmonypy - INFO - Iteration 9 of 50\n",
      "2023-11-05 18:39:22,234 - harmonypy - INFO - Iteration 10 of 50\n",
      "2023-11-05 18:39:22,722 - harmonypy - INFO - Iteration 11 of 50\n",
      "2023-11-05 18:39:22,990 - harmonypy - INFO - Iteration 12 of 50\n",
      "2023-11-05 18:39:23,203 - harmonypy - INFO - Iteration 13 of 50\n",
      "2023-11-05 18:39:23,829 - harmonypy - INFO - Iteration 14 of 50\n",
      "2023-11-05 18:39:24,179 - harmonypy - INFO - Iteration 15 of 50\n",
      "2023-11-05 18:39:24,557 - harmonypy - INFO - Iteration 16 of 50\n",
      "2023-11-05 18:39:24,921 - harmonypy - INFO - Iteration 17 of 50\n",
      "2023-11-05 18:39:25,136 - harmonypy - INFO - Iteration 18 of 50\n",
      "2023-11-05 18:39:25,377 - harmonypy - INFO - Converged after 18 iterations\n"
     ]
    },
    {
     "name": "stdout",
     "output_type": "stream",
     "text": [
      "graph\n",
      "umap\n"
     ]
    },
    {
     "name": "stderr",
     "output_type": "stream",
     "text": [
      "/PHShome/lar24/anaconda3/envs/py3_clone/lib/python3.8/site-packages/IPython/core/interactiveshell.py:3441: DtypeWarning: Columns (12) have mixed types.Specify dtype option on import or set low_memory=False.\n",
      "  exec(code_obj, self.user_global_ns, self.user_ns)\n"
     ]
    },
    {
     "name": "stdout",
     "output_type": "stream",
     "text": [
      "warning: the following columns of obs are non-numeric.\n",
      "['id' 'majortype' 'celltype' 'preQC_celltype' 'pool' 'indiv_barcode']\n",
      "consider casting to numeric types where appropriate, and\n",
      "consider re-coding text-valued columns with pandas.get_dummies\n"
     ]
    },
    {
     "name": "stderr",
     "output_type": "stream",
     "text": [
      "/PHShome/lar24/anaconda3/envs/py3_clone/lib/python3.8/site-packages/anndata/_core/anndata.py:1220: FutureWarning: The `inplace` parameter in pandas.Categorical.reorder_categories is deprecated and will be removed in a future version. Reordering categories will always return a new Categorical object.\n",
      "  c.reorder_categories(natsorted(c.categories), inplace=True)\n",
      "... storing 'pool' as categorical\n"
     ]
    },
    {
     "name": "stdout",
     "output_type": "stream",
     "text": [
      "B\n"
     ]
    },
    {
     "name": "stderr",
     "output_type": "stream",
     "text": [
      "Trying to set attribute `.var` of view, copying.\n",
      "Trying to set attribute `.var` of view, copying.\n"
     ]
    },
    {
     "name": "stdout",
     "output_type": "stream",
     "text": [
      "Keeping 503 samples with RA or known absence of non-RA autoimmune disease\n",
      "Keeping 466 samples with at least 25 cells\n",
      "Keeping 30 samples after downsampling controls to 50% case rate\n"
     ]
    },
    {
     "name": "stderr",
     "output_type": "stream",
     "text": [
      "Trying to set attribute `.var` of view, copying.\n",
      "Trying to set attribute `.var` of view, copying.\n",
      "/PHShome/lar24/anaconda3/envs/py3_clone/lib/python3.8/site-packages/scanpy/preprocessing/_normalization.py:138: UserWarning: Revieved a view of an AnnData. Making a copy.\n",
      "  view_to_actual(adata)\n",
      "/PHShome/lar24/anaconda3/envs/py3_clone/lib/python3.8/site-packages/scanpy/preprocessing/_simple.py:845: UserWarning: Revieved a view of an AnnData. Making a copy.\n",
      "  view_to_actual(adata)\n",
      "2023-11-05 18:39:48,963 - harmonypy - INFO - Iteration 1 of 50\n",
      "2023-11-05 18:39:49,437 - harmonypy - INFO - Iteration 2 of 50\n",
      "2023-11-05 18:39:49,932 - harmonypy - INFO - Iteration 3 of 50\n",
      "2023-11-05 18:39:50,159 - harmonypy - INFO - Iteration 4 of 50\n",
      "2023-11-05 18:39:50,623 - harmonypy - INFO - Iteration 5 of 50\n",
      "2023-11-05 18:39:50,926 - harmonypy - INFO - Iteration 6 of 50\n",
      "2023-11-05 18:39:51,283 - harmonypy - INFO - Iteration 7 of 50\n",
      "2023-11-05 18:39:51,680 - harmonypy - INFO - Iteration 8 of 50\n",
      "2023-11-05 18:39:52,182 - harmonypy - INFO - Iteration 9 of 50\n",
      "2023-11-05 18:39:52,779 - harmonypy - INFO - Iteration 10 of 50\n",
      "2023-11-05 18:39:53,026 - harmonypy - INFO - Iteration 11 of 50\n",
      "2023-11-05 18:39:53,197 - harmonypy - INFO - Iteration 12 of 50\n",
      "2023-11-05 18:39:53,453 - harmonypy - INFO - Iteration 13 of 50\n",
      "2023-11-05 18:39:53,736 - harmonypy - INFO - Iteration 14 of 50\n",
      "2023-11-05 18:39:54,114 - harmonypy - INFO - Iteration 15 of 50\n",
      "2023-11-05 18:39:54,575 - harmonypy - INFO - Iteration 16 of 50\n",
      "2023-11-05 18:39:54,747 - harmonypy - INFO - Converged after 16 iterations\n"
     ]
    },
    {
     "name": "stdout",
     "output_type": "stream",
     "text": [
      "graph\n",
      "umap\n"
     ]
    },
    {
     "name": "stderr",
     "output_type": "stream",
     "text": [
      "/PHShome/lar24/anaconda3/envs/py3_clone/lib/python3.8/site-packages/IPython/core/interactiveshell.py:3441: DtypeWarning: Columns (12) have mixed types.Specify dtype option on import or set low_memory=False.\n",
      "  exec(code_obj, self.user_global_ns, self.user_ns)\n"
     ]
    },
    {
     "name": "stdout",
     "output_type": "stream",
     "text": [
      "warning: the following columns of obs are non-numeric.\n",
      "['id' 'majortype' 'celltype' 'preQC_celltype' 'pool' 'indiv_barcode']\n",
      "consider casting to numeric types where appropriate, and\n",
      "consider re-coding text-valued columns with pandas.get_dummies\n"
     ]
    },
    {
     "name": "stderr",
     "output_type": "stream",
     "text": [
      "/PHShome/lar24/anaconda3/envs/py3_clone/lib/python3.8/site-packages/anndata/_core/anndata.py:1220: FutureWarning: The `inplace` parameter in pandas.Categorical.reorder_categories is deprecated and will be removed in a future version. Reordering categories will always return a new Categorical object.\n",
      "  c.reorder_categories(natsorted(c.categories), inplace=True)\n",
      "... storing 'pool' as categorical\n"
     ]
    },
    {
     "name": "stdout",
     "output_type": "stream",
     "text": [
      "T\n",
      "Keeping 503 samples with RA or known absence of non-RA autoimmune disease\n"
     ]
    },
    {
     "name": "stderr",
     "output_type": "stream",
     "text": [
      "Trying to set attribute `.var` of view, copying.\n"
     ]
    },
    {
     "name": "stdout",
     "output_type": "stream",
     "text": [
      "Keeping 503 samples with at least 25 cells\n",
      "Keeping 32 samples after downsampling controls to 50% case rate\n"
     ]
    },
    {
     "name": "stderr",
     "output_type": "stream",
     "text": [
      "Trying to set attribute `.var` of view, copying.\n",
      "Trying to set attribute `.var` of view, copying.\n",
      "Trying to set attribute `.var` of view, copying.\n",
      "/PHShome/lar24/anaconda3/envs/py3_clone/lib/python3.8/site-packages/scanpy/preprocessing/_normalization.py:138: UserWarning: Revieved a view of an AnnData. Making a copy.\n",
      "  view_to_actual(adata)\n",
      "/PHShome/lar24/anaconda3/envs/py3_clone/lib/python3.8/site-packages/scanpy/preprocessing/_simple.py:845: UserWarning: Revieved a view of an AnnData. Making a copy.\n",
      "  view_to_actual(adata)\n",
      "2023-11-05 18:40:23,323 - harmonypy - INFO - Iteration 1 of 50\n",
      "2023-11-05 18:40:26,731 - harmonypy - INFO - Iteration 2 of 50\n",
      "2023-11-05 18:40:30,106 - harmonypy - INFO - Iteration 3 of 50\n",
      "2023-11-05 18:40:33,497 - harmonypy - INFO - Converged after 3 iterations\n"
     ]
    },
    {
     "name": "stdout",
     "output_type": "stream",
     "text": [
      "graph\n",
      "umap\n"
     ]
    },
    {
     "name": "stderr",
     "output_type": "stream",
     "text": [
      "/PHShome/lar24/anaconda3/envs/py3_clone/lib/python3.8/site-packages/IPython/core/interactiveshell.py:3441: DtypeWarning: Columns (12) have mixed types.Specify dtype option on import or set low_memory=False.\n",
      "  exec(code_obj, self.user_global_ns, self.user_ns)\n"
     ]
    },
    {
     "name": "stdout",
     "output_type": "stream",
     "text": [
      "warning: the following columns of obs are non-numeric.\n",
      "['id' 'majortype' 'celltype' 'preQC_celltype' 'pool' 'indiv_barcode']\n",
      "consider casting to numeric types where appropriate, and\n",
      "consider re-coding text-valued columns with pandas.get_dummies\n"
     ]
    },
    {
     "name": "stderr",
     "output_type": "stream",
     "text": [
      "/PHShome/lar24/anaconda3/envs/py3_clone/lib/python3.8/site-packages/anndata/_core/anndata.py:1220: FutureWarning: The `inplace` parameter in pandas.Categorical.reorder_categories is deprecated and will be removed in a future version. Reordering categories will always return a new Categorical object.\n",
      "  c.reorder_categories(natsorted(c.categories), inplace=True)\n",
      "... storing 'pool' as categorical\n"
     ]
    },
    {
     "name": "stdout",
     "output_type": "stream",
     "text": [
      "allcells\n",
      "Keeping 503 samples with RA or known absence of non-RA autoimmune disease\n"
     ]
    },
    {
     "name": "stderr",
     "output_type": "stream",
     "text": [
      "Trying to set attribute `.var` of view, copying.\n"
     ]
    },
    {
     "name": "stdout",
     "output_type": "stream",
     "text": [
      "Keeping 503 samples with at least 25 cells\n",
      "Keeping 32 samples after downsampling controls to 50% case rate\n"
     ]
    },
    {
     "name": "stderr",
     "output_type": "stream",
     "text": [
      "Trying to set attribute `.var` of view, copying.\n",
      "Trying to set attribute `.var` of view, copying.\n",
      "Trying to set attribute `.var` of view, copying.\n",
      "/PHShome/lar24/anaconda3/envs/py3_clone/lib/python3.8/site-packages/scanpy/preprocessing/_normalization.py:138: UserWarning: Revieved a view of an AnnData. Making a copy.\n",
      "  view_to_actual(adata)\n",
      "/PHShome/lar24/anaconda3/envs/py3_clone/lib/python3.8/site-packages/scanpy/preprocessing/_simple.py:845: UserWarning: Revieved a view of an AnnData. Making a copy.\n",
      "  view_to_actual(adata)\n",
      "2023-11-05 18:44:59,805 - harmonypy - INFO - Iteration 1 of 50\n",
      "2023-11-05 18:45:12,747 - harmonypy - INFO - Iteration 2 of 50\n",
      "2023-11-05 18:45:26,605 - harmonypy - INFO - Iteration 3 of 50\n",
      "2023-11-05 18:45:39,923 - harmonypy - INFO - Iteration 4 of 50\n",
      "2023-11-05 18:45:52,336 - harmonypy - INFO - Iteration 5 of 50\n",
      "2023-11-05 18:46:05,438 - harmonypy - INFO - Iteration 6 of 50\n",
      "2023-11-05 18:46:10,763 - harmonypy - INFO - Iteration 7 of 50\n",
      "2023-11-05 18:46:22,275 - harmonypy - INFO - Iteration 8 of 50\n",
      "2023-11-05 18:46:30,104 - harmonypy - INFO - Iteration 9 of 50\n",
      "2023-11-05 18:46:33,777 - harmonypy - INFO - Iteration 10 of 50\n",
      "2023-11-05 18:46:38,032 - harmonypy - INFO - Converged after 10 iterations\n"
     ]
    },
    {
     "name": "stdout",
     "output_type": "stream",
     "text": [
      "graph\n",
      "umap\n"
     ]
    },
    {
     "name": "stderr",
     "output_type": "stream",
     "text": [
      "/PHShome/lar24/anaconda3/envs/py3_clone/lib/python3.8/site-packages/IPython/core/interactiveshell.py:3441: DtypeWarning: Columns (12) have mixed types.Specify dtype option on import or set low_memory=False.\n",
      "  exec(code_obj, self.user_global_ns, self.user_ns)\n"
     ]
    },
    {
     "name": "stdout",
     "output_type": "stream",
     "text": [
      "warning: the following columns of obs are non-numeric.\n",
      "['id' 'majortype' 'celltype' 'preQC_celltype' 'pool' 'indiv_barcode']\n",
      "consider casting to numeric types where appropriate, and\n",
      "consider re-coding text-valued columns with pandas.get_dummies\n"
     ]
    },
    {
     "name": "stderr",
     "output_type": "stream",
     "text": [
      "/PHShome/lar24/anaconda3/envs/py3_clone/lib/python3.8/site-packages/anndata/_core/anndata.py:1220: FutureWarning: The `inplace` parameter in pandas.Categorical.reorder_categories is deprecated and will be removed in a future version. Reordering categories will always return a new Categorical object.\n",
      "  c.reorder_categories(natsorted(c.categories), inplace=True)\n",
      "... storing 'pool' as categorical\n"
     ]
    },
    {
     "name": "stdout",
     "output_type": "stream",
     "text": [
      "Myeloid\n"
     ]
    },
    {
     "name": "stderr",
     "output_type": "stream",
     "text": [
      "Trying to set attribute `.var` of view, copying.\n",
      "Trying to set attribute `.var` of view, copying.\n"
     ]
    },
    {
     "name": "stdout",
     "output_type": "stream",
     "text": [
      "Keeping 502 samples with RA or known absence of non-RA autoimmune disease\n",
      "Keeping 262 samples with at least 25 cells\n",
      "Keeping 18 samples after downsampling controls to 50% case rate\n"
     ]
    },
    {
     "name": "stderr",
     "output_type": "stream",
     "text": [
      "Trying to set attribute `.var` of view, copying.\n",
      "Trying to set attribute `.var` of view, copying.\n",
      "/PHShome/lar24/anaconda3/envs/py3_clone/lib/python3.8/site-packages/scanpy/preprocessing/_normalization.py:138: UserWarning: Revieved a view of an AnnData. Making a copy.\n",
      "  view_to_actual(adata)\n",
      "/PHShome/lar24/anaconda3/envs/py3_clone/lib/python3.8/site-packages/scanpy/preprocessing/_simple.py:845: UserWarning: Revieved a view of an AnnData. Making a copy.\n",
      "  view_to_actual(adata)\n",
      "2023-11-05 18:47:16,429 - harmonypy - INFO - Iteration 1 of 50\n",
      "2023-11-05 18:47:16,712 - harmonypy - INFO - Iteration 2 of 50\n",
      "2023-11-05 18:47:16,833 - harmonypy - INFO - Iteration 3 of 50\n",
      "2023-11-05 18:47:17,050 - harmonypy - INFO - Iteration 4 of 50\n",
      "2023-11-05 18:47:17,209 - harmonypy - INFO - Iteration 5 of 50\n",
      "2023-11-05 18:47:17,477 - harmonypy - INFO - Iteration 6 of 50\n",
      "2023-11-05 18:47:17,620 - harmonypy - INFO - Iteration 7 of 50\n",
      "2023-11-05 18:47:17,859 - harmonypy - INFO - Iteration 8 of 50\n",
      "2023-11-05 18:47:17,968 - harmonypy - INFO - Iteration 9 of 50\n",
      "2023-11-05 18:47:18,213 - harmonypy - INFO - Iteration 10 of 50\n",
      "2023-11-05 18:47:18,452 - harmonypy - INFO - Iteration 11 of 50\n",
      "2023-11-05 18:47:18,562 - harmonypy - INFO - Iteration 12 of 50\n",
      "2023-11-05 18:47:18,849 - harmonypy - INFO - Iteration 13 of 50\n",
      "2023-11-05 18:47:19,126 - harmonypy - INFO - Converged after 13 iterations\n"
     ]
    },
    {
     "name": "stdout",
     "output_type": "stream",
     "text": [
      "graph\n",
      "umap\n"
     ]
    },
    {
     "name": "stderr",
     "output_type": "stream",
     "text": [
      "/PHShome/lar24/anaconda3/envs/py3_clone/lib/python3.8/site-packages/IPython/core/interactiveshell.py:3441: DtypeWarning: Columns (12) have mixed types.Specify dtype option on import or set low_memory=False.\n",
      "  exec(code_obj, self.user_global_ns, self.user_ns)\n"
     ]
    },
    {
     "name": "stdout",
     "output_type": "stream",
     "text": [
      "warning: the following columns of obs are non-numeric.\n",
      "['id' 'majortype' 'celltype' 'preQC_celltype' 'pool' 'indiv_barcode']\n",
      "consider casting to numeric types where appropriate, and\n",
      "consider re-coding text-valued columns with pandas.get_dummies\n"
     ]
    },
    {
     "name": "stderr",
     "output_type": "stream",
     "text": [
      "/PHShome/lar24/anaconda3/envs/py3_clone/lib/python3.8/site-packages/anndata/_core/anndata.py:1220: FutureWarning: The `inplace` parameter in pandas.Categorical.reorder_categories is deprecated and will be removed in a future version. Reordering categories will always return a new Categorical object.\n",
      "  c.reorder_categories(natsorted(c.categories), inplace=True)\n",
      "... storing 'pool' as categorical\n"
     ]
    }
   ],
   "source": [
    "for celltype in [\"NK\", \"B\", \"T\", \"allcells\", \"Myeloid\"]:\n",
    "    print(celltype)\n",
    "    np.random.seed(0)\n",
    "    d = sc.read_h5ad(src_folder+celltype+\"_expr.h5ad\")\n",
    "\n",
    "    # Remove individuals without documented clinical information\n",
    "    meta = pd.read_csv(src_folder+\"sample_meta.csv\", index_col = 0)\n",
    "    meta_clin = meta.drop(columns = meta.columns[pd.isna(meta).sum(axis=0)<400]) # 32 clinical variables\n",
    "    rm_ids = meta_clin.index[pd.isna(meta_clin).sum(axis=1)==meta_clin.shape[1]]\n",
    "    meta = meta.drop(index=rm_ids)\n",
    "\n",
    "    # Remove individuals with non-RA autoimmune disease\n",
    "    meta = meta.loc[meta.Autoimmune_Disease==0,:]\n",
    "    meta = meta.loc[meta.Diabetes_type1==0,:]\n",
    "    meta = meta.loc[meta.UlcerativeColitis==0,:]\n",
    "    meta = meta.loc[meta.Autoimmune_Disease_Other==\"N\",:]\n",
    "    keep_ids = meta.index\n",
    "    keep_cells = np.repeat(False, d.obs.shape[0])\n",
    "    for sel_donor in keep_ids:\n",
    "        keep_cells[np.where(d.obs.individual.values==sel_donor)] = True\n",
    "    d = d[keep_cells,:]\n",
    "    print(\"Keeping \"+str(len(np.unique(d.obs.individual)))+\" samples with RA or known absence of non-RA autoimmune disease\")\n",
    "\n",
    "    # Retain only samples with at least 25 cells\n",
    "    cellcount = pd.DataFrame(d.obs.individual.value_counts())\n",
    "    cellcount.columns = ['n_cells']\n",
    "    keep_ids = cellcount.index[cellcount.n_cells>=25]\n",
    "    meta = meta.loc[keep_ids,:]\n",
    "    keep_cells = np.repeat(False, d.obs.shape[0])\n",
    "    for sel_donor in keep_ids:\n",
    "        keep_cells[np.where(d.obs.individual.values==sel_donor)] = True\n",
    "\n",
    "    d = d[keep_cells,:]\n",
    "    print(\"Keeping \"+str(len(np.unique(d.obs.individual)))+\" samples with at least 25 cells\")\n",
    "\n",
    "    # Downsample controls at random to a 50% case rate\n",
    "    n_RA = np.sum(meta.Rheumatoid_arthritis==1)\n",
    "    kept_ids = d.obs.individual.value_counts().index\n",
    "    meta = meta.loc[kept_ids,:]\n",
    "    np.random.seed(0)\n",
    "    candidates = meta.index[meta.Rheumatoid_arthritis==0]\n",
    "    controls = np.random.choice(candidates,n_RA,replace = False)\n",
    "\n",
    "    keep_ids = np.concatenate((np.array(controls), np.array(meta.index[meta.Rheumatoid_arthritis==1])))\n",
    "    keep_cells = np.repeat(False, d.obs.shape[0])\n",
    "    for sel_donor in keep_ids:\n",
    "        keep_cells[np.where(d.obs.individual.values==sel_donor)] = True\n",
    "\n",
    "    d = d[keep_cells,:]\n",
    "    print(\"Keeping \"+str(len(np.unique(d.obs.individual)))+\" samples after downsampling controls to 50% case rate\")\n",
    "\n",
    "    # Remove all HLA- genes (21)\n",
    "    d.var['HLA'] = ['HLA-' in d.var.index[i] for i in np.arange(d.var.shape[0])]\n",
    "    d = d[:,~d.var.HLA.values]\n",
    "\n",
    "    # Remove cell cycle genes\n",
    "    cc_genes = [\"MCM5\",\"PCNA\",\"TYMS\",\"FEN1\",\"MCM2\",\"MCM4\", \"RRM1\",\"UNG\",\"GINS2\",\"MCM6\",\n",
    "                \"CDCA7\",\"DTL\",\"PRIM1\",\"UHRF1\",\"MLF1IP\",\"HELLS\",\"RFC2\",\"RPA2\",\"NASP\", \n",
    "                \"RAD51AP1\",\"GMNN\",\"WDR76\",\"SLBP\",\"CCNE2\",\"UBR7\",\"POLD3\",\"MSH2\",\"ATAD2\",\n",
    "                \"RAD51\",\"RRM2\", \"CDC45\", \"CDC6\", \"EXO1\", \"TIPIN\", \"DSCC1\", \"BLM\", \"CASP8AP2\",\n",
    "                \"USP1\",\"CLSPN\",\"POLA1\",\"CHAF1B\",\"BRIP1\",\"E2F8\",\"HMGB2\",\"CDK1\",\"NUSAP1\",\"UBE2C\",\n",
    "                \"BIRC5\",\"TPX2\",\"TOP2A\",\"NDC80\",\"CKS2\",\"NUF2\",\"CKS1B\",\"MKI67\",\"TMPO\",\"CENPF\",\n",
    "                \"TACC3\",\"FAM64A\",\"SMC4\",\"CCNB2\",\"CKAP2L\",\"CKAP2\",\"AURKB\",\"BUB1\",\"KIF11\",\n",
    "                \"ANP32E\",\"TUBB4B\",\"GTSE1\",\"KIF20B\",\"HJURP\",\"CDCA3\",\"HN1\", \"CDC20\", \"TTK\",\n",
    "                \"CDC25C\", \"KIF2C\", \"RANGAP1\", \"NCAPD2\", \"DLGAP5\", \"CDCA2\", \"CDCA8\", \"ECT2\", \n",
    "                \"KIF23\", \"HMMR\", \"AURKA\", \"PSRC1\", \"ANLN\", \"LBR\", \"CKAP5\", \"CENPE\", \"CTCF\",\n",
    "                \"NEK2\",\"G2E3\",\"GAS2L3\",\"CBX5\",\"CENPA\"]\n",
    "    d.var['CC'] = [d.var.index[i] in cc_genes for i in np.arange(d.var.shape[0])]\n",
    "    d = d[:,~d.var.CC.values]\n",
    "\n",
    "    # Remove hemoglobin genes (polymorphic)\n",
    "    hb_genes = ['HBB', 'HBA2', 'HBD', 'HBA1']\n",
    "    d.var['HB'] = [d.var.index[i] in hb_genes for i in np.arange(d.var.shape[0])]\n",
    "    d = d[:,~d.var.HB.values]\n",
    "\n",
    "    # Remove platelet genes\n",
    "    plt_genes = ['PF4', 'PPBP']\n",
    "    d.var['Plt'] = [d.var.index[i] in plt_genes for i in np.arange(d.var.shape[0])]\n",
    "    d = d[:,~d.var.Plt.values]\n",
    "\n",
    "    sc.pp.normalize_total(d, target_sum=1e4) #normalize expr\n",
    "    sc.pp.log1p(d) #logarithmize\n",
    "\n",
    "    # variable gene selection\n",
    "    min_disp = {'Myeloid':0.72, 'B':0.58, 'NK': 0.55, 'T': 0.47, 'allcells': 0.42}\n",
    "    sc.pp.highly_variable_genes(d, min_disp=min_disp[celltype])\n",
    "    np.sum(d.var.highly_variable)\n",
    "\n",
    "    high_dispersion = d.var.dispersions_norm > 11\n",
    "    d.var.loc[high_dispersion, 'highly_variable'] = False\n",
    "\n",
    "    d = d[:, d.var.highly_variable]\n",
    "\n",
    "    sc.pp.scale(d, max_value=10) # Scale each gene to unit variance\n",
    "    sc.tl.pca(d, svd_solver='arpack') # PCA\n",
    "\n",
    "    # Harmonize over batch (theta of 2 is default, if >1 batch variable, thetas should sum to 1)\n",
    "    if celltype == \"allcells\":\n",
    "        ho = hm.run_harmony(d.obsm['X_pca'][:,:20], d.obs, ['pool'], max_iter_harmony = 50, theta = 2)\n",
    "    else:\n",
    "        # sel sigma 0.2 > default of 0.1 --> encourages softer clustering b/c all one major type\n",
    "        ho = hm.run_harmony(d.obsm['X_pca'][:,:20], d.obs, ['pool'], \n",
    "                            nclust = 50, sigma = 0.2, max_iter_harmony = 50, theta = 2)\n",
    "    d.obsm['harmpca'] = ho.Z_corr.T\n",
    "\n",
    "    print(\"graph\")\n",
    "    sc.pp.neighbors(d, use_rep = 'harmpca') # graph    \n",
    "    print(\"umap\")\n",
    "    sc.tl.umap(d) # umap \n",
    "\n",
    "    # Load cell metadata\n",
    "    cell_meta = pd.read_csv(src_folder+\"cell_meta.csv\", index_col = 0)\n",
    "    cell_meta['batch'] = cell_meta.pool_number.values\n",
    "    d.obs['id'] = d.obs.individual.values\n",
    "    d.obs['preQC_celltype'] = d.obs['predicted.celltype.l2'].values\n",
    "\n",
    "    d.obs = d.obs.loc[:,['id', 'i_RawExpr', 'majortype', 'celltype', 'ref_UMAP1', 'ref_UMAP2', 'preQC_celltype']]\n",
    "    d.obs = d.obs.join(cell_meta.loc[:,['nCount_RNA', 'nFeature_RNA', 'pool', 'percent.mt', 'batch',\n",
    "            'sex', 'age', 'indiv_barcode']])\n",
    "\n",
    "    # make anndata object\n",
    "    d = mad.MultiAnnData(d, sampleid='id')\n",
    "\n",
    "    # aggregate sample metadata imported per-cell\n",
    "    d.obs_to_sample(['sex', 'age', 'batch'])\n",
    "    d.samplem['sex_M'] = (d.samplem.sex==1)*1 # From 1 vs 2 to boolean\n",
    "    d.samplem = d.samplem.drop(columns = ['sex'])\n",
    "\n",
    "    # add other clinical metadata\n",
    "    d.samplem = d.samplem.join(meta.loc[:,['gPC1', 'gPC2', 'gPC3', 'gPC4', 'gPC5', 'gPC6']])\n",
    "    d.samplem = d.samplem.join(meta.loc[:,'Rheumatoid_arthritis'])\n",
    "\n",
    "    categorical = ['Autoimmune_Disease_Other', 'Ca_Type', 'Eye_DiseaseType', 'Other_Disease', 'Other_Meds']\n",
    "    for attribute in d.samplem.columns:\n",
    "        if attribute not in categorical: d.samplem[attribute] = d.samplem[attribute].values.tolist()\n",
    "    for attribute in d.samplem.columns:\n",
    "        if attribute in categorical: d.samplem[attribute] = d.samplem[attribute].values.astype(str).tolist()\n",
    "\n",
    "    # build NAM, compute NAM-PCs corrected for batch and covariates\n",
    "    covs = ['age', 'sex_M']\n",
    "    cna.tl.nam(d, batches=d.samplem.batch, covs=d.samplem[covs], ks=[d.samplem.shape[0]])\n",
    "\n",
    "    # save data objects\n",
    "    d.write(\"/data/srlab/lrumker/MCSC_Project/cna-prs/results/sc_objects/1K1K_casecontrol_\"+celltype+\".h5ad\")"
   ]
  },
  {
   "cell_type": "markdown",
   "id": "9141366d",
   "metadata": {},
   "source": [
    "## Test for association"
   ]
  },
  {
   "cell_type": "code",
   "execution_count": 5,
   "id": "c8e87f09",
   "metadata": {},
   "outputs": [
    {
     "name": "stdout",
     "output_type": "stream",
     "text": [
      "B\n",
      "[3, 11]\n"
     ]
    },
    {
     "name": "stderr",
     "output_type": "stream",
     "text": [
      "/data/srlab/lrumker/MCSC_Project/cna/src/cna/tools/_association.py:61: UserWarning: data supported use of 11 NAM PCs, which is the maximum considered. Consider allowing more PCs by using the \"ks\" argument.\n",
      "  warnings.warn(('data supported use of {} NAM PCs, which is the maximum considered. '+\\\n",
      "/data/srlab/lrumker/MCSC_Project/cna/src/cna/tools/_association.py:79: UserWarning: global association p-value attained minimal possible value. Consider increasing Nnull\n",
      "  warnings.warn('global association p-value attained minimal possible value. '+\\\n"
     ]
    },
    {
     "name": "stdout",
     "output_type": "stream",
     "text": [
      "9.999000099990002e-05\n",
      "NK\n",
      "[4, 13]\n",
      "9.999000099990002e-05\n",
      "allcells\n",
      "[5, 16]\n",
      "9.999000099990002e-05\n",
      "Myeloid\n",
      "[2, 5]\n",
      "9.999000099990002e-05\n"
     ]
    },
    {
     "name": "stderr",
     "output_type": "stream",
     "text": [
      "/PHShome/lar24/anaconda3/envs/py3_clone/lib/python3.8/site-packages/numpy/lib/function_base.py:2642: RuntimeWarning: invalid value encountered in true_divide\n",
      "  c /= stddev[:, None]\n",
      "/PHShome/lar24/anaconda3/envs/py3_clone/lib/python3.8/site-packages/numpy/lib/function_base.py:2643: RuntimeWarning: invalid value encountered in true_divide\n",
      "  c /= stddev[None, :]\n"
     ]
    },
    {
     "name": "stdout",
     "output_type": "stream",
     "text": [
      "T\n",
      "[4, 15]\n",
      "9.999000099990002e-05\n"
     ]
    }
   ],
   "source": [
    "nnull=10000\n",
    "for celltype in [\"B\", \"NK\", \"allcells\", \"Myeloid\", \"T\"]:\n",
    "    print(celltype)\n",
    "    np.random.seed(0)\n",
    "\n",
    "    d = cna.read(\"/data/srlab/lrumker/MCSC_Project/cna-prs/results/sc_objects/1K1K_casecontrol_\"+celltype+\".h5ad\")\n",
    "\n",
    "    # Select k based on cumulative % variance explained\n",
    "    max_nampc = []\n",
    "    for cum_var_exp in [0.50, 0.80]:\n",
    "        max_nampc.append(np.min(np.where(np.cumsum(d.uns['NAM_varexp'])>cum_var_exp)[0]))\n",
    "    print(max_nampc)\n",
    "    res = cna.tl.association(d, d.samplem.Rheumatoid_arthritis, batches = d.samplem.batch, \n",
    "                     covs = d.samplem[['age', 'sex_M']], ks = max_nampc, Nnull=nnull)\n",
    "    print(res.p)\n",
    "\n",
    "    vargene_cors = []\n",
    "    for i_gene in np.arange(d.var.shape[0]):\n",
    "        vargene_cors.append(np.corrcoef(d.X[res.kept, i_gene], res.ncorrs)[0,1])\n",
    "    res.vargene_cors=pd.DataFrame({'gene':d.var.index, 'cor': vargene_cors})\n",
    "\n",
    "    res.UMAP1 = d.obsm['X_umap'][res.kept,0]\n",
    "    res.UMAP2 = d.obsm['X_umap'][res.kept,1]\n",
    "\n",
    "    pickle.dump(res, open(\"/data/srlab/lrumker/MCSC_Project/cna-prs/results/RA_casecontrol/1K1K_casecontrol_\"+celltype+\".p\", 'wb'))"
   ]
  },
  {
   "cell_type": "markdown",
   "id": "e0ea07c3",
   "metadata": {},
   "source": [
    "## Assemble results"
   ]
  },
  {
   "cell_type": "code",
   "execution_count": 6,
   "id": "9666379d",
   "metadata": {},
   "outputs": [
    {
     "data": {
      "text/html": [
       "<div>\n",
       "<style scoped>\n",
       "    .dataframe tbody tr th:only-of-type {\n",
       "        vertical-align: middle;\n",
       "    }\n",
       "\n",
       "    .dataframe tbody tr th {\n",
       "        vertical-align: top;\n",
       "    }\n",
       "\n",
       "    .dataframe thead th {\n",
       "        text-align: right;\n",
       "    }\n",
       "</style>\n",
       "<table border=\"1\" class=\"dataframe\">\n",
       "  <thead>\n",
       "    <tr style=\"text-align: right;\">\n",
       "      <th></th>\n",
       "      <th>Cell Type</th>\n",
       "      <th>N cases</th>\n",
       "      <th>N conrtrols</th>\n",
       "      <th>P</th>\n",
       "    </tr>\n",
       "  </thead>\n",
       "  <tbody>\n",
       "    <tr>\n",
       "      <th>0</th>\n",
       "      <td>Myeloid</td>\n",
       "      <td>9</td>\n",
       "      <td>9</td>\n",
       "      <td>$&lt;$1e-4</td>\n",
       "    </tr>\n",
       "    <tr>\n",
       "      <th>0</th>\n",
       "      <td>allcells</td>\n",
       "      <td>16</td>\n",
       "      <td>16</td>\n",
       "      <td>$&lt;$1e-4</td>\n",
       "    </tr>\n",
       "    <tr>\n",
       "      <th>0</th>\n",
       "      <td>NK</td>\n",
       "      <td>15</td>\n",
       "      <td>15</td>\n",
       "      <td>$&lt;$1e-4</td>\n",
       "    </tr>\n",
       "    <tr>\n",
       "      <th>0</th>\n",
       "      <td>B</td>\n",
       "      <td>15</td>\n",
       "      <td>15</td>\n",
       "      <td>$&lt;$1e-4</td>\n",
       "    </tr>\n",
       "    <tr>\n",
       "      <th>0</th>\n",
       "      <td>T</td>\n",
       "      <td>16</td>\n",
       "      <td>16</td>\n",
       "      <td>$&lt;$1e-4</td>\n",
       "    </tr>\n",
       "  </tbody>\n",
       "</table>\n",
       "</div>"
      ],
      "text/plain": [
       "  Cell Type  N cases  N conrtrols        P\n",
       "0   Myeloid        9            9  $<$1e-4\n",
       "0  allcells       16           16  $<$1e-4\n",
       "0        NK       15           15  $<$1e-4\n",
       "0         B       15           15  $<$1e-4\n",
       "0         T       16           16  $<$1e-4"
      ]
     },
     "execution_count": 6,
     "metadata": {},
     "output_type": "execute_result"
    }
   ],
   "source": [
    "all_res = pd.DataFrame({})\n",
    "for celltype in [\"Myeloid\", \"allcells\", \"NK\", \"B\", \"T\"]:\n",
    "    res = pickle.load(open(\"/data/srlab/lrumker/MCSC_Project/cna-prs/results/RA_casecontrol/1K1K_casecontrol_\"+\\\n",
    "                                celltype+\".p\", 'rb'))\n",
    "    d = cna.read(\"/data/srlab/lrumker/MCSC_Project/cna-prs/results/sc_objects/1K1K_casecontrol_\"+celltype+\".h5ad\")\n",
    "    new = pd.DataFrame({\"Cell Type\": [celltype],\n",
    "                        \"N cases\": [d.samplem.loc[d.samplem.Rheumatoid_arthritis==1,].shape[0]], \n",
    "                        \"N conrtrols\": [d.samplem.loc[d.samplem.Rheumatoid_arthritis==0,].shape[0]], \n",
    "                        \"P\": [r\"$<$1e-4\"]})\n",
    "    all_res = pd.concat([all_res, new])\n",
    "\n",
    "table_latex = all_res.to_latex(index = False,  escape=False,\n",
    "              column_format='p{1.8cm}|p{1.8cm}|p{1.8cm}|p{1.8cm}')\n",
    "table_latex = table_latex.replace(\"\\\\\\n\", \"\\\\ \\hline\\n\") # add lines between rows\n",
    "with open('/data/srlab/lrumker/MCSC_Project/cna-qtl/tables/supptable.ra_cc_results.tex','w') as tf:\n",
    "    tf.write(table_latex)\n",
    "all_res"
   ]
  }
 ],
 "metadata": {
  "kernelspec": {
   "display_name": "Python 3 (ipykernel)",
   "language": "python",
   "name": "python3"
  },
  "language_info": {
   "codemirror_mode": {
    "name": "ipython",
    "version": 3
   },
   "file_extension": ".py",
   "mimetype": "text/x-python",
   "name": "python",
   "nbconvert_exporter": "python",
   "pygments_lexer": "ipython3",
   "version": "3.8.10"
  }
 },
 "nbformat": 4,
 "nbformat_minor": 5
}
