{
 "cells": [
  {
   "cell_type": "markdown",
   "id": "cd2c41a3",
   "metadata": {},
   "source": [
    "# Differential expression of eGene by cluster cell type"
   ]
  },
  {
   "cell_type": "markdown",
   "id": "940d818a",
   "metadata": {},
   "source": [
    "Adapted from single-cell poisson mixed effects eQTL model without cell state interaction from Nathan A, et al, 2023. Single-cell eQTL models reveal dynamic T cell state dependence of disease loci. Nature.\n",
    "\n",
    "Specifically, we adapt the single-cell linear mixed effects eQTL model without an eQTL <-> cell state interaction to quantify the variance explained in gene expression by cell type cluster assignment.\n",
    "\n",
    "See: https://github.com/immunogenomics/sceQTL/blob/main/scripts/singlecell/linear_nostate.R"
   ]
  },
  {
   "cell_type": "code",
   "execution_count": 1,
   "id": "93e3fab8",
   "metadata": {},
   "outputs": [
    {
     "name": "stderr",
     "output_type": "stream",
     "text": [
      "Loading required package: Matrix\n",
      "\n"
     ]
    }
   ],
   "source": [
    "library(argparse)\n",
    "library(lme4)\n",
    "library(Matrix)\n",
    "set.seed(0)"
   ]
  },
  {
   "cell_type": "markdown",
   "id": "881e1bda",
   "metadata": {},
   "source": [
    "## BCL2A1"
   ]
  },
  {
   "cell_type": "code",
   "execution_count": 2,
   "id": "865b8d47",
   "metadata": {},
   "outputs": [],
   "source": [
    "args = {}\n",
    "args$lead_snp = \"15:80263217:C:T\"\n",
    "args$src_filepath=\"/data/srlab/lrumker/MCSC_Project/cna-qtl/eqtls/results/sceQTL/inputs/\"\n",
    "args$celltype_expr=\"allcells\"\n",
    "args$celltype_geno=\"Myeloid\"\n",
    "args$geno=\"/data/srlab/lrumker/MCSC_Project/cna-qtl/results/geno_munge/cis_snps/Myeloid_15:80263217:C:T_cis.DS.vcf.gz\"\n",
    "args$geno_ids=\"/data/srlab/lrumker/datasets/onek1k/geno/sample_labels/sample_list_chr15.txt\""
   ]
  },
  {
   "cell_type": "code",
   "execution_count": 3,
   "id": "36819f52",
   "metadata": {},
   "outputs": [],
   "source": [
    "# load phenotype and covariate data\n",
    "expr_file=paste0(args$src_filepath,\"custom_\",args$celltype_geno,'_',args$lead_snp,'_csaQTL_test_',args$celltype_expr,'_eQTLs_selgene_exp.csv')\n",
    "exprs_raw = read.csv(expr_file, row.names = 1) #raw UMI counts\n",
    "pca_res = read.csv(paste0(args$src_filepath, args$celltype_expr, \"_ePCs.csv\"), row.names = 1) # gene expression PCs\n",
    "cell_meta = read.csv(paste0(args$src_filepath,args$celltype_expr, \"_cellmeta.csv\")) # cell and donor covariates"
   ]
  },
  {
   "cell_type": "code",
   "execution_count": 4,
   "id": "0cc15769",
   "metadata": {},
   "outputs": [],
   "source": [
    "gene=\"BCL2A1\"\n",
    "data = cbind(cbind(exprs_raw, pca_res), cell_meta)\n",
    "data[,gene] = as.numeric(data[,gene]) \n",
    "data$id = factor(data$id)\n",
    "data$age = scale(data$age)\n",
    "data$nCount_RNA = scale(log(data$nCount_RNA)) # nUMI\n",
    "data['E'] = data[,gene]"
   ]
  },
  {
   "cell_type": "code",
   "execution_count": 5,
   "id": "2c7022e6",
   "metadata": {},
   "outputs": [
    {
     "data": {
      "text/html": [
       "<table class=\"dataframe\">\n",
       "<caption>A data.frame: 1 × 4</caption>\n",
       "<thead>\n",
       "\t<tr><th></th><th scope=col>GENE</th><th scope=col>BETA</th><th scope=col>SE</th><th scope=col>P</th></tr>\n",
       "\t<tr><th></th><th scope=col>&lt;chr&gt;</th><th scope=col>&lt;dbl&gt;</th><th scope=col>&lt;dbl&gt;</th><th scope=col>&lt;dbl&gt;</th></tr>\n",
       "</thead>\n",
       "<tbody>\n",
       "\t<tr><th scope=row>Estimate</th><td>BCL2A1</td><td>2.072498</td><td>0.0102238</td><td>0</td></tr>\n",
       "</tbody>\n",
       "</table>\n"
      ],
      "text/latex": [
       "A data.frame: 1 × 4\n",
       "\\begin{tabular}{r|llll}\n",
       "  & GENE & BETA & SE & P\\\\\n",
       "  & <chr> & <dbl> & <dbl> & <dbl>\\\\\n",
       "\\hline\n",
       "\tEstimate & BCL2A1 & 2.072498 & 0.0102238 & 0\\\\\n",
       "\\end{tabular}\n"
      ],
      "text/markdown": [
       "\n",
       "A data.frame: 1 × 4\n",
       "\n",
       "| <!--/--> | GENE &lt;chr&gt; | BETA &lt;dbl&gt; | SE &lt;dbl&gt; | P &lt;dbl&gt; |\n",
       "|---|---|---|---|---|\n",
       "| Estimate | BCL2A1 | 2.072498 | 0.0102238 | 0 |\n",
       "\n"
      ],
      "text/plain": [
       "         GENE   BETA     SE        P\n",
       "Estimate BCL2A1 2.072498 0.0102238 0"
      ]
     },
     "metadata": {},
     "output_type": "display_data"
    }
   ],
   "source": [
    "# How strongly does CD16+ monocyte cell type membership predict BCL2A1 expression?\n",
    "data['isCD16pos'] = 1*(data$celltype==\"CD16 Mono\")\n",
    "full_model <- lme4::glmer(formula = E~isCD16pos+(1|id)+(1|batch)+age+sex+nCount_RNA+percent.mt+gPC1+gPC2+gPC3+gPC4+gPC5+gPC6,\n",
    "                          family = \"poisson\", nAGQ=0, data=data, control = glmerControl(optimizer = \"nloptwrap\"))\n",
    "null_model <- lme4::glmer(formula = E~(1|id)+(1|batch)+age+sex+nCount_RNA+percent.mt+gPC1+gPC2+gPC3+gPC4+gPC5+gPC6,\n",
    "                          family = \"poisson\", nAGQ=0, data= data, control = glmerControl(optimizer = \"nloptwrap\"))\n",
    "model_lrt <- anova(null_model, full_model)\n",
    "res = data.frame(\"GENE\" = gene,\n",
    "         \"BETA\" = summary(full_model)$coefficients[2,][1], #celltype beta\n",
    "        \"SE\" = summary(full_model)$coefficients[2,][2], #celltype se\n",
    "        \"P\" = model_lrt$`Pr(>Chisq)`[2])\n",
    "res"
   ]
  },
  {
   "cell_type": "markdown",
   "id": "6fa49b59",
   "metadata": {},
   "source": [
    "## Not included in maunscript:  KLRC1 eQTL in NK subtypes"
   ]
  },
  {
   "cell_type": "code",
   "execution_count": 6,
   "id": "75074dad",
   "metadata": {},
   "outputs": [],
   "source": [
    "args = {}\n",
    "args$lead_snp = \"12:10583611:C:T\"\n",
    "args$src_filepath=\"/data/srlab/lrumker/MCSC_Project/cna-qtl/eqtls/results/sceQTL/inputs/\"\n",
    "args$celltype_expr=\"NK\"\n",
    "args$celltype_geno=\"NK\"\n",
    "args$geno=\"/data/srlab/lrumker/MCSC_Project/cna-qtl/results/geno_munge/cis_snps/NK_12:10583611:C:T_cis.DS.vcf.gz\"\n",
    "args$geno_ids=\"/data/srlab/lrumker/datasets/onek1k/geno/sample_labels/sample_list_chr12.txt\""
   ]
  },
  {
   "cell_type": "code",
   "execution_count": 7,
   "id": "d1651dba",
   "metadata": {},
   "outputs": [],
   "source": [
    "# load phenotype and covariate data\n",
    "expr_file=paste0(args$src_filepath,args$celltype_geno,'_',args$lead_snp,'_csaQTL_test_',args$celltype_expr,'_eQTLs_selgene_exp.csv')\n",
    "exprs_raw = read.csv(expr_file, row.names = 1) #raw UMI counts\n",
    "pca_res = read.csv(paste0(args$src_filepath, args$celltype_expr, \"_ePCs.csv\"), row.names = 1) # gene expression PCs\n",
    "cell_meta = read.csv(paste0(args$src_filepath,args$celltype_expr, \"_cellmeta.csv\")) # cell and donor covariates"
   ]
  },
  {
   "cell_type": "code",
   "execution_count": 8,
   "id": "d2046bf8",
   "metadata": {},
   "outputs": [],
   "source": [
    "gene=\"KLRC1\"\n",
    "data = cbind(cbind(exprs_raw, pca_res), cell_meta)\n",
    "data[,gene] = as.numeric(data[,gene]) \n",
    "data$id = factor(data$id)\n",
    "data$age = scale(data$age)\n",
    "data$nCount_RNA = scale(log(data$nCount_RNA)) # nUMI\n",
    "\n",
    "# load genotype data\n",
    "geno <- read.table(args$geno, row.names=1)\n",
    "geno_ids = read.table(args$geno_ids)\n",
    "geno_ids = as.character(geno_ids[1,])\n",
    "colnames(geno) = geno_ids\n",
    "geno = geno[,colnames(geno) %in% unique(data$id)] # only donors that passed QC\n",
    "data['E'] = data[,gene]"
   ]
  },
  {
   "cell_type": "code",
   "execution_count": 9,
   "id": "8bd56acd",
   "metadata": {},
   "outputs": [
    {
     "data": {
      "text/html": [
       "<table class=\"dataframe\">\n",
       "<caption>A data.frame: 1 × 5</caption>\n",
       "<thead>\n",
       "\t<tr><th></th><th scope=col>SNP</th><th scope=col>GENE</th><th scope=col>BETA</th><th scope=col>SE</th><th scope=col>P</th></tr>\n",
       "\t<tr><th></th><th scope=col>&lt;chr&gt;</th><th scope=col>&lt;chr&gt;</th><th scope=col>&lt;dbl&gt;</th><th scope=col>&lt;dbl&gt;</th><th scope=col>&lt;dbl&gt;</th></tr>\n",
       "</thead>\n",
       "<tbody>\n",
       "\t<tr><th scope=row>Estimate</th><td>12:10583611:C:T</td><td>KLRC1</td><td>-0.3970231</td><td>0.02833444</td><td>3.4982e-41</td></tr>\n",
       "</tbody>\n",
       "</table>\n"
      ],
      "text/latex": [
       "A data.frame: 1 × 5\n",
       "\\begin{tabular}{r|lllll}\n",
       "  & SNP & GENE & BETA & SE & P\\\\\n",
       "  & <chr> & <chr> & <dbl> & <dbl> & <dbl>\\\\\n",
       "\\hline\n",
       "\tEstimate & 12:10583611:C:T & KLRC1 & -0.3970231 & 0.02833444 & 3.4982e-41\\\\\n",
       "\\end{tabular}\n"
      ],
      "text/markdown": [
       "\n",
       "A data.frame: 1 × 5\n",
       "\n",
       "| <!--/--> | SNP &lt;chr&gt; | GENE &lt;chr&gt; | BETA &lt;dbl&gt; | SE &lt;dbl&gt; | P &lt;dbl&gt; |\n",
       "|---|---|---|---|---|---|\n",
       "| Estimate | 12:10583611:C:T | KLRC1 | -0.3970231 | 0.02833444 | 3.4982e-41 |\n",
       "\n"
      ],
      "text/plain": [
       "         SNP             GENE  BETA       SE         P         \n",
       "Estimate 12:10583611:C:T KLRC1 -0.3970231 0.02833444 3.4982e-41"
      ]
     },
     "metadata": {},
     "output_type": "display_data"
    }
   ],
   "source": [
    "# Just test csaQTL lead snp\n",
    "G_snp = data.frame(\"G\" = as.numeric(as.character(geno[rownames(geno)==args$lead_snp, match(data$id, colnames(geno))])))\n",
    "mod_data = cbind(data, G_snp)\n",
    "tryCatch({\n",
    "    full_model <- lme4::glmer(formula = E~G+(1|id)+(1|batch)+age+sex+nCount_RNA+percent.mt+gPC1+gPC2+gPC3+gPC4+gPC5+gPC6+ePC1+ePC2+ePC3+ePC4+ePC5,\n",
    "                          family = \"poisson\", nAGQ=0, data= mod_data, control = glmerControl(optimizer = \"nloptwrap\"))\n",
    "    null_model <- lme4::glmer(formula = E~(1|id)+(1|batch)+age+sex+nCount_RNA+percent.mt+gPC1+gPC2+gPC3+gPC4+gPC5+gPC6+ePC1+ePC2+ePC3+ePC4+ePC5,\n",
    "                              family = \"poisson\", nAGQ=0, data= mod_data, control = glmerControl(optimizer = \"nloptwrap\"))\n",
    "    model_lrt <- anova(null_model, full_model)\n",
    "    res = data.frame(\"SNP\" = args$lead_snp, \"GENE\" = gene,\n",
    "             \"BETA\" = summary(full_model)$coefficients[2,][1], #G beta\n",
    "            \"SE\" = summary(full_model)$coefficients[2,][2], #G se\n",
    "            \"P\" = model_lrt$`Pr(>Chisq)`[2])\n",
    "    }, error=function(cond){return(NA)})\n",
    "res"
   ]
  },
  {
   "cell_type": "code",
   "execution_count": 10,
   "id": "545178bf",
   "metadata": {},
   "outputs": [
    {
     "data": {
      "text/html": [
       "<table class=\"dataframe\">\n",
       "<caption>A data.frame: 1 × 4</caption>\n",
       "<thead>\n",
       "\t<tr><th></th><th scope=col>GENE</th><th scope=col>BETA</th><th scope=col>SE</th><th scope=col>P</th></tr>\n",
       "\t<tr><th></th><th scope=col>&lt;chr&gt;</th><th scope=col>&lt;dbl&gt;</th><th scope=col>&lt;dbl&gt;</th><th scope=col>&lt;dbl&gt;</th></tr>\n",
       "</thead>\n",
       "<tbody>\n",
       "\t<tr><th scope=row>Estimate</th><td>KLRC1</td><td>1.02341</td><td>0.01156346</td><td>0</td></tr>\n",
       "</tbody>\n",
       "</table>\n"
      ],
      "text/latex": [
       "A data.frame: 1 × 4\n",
       "\\begin{tabular}{r|llll}\n",
       "  & GENE & BETA & SE & P\\\\\n",
       "  & <chr> & <dbl> & <dbl> & <dbl>\\\\\n",
       "\\hline\n",
       "\tEstimate & KLRC1 & 1.02341 & 0.01156346 & 0\\\\\n",
       "\\end{tabular}\n"
      ],
      "text/markdown": [
       "\n",
       "A data.frame: 1 × 4\n",
       "\n",
       "| <!--/--> | GENE &lt;chr&gt; | BETA &lt;dbl&gt; | SE &lt;dbl&gt; | P &lt;dbl&gt; |\n",
       "|---|---|---|---|---|\n",
       "| Estimate | KLRC1 | 1.02341 | 0.01156346 | 0 |\n",
       "\n"
      ],
      "text/plain": [
       "         GENE  BETA    SE         P\n",
       "Estimate KLRC1 1.02341 0.01156346 0"
      ]
     },
     "metadata": {},
     "output_type": "display_data"
    }
   ],
   "source": [
    "# How strongly does NK subtype predict KLRC1 expression?\n",
    "data['isCD56br'] = 1*(data$celltype==\"NK_CD56bright\")\n",
    "full_model <- lme4::glmer(formula = E~isCD56br+(1|id)+(1|batch)+age+sex+nCount_RNA+percent.mt,\n",
    "                          family = \"poisson\", nAGQ=0, data=data, control = glmerControl(optimizer = \"nloptwrap\"))\n",
    "null_model <- lme4::glmer(formula = E~(1|id)+(1|batch)+age+sex+nCount_RNA+percent.mt,\n",
    "                          family = \"poisson\", nAGQ=0, data= data, control = glmerControl(optimizer = \"nloptwrap\"))\n",
    "model_lrt <- anova(null_model, full_model)\n",
    "res = data.frame(\"GENE\" = gene,\n",
    "         \"BETA\" = summary(full_model)$coefficients[2,][1], #celltype beta\n",
    "        \"SE\" = summary(full_model)$coefficients[2,][2], #celltype se\n",
    "        \"P\" = model_lrt$`Pr(>Chisq)`[2])\n",
    "res"
   ]
  },
  {
   "cell_type": "code",
   "execution_count": 11,
   "id": "3a9bf263",
   "metadata": {},
   "outputs": [
    {
     "data": {
      "text/html": [
       "<table class=\"dataframe\">\n",
       "<caption>A data.frame: 1 × 5</caption>\n",
       "<thead>\n",
       "\t<tr><th></th><th scope=col>SNP</th><th scope=col>GENE</th><th scope=col>BETA</th><th scope=col>SE</th><th scope=col>P</th></tr>\n",
       "\t<tr><th></th><th scope=col>&lt;chr&gt;</th><th scope=col>&lt;chr&gt;</th><th scope=col>&lt;dbl&gt;</th><th scope=col>&lt;dbl&gt;</th><th scope=col>&lt;dbl&gt;</th></tr>\n",
       "</thead>\n",
       "<tbody>\n",
       "\t<tr><th scope=row>Estimate</th><td>12:10583611:C:T</td><td>KLRC1</td><td>-0.1120682</td><td>0.03416342</td><td>0.001040051</td></tr>\n",
       "</tbody>\n",
       "</table>\n"
      ],
      "text/latex": [
       "A data.frame: 1 × 5\n",
       "\\begin{tabular}{r|lllll}\n",
       "  & SNP & GENE & BETA & SE & P\\\\\n",
       "  & <chr> & <chr> & <dbl> & <dbl> & <dbl>\\\\\n",
       "\\hline\n",
       "\tEstimate & 12:10583611:C:T & KLRC1 & -0.1120682 & 0.03416342 & 0.001040051\\\\\n",
       "\\end{tabular}\n"
      ],
      "text/markdown": [
       "\n",
       "A data.frame: 1 × 5\n",
       "\n",
       "| <!--/--> | SNP &lt;chr&gt; | GENE &lt;chr&gt; | BETA &lt;dbl&gt; | SE &lt;dbl&gt; | P &lt;dbl&gt; |\n",
       "|---|---|---|---|---|---|\n",
       "| Estimate | 12:10583611:C:T | KLRC1 | -0.1120682 | 0.03416342 | 0.001040051 |\n",
       "\n"
      ],
      "text/plain": [
       "         SNP             GENE  BETA       SE         P          \n",
       "Estimate 12:10583611:C:T KLRC1 -0.1120682 0.03416342 0.001040051"
      ]
     },
     "metadata": {},
     "output_type": "display_data"
    }
   ],
   "source": [
    "# retest eQTL in CD56br subset\n",
    "data = data[data$celltype==\"NK_CD56bright\",]\n",
    "\n",
    "# Just test lead snp\n",
    "G_snp = data.frame(\"G\" = as.numeric(as.character(geno[rownames(geno)==args$lead_snp, match(data$id, colnames(geno))])))\n",
    "mod_data = cbind(data, G_snp)\n",
    "tryCatch({\n",
    "    full_model <- lme4::glmer(formula = E~G+(1|id)+(1|batch)+age+sex+nCount_RNA+percent.mt+gPC1+gPC2+gPC3+gPC4+gPC5+gPC6+ePC1+ePC2+ePC3+ePC4+ePC5,\n",
    "                          family = \"poisson\", nAGQ=0, data= mod_data, control = glmerControl(optimizer = \"nloptwrap\"))\n",
    "    null_model <- lme4::glmer(formula = E~(1|id)+(1|batch)+age+sex+nCount_RNA+percent.mt+gPC1+gPC2+gPC3+gPC4+gPC5+gPC6+ePC1+ePC2+ePC3+ePC4+ePC5,\n",
    "                              family = \"poisson\", nAGQ=0, data= mod_data, control = glmerControl(optimizer = \"nloptwrap\"))\n",
    "    model_lrt <- anova(null_model, full_model)\n",
    "    res = data.frame(\"SNP\" = args$lead_snp, \"GENE\" = gene,\n",
    "             \"BETA\" = summary(full_model)$coefficients[2,][1], #G beta\n",
    "            \"SE\" = summary(full_model)$coefficients[2,][2], #G se\n",
    "            \"P\" = model_lrt$`Pr(>Chisq)`[2])\n",
    "    }, error=function(cond){return(NA)})\n",
    "res"
   ]
  },
  {
   "cell_type": "code",
   "execution_count": 12,
   "id": "dd9cd81c",
   "metadata": {},
   "outputs": [
    {
     "data": {
      "text/html": [
       "0.0518812094257738"
      ],
      "text/latex": [
       "0.0518812094257738"
      ],
      "text/markdown": [
       "0.0518812094257738"
      ],
      "text/plain": [
       "[1] 0.05188121"
      ]
     },
     "metadata": {},
     "output_type": "display_data"
    }
   ],
   "source": [
    "# Fraction of all NK cells that are CD56bright\n",
    "5786/111524"
   ]
  }
 ],
 "metadata": {
  "kernelspec": {
   "display_name": "R",
   "language": "R",
   "name": "ir"
  },
  "language_info": {
   "codemirror_mode": "r",
   "file_extension": ".r",
   "mimetype": "text/x-r-source",
   "name": "R",
   "pygments_lexer": "r",
   "version": "4.0.5"
  }
 },
 "nbformat": 4,
 "nbformat_minor": 5
}
