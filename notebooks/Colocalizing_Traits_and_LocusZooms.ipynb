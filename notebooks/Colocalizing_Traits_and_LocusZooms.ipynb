{
 "cells": [
  {
   "cell_type": "markdown",
   "id": "91d8a80a",
   "metadata": {},
   "source": [
    "# Colocalization of clinical traits with csaQTLs, LocusZoom plots"
   ]
  },
  {
   "cell_type": "code",
   "execution_count": 1,
   "id": "86ec6043",
   "metadata": {},
   "outputs": [
    {
     "name": "stderr",
     "output_type": "stream",
     "text": [
      "This is a new update to coloc.\n",
      "\n"
     ]
    }
   ],
   "source": [
    "library(coloc)\n",
    "library(scales)\n",
    "fig_dir = \"/data/srlab/lrumker/MCSC_Project/cna-qtl/figs/\"\n",
    "lz_folder=\"/data/srlab/lrumker/MCSC_Project/cna-qtl/locus_zoom_fns/\"\n",
    "source(paste0(lz_folder,\"locus_zoom.R\"))\n",
    "Unique.genes <- read.delim(paste0(lz_folder, \"Gencode_GRCh37_Genes_UniqueList2021.txt\"), \n",
    "                           stringsAsFactors = FALSE, header = TRUE)"
   ]
  },
  {
   "cell_type": "markdown",
   "id": "91e36926",
   "metadata": {},
   "source": [
    "## Helper functions"
   ]
  },
  {
   "cell_type": "code",
   "execution_count": 2,
   "id": "51ad167a",
   "metadata": {},
   "outputs": [],
   "source": [
    "compute_regional_LD<-function(geno, ref_gwas, ref_leadsnp){\n",
    "    ref_leadpos=as.numeric(strsplit(ref_leadsnp,\":\")[[1]][2])\n",
    "    lead_geno = as.numeric(geno[match(ref_leadsnp,row.names(geno)),])\n",
    "    get_LD <-function(i_snp, geno, lead_geno){\n",
    "        return(cor(lead_geno, as.numeric(geno[i_snp,]))**2)\n",
    "    }\n",
    "    all_LD = apply(as.matrix(c(1:nrow(geno)), ncol=1), 1, get_LD, geno, lead_geno)\n",
    "\n",
    "    locus_LD=data.frame(\"CHR_A\"= ref_gwas$CHR,\n",
    "                       \"BP_A\"= rep(ref_leadpos,nrow(ref_gwas)),\n",
    "                       \"SNP_A\"= rep(ref_gwas$SNP[ref_gwas$BP==ref_leadpos],nrow(ref_gwas)),\n",
    "                       \"CHR_B\"= ref_gwas$CHR,\n",
    "                       \"BP_B\"= ref_gwas$BP,\n",
    "                       \"SNP_B\"= ref_gwas$SNP,\n",
    "                       \"R2\"=all_LD)\n",
    "    row.names(locus_LD) = c(1:nrow(locus_LD))\n",
    "    return(locus_LD)\n",
    "}"
   ]
  },
  {
   "cell_type": "code",
   "execution_count": 3,
   "id": "e59d9a8a",
   "metadata": {},
   "outputs": [],
   "source": [
    "region_plot_our_gwas<-function(celltype, lead_snp, window_sz, \n",
    "                               secondary_snps=c(), secondary_names=c(), plot_type=\"jpg\"){\n",
    "    lead_pos = strsplit(lead_snp, \":\")[[1]][2]\n",
    "    chr = strsplit(lead_snp, \":\")[[1]][1]\n",
    "\n",
    "    # Import sumstats from our csaQTL GWAS\n",
    "    gwas_res = read.table(paste0(\"/data/srlab/lrumker/MCSC_Project/cna-qtl/results/gwas_\",\n",
    "                                 celltype, \"/gwas_res_\",lead_snp,\"_cis.tsv\"), \n",
    "                          stringsAsFactors = FALSE, comment.char = \"\", header = TRUE)\n",
    "    gwas_res$CHR = gwas_res$X.CHROM\n",
    "    gwas_res$BP = gwas_res$POS\n",
    "\n",
    "    # Import allele doses for computing LD, note: includes all 973 donors\n",
    "    geno = read.delim(paste0(\"/data/srlab/lrumker/MCSC_Project/cna-qtl/results/geno_munge/cis_snps/\", celltype,\n",
    "                      \"_\",lead_snp,\"_cis.DS.vcf.gz\"), stringsAsFactors = FALSE, header = FALSE, row.names=1)\n",
    "    rownames(geno) = trimws(rownames(geno))\n",
    "\n",
    "    # Import rsIDs\n",
    "    cis_annovar=read.delim(paste0(\"/data/srlab/lrumker/MCSC_Project/cna-qtl/results/annovar/\", celltype, \n",
    "                                 \"_\",lead_snp,\"_cis.hg19_multianno.txt\"), stringsAsFactors = FALSE, header = TRUE)\n",
    "    keep_snps = which(rownames(geno) %in% gwas_res$ID)\n",
    "    geno = geno[keep_snps,]\n",
    "    cis_annovar = cis_annovar[keep_snps,]\n",
    "    \n",
    "    gwas_res$SNP = cis_annovar$avsnp147\n",
    "    if(length(secondary_snps)>0){\n",
    "        for(i in c(1:length(secondary_snps))){\n",
    "            gwas_res$SNP[which(gwas_res$SNP==secondary_snps[i])] = secondary_names[i]\n",
    "        }\n",
    "    }\n",
    "\n",
    "    # Compute LD for region to lead SNP\n",
    "    locus_LD = compute_regional_LD(geno, gwas_res, lead_snp)\n",
    "    \n",
    "    # Plot LocusZoom\n",
    "    if(length(secondary_snps)>0){\n",
    "        locus.zoom(data = gwas_res[,c(\"CHR\", \"SNP\", \"BP\", \"P\")], rsid.check=FALSE, \n",
    "            region = c(as.numeric(chr), as.numeric(lead_pos)-(window_sz/2), as.numeric(lead_pos)+(window_sz/2)),                            \n",
    "           offset_bp = 0, ld.file = locus_LD, genes.data = Unique.genes, \n",
    "           plot.title = paste0(\"csaQTL associations in \",celltype, \" cells\"),\n",
    "           file.name = paste0(fig_dir,celltype,\"_chr\",chr,\"_regional.\",plot_type), plot.type = plot_type,\n",
    "           secondary.snp = secondary_names, secondary.label = TRUE) \n",
    "    }else{\n",
    "        locus.zoom(data = gwas_res[,c(\"CHR\", \"SNP\", \"BP\", \"P\")], rsid.check=FALSE, \n",
    "           region = c(as.numeric(chr), as.numeric(lead_pos)-(window_sz/2), as.numeric(lead_pos)+(window_sz/2)),             \n",
    "           offset_bp = 0, ld.file = locus_LD, genes.data = Unique.genes, \n",
    "           plot.title = paste0(\"csaQTL associations in \",celltype, \" cells\"), plot.type = plot_type,\n",
    "           file.name = paste0(fig_dir,celltype,\"_chr\",chr,\"_regional.\",plot_type)) \n",
    "    }\n",
    "    return(locus_LD)\n",
    "}"
   ]
  },
  {
   "cell_type": "code",
   "execution_count": 4,
   "id": "d37806df",
   "metadata": {},
   "outputs": [],
   "source": [
    "keep_shared_snps<-function(ref_gwas, celltype, lead_snp){\n",
    "    lead_pos = strsplit(lead_snp, \":\")[[1]][2]\n",
    "    \n",
    "    # Import allele doses for computing LD, note: includes all 973 donors\n",
    "    geno = read.delim(paste0(\"/data/srlab/lrumker/MCSC_Project/cna-qtl/results/geno_munge/cis_snps/\", celltype,\n",
    "                      \"_\",lead_snp,\"_cis.DS.vcf.gz\"), stringsAsFactors = FALSE, header = FALSE, row.names=1)\n",
    "    rownames(geno) = trimws(rownames(geno))\n",
    "    \n",
    "    # add rsIDs\n",
    "    cis_annovar=read.delim(paste0(\"/data/srlab/lrumker/MCSC_Project/cna-qtl/results/annovar/\", celltype, \n",
    "                                 \"_\",lead_snp,\"_cis.hg19_multianno.txt\"), stringsAsFactors = FALSE, header = TRUE)\n",
    "    rsIDs = cis_annovar$avsnp147\n",
    "\n",
    "    # retain alleles from our GWAS in ref GWAS\n",
    "    ref_gwas['ID'] = paste0(ref_gwas$CHR,\":\",ref_gwas$BP,\":\", ref_gwas$other_allele, \":\", ref_gwas$effect_allele)\n",
    "    ref_gwas['ID_flip'] = paste0(ref_gwas$CHR,\":\",ref_gwas$BP,\":\", ref_gwas$effect_allele, \":\", ref_gwas$other_allele)\n",
    "    ref_gwas['found'] = ref_gwas$ID %in% rownames(geno)\n",
    "    ref_gwas['found_flip'] = ref_gwas$ID_flip %in% rownames(geno)\n",
    "    ref_gwas['found_any'] = as.numeric(ref_gwas['found'] | ref_gwas['found_flip'])\n",
    "    ref_gwas = ref_gwas[ref_gwas$found_any==1,]\n",
    "    ref_gwas['ID_merged'] = ref_gwas$ID\n",
    "    ref_gwas[ref_gwas$found_flip,'ID_merged']=ref_gwas$ID_flip[ref_gwas$found_flip]\n",
    "    \n",
    "    # If assocs to same SNP reflected in two rows, keep first row only\n",
    "    rownames(ref_gwas) = c(1:nrow(ref_gwas))\n",
    "    ref_gwas = ref_gwas[match(unique(ref_gwas$ID_merged), ref_gwas$ID_merged),]\n",
    "    rownames(ref_gwas) = c(1:nrow(ref_gwas))\n",
    "    \n",
    "    # retain same alleles our GWAS\n",
    "    keep_snp = match(ref_gwas$ID_merged, row.names(geno))\n",
    "    geno = geno[keep_snp,]\n",
    "    ref_gwas$SNP = rsIDs[keep_snp]\n",
    "    \n",
    "    return(list(ref_gwas, geno))\n",
    "}"
   ]
  },
  {
   "cell_type": "markdown",
   "id": "35331eb0",
   "metadata": {},
   "source": [
    "## NK csaQTL at 11q24.3"
   ]
  },
  {
   "cell_type": "code",
   "execution_count": 5,
   "id": "2af11b82",
   "metadata": {},
   "outputs": [],
   "source": [
    "celltype=\"NK\"\n",
    "set.seed(0)\n",
    "locus_LD = region_plot_our_gwas(celltype=\"NK\", lead_snp='11:128070535:A:G', window_sz=1000000, \n",
    "                                secondary_snps=c('rs479122'), secondary_names = c(\"ETS1 eQTL\"))"
   ]
  },
  {
   "cell_type": "markdown",
   "id": "080fe66b",
   "metadata": {},
   "source": [
    "## NK csaQTL at 12p13.2"
   ]
  },
  {
   "cell_type": "code",
   "execution_count": 6,
   "id": "a07fdf66",
   "metadata": {},
   "outputs": [],
   "source": [
    "set.seed(0)\n",
    "# eQTL KLRC1 lead snp is 12:10594848:C:A // rs10909609; A is assoc. with decreased KLRC1\n",
    "# psoriasis meta lead snp is rs11053802-T, 4.17 x 10-9 (OR>1)\n",
    "lead_snp='12:10583611:C:T'\n",
    "lead_snp_rsID='rs3003'\n",
    "locus_LD = region_plot_our_gwas(celltype=\"NK\", lead_snp='12:10583611:C:T', window_sz=400000, \n",
    "                                secondary_snps=c('rs11053802',  # Psoriasis GWAS hit\n",
    "                                                          'rs10909609'), # KLRC1 eQTL\n",
    "                                secondary_names = c(\"Psoriasis\", \"KLRC1 eQTL\"),\n",
    "                               plot_type=\"svg\")"
   ]
  },
  {
   "cell_type": "code",
   "execution_count": 7,
   "id": "5394fbe1",
   "metadata": {},
   "outputs": [
    {
     "data": {
      "text/html": [
       "<table class=\"dataframe\">\n",
       "<caption>A data.frame: 1 × 7</caption>\n",
       "<thead>\n",
       "\t<tr><th></th><th scope=col>CHR_A</th><th scope=col>BP_A</th><th scope=col>SNP_A</th><th scope=col>CHR_B</th><th scope=col>BP_B</th><th scope=col>SNP_B</th><th scope=col>R2</th></tr>\n",
       "\t<tr><th></th><th scope=col>&lt;int&gt;</th><th scope=col>&lt;dbl&gt;</th><th scope=col>&lt;chr&gt;</th><th scope=col>&lt;int&gt;</th><th scope=col>&lt;int&gt;</th><th scope=col>&lt;chr&gt;</th><th scope=col>&lt;dbl&gt;</th></tr>\n",
       "</thead>\n",
       "<tbody>\n",
       "\t<tr><th scope=row>3147</th><td>12</td><td>10583611</td><td>rs3003</td><td>12</td><td>10597207</td><td>Psoriasis</td><td>0.4955531</td></tr>\n",
       "</tbody>\n",
       "</table>\n"
      ],
      "text/latex": [
       "A data.frame: 1 × 7\n",
       "\\begin{tabular}{r|lllllll}\n",
       "  & CHR\\_A & BP\\_A & SNP\\_A & CHR\\_B & BP\\_B & SNP\\_B & R2\\\\\n",
       "  & <int> & <dbl> & <chr> & <int> & <int> & <chr> & <dbl>\\\\\n",
       "\\hline\n",
       "\t3147 & 12 & 10583611 & rs3003 & 12 & 10597207 & Psoriasis & 0.4955531\\\\\n",
       "\\end{tabular}\n"
      ],
      "text/markdown": [
       "\n",
       "A data.frame: 1 × 7\n",
       "\n",
       "| <!--/--> | CHR_A &lt;int&gt; | BP_A &lt;dbl&gt; | SNP_A &lt;chr&gt; | CHR_B &lt;int&gt; | BP_B &lt;int&gt; | SNP_B &lt;chr&gt; | R2 &lt;dbl&gt; |\n",
       "|---|---|---|---|---|---|---|---|\n",
       "| 3147 | 12 | 10583611 | rs3003 | 12 | 10597207 | Psoriasis | 0.4955531 |\n",
       "\n"
      ],
      "text/plain": [
       "     CHR_A BP_A     SNP_A  CHR_B BP_B     SNP_B     R2       \n",
       "3147 12    10583611 rs3003 12    10597207 Psoriasis 0.4955531"
      ]
     },
     "metadata": {},
     "output_type": "display_data"
    }
   ],
   "source": [
    "# csaQTL rs3003\n",
    "# LD between Tsoi et al Psoriasis GWAS lead association (p=4.17e-9) and our lead snp\n",
    "locus_LD[locus_LD$BP_B=='10597207',] # No sumstats for Tsoi et al available"
   ]
  },
  {
   "cell_type": "markdown",
   "id": "9a5506ac",
   "metadata": {},
   "source": [
    "### Psoriasis"
   ]
  },
  {
   "cell_type": "code",
   "execution_count": 8,
   "id": "342eb816",
   "metadata": {},
   "outputs": [
    {
     "name": "stderr",
     "output_type": "stream",
     "text": [
      "Warning message in check_dataset(d = dataset2, 2):\n",
      "“minimum p value is: 4.3646e-06\n",
      "If this is what you expected, this is not a problem.\n",
      "If this is not as small as you expected, please check the 02_data vignette.”\n",
      "Warning message in sdY.est(d$varbeta, d$MAF, d$N):\n",
      "“estimating sdY from maf and varbeta, please directly supply sdY if known”\n"
     ]
    },
    {
     "name": "stdout",
     "output_type": "stream",
     "text": [
      "PP.H0.abf PP.H1.abf PP.H2.abf PP.H3.abf PP.H4.abf \n",
      " 2.65e-15  9.93e-03  2.18e-14  8.09e-02  9.09e-01 \n",
      "[1] \"PP abf for shared variant: 90.9%\"\n"
     ]
    }
   ],
   "source": [
    "# cat GCST90019016_buildGRCh37.tsv | awk 'NR==1 || $1==12' | awk 'NR==1 || $2<20583611' | awk 'NR==1 || $2>583611' > psoriasis.munged.chr12.txt\n",
    "psoriasis_gwas = read.table(\"/data/srlab/lrumker/MCSC_Project/cna-qtl/ref_gwas/sumstats/psoriasis.munged.chr12.txt\",\n",
    "                     header = TRUE, stringsAsFactors = FALSE)\n",
    "rownames(psoriasis_gwas)=c(1:nrow(psoriasis_gwas))\n",
    "psoriasis_gwas$CHR = psoriasis_gwas$chromosome\n",
    "psoriasis_gwas$BP = psoriasis_gwas$base_pair_location\n",
    "psoriasis_gwas$P = psoriasis_gwas$p_value\n",
    "psoriasis_gwas$SE = psoriasis_gwas$standard_error\n",
    "psoriasis_gwas$BETA = psoriasis_gwas$beta\n",
    "psoriasis_gwas$N = rep(44161, nrow(psoriasis_gwas))\n",
    "psoriasis_gwas$effect_allele = toupper(psoriasis_gwas$effect_allele)\n",
    "psoriasis_gwas$other_allele = toupper(psoriasis_gwas$other_allele)\n",
    "\n",
    "# Import allele doses for computing LD\n",
    "out_obj = keep_shared_snps(ref_gwas=psoriasis_gwas, celltype=celltype, lead_snp=lead_snp)\n",
    "psoriasis_gwas=out_obj[[1]]\n",
    "geno=out_obj[[2]]\n",
    "\n",
    "# MAF not reported, use from our cohort\n",
    "G_info = read.delim(paste0(\"/data/srlab/lrumker/MCSC_Project/cna-qtl/results/geno_munge/cis_snps/\", celltype,\n",
    "                      \"_\",lead_snp,\"_cis.vcf.gz\"), stringsAsFactors = FALSE, header = TRUE, skip=15)\n",
    "rownames(G_info) = G_info$ID\n",
    "G_info = G_info[psoriasis_gwas$ID_merged,]\n",
    "G_info = G_info[,c(1:9)]\n",
    "get_MAF <-function(info_str){\n",
    "    maf_str = strsplit(info_str,\";\")[[1]][2]\n",
    "    return(as.numeric(strsplit(maf_str,\"=\")[[1]][2]))\n",
    "}\n",
    "G_info$MAF = apply(as.matrix(G_info$INFO, ncol=1),1,get_MAF)\n",
    "psoriasis_gwas$MAF = G_info$MAF\n",
    "\n",
    "# coloc\n",
    "gwas_res = read.table(paste0(\"/data/srlab/lrumker/MCSC_Project/cna-qtl/results/coloc/gwas_local_\",\n",
    "                             celltype,\"_\" ,lead_snp,\"_cis.qassoc\"), \n",
    "                      header=TRUE, stringsAsFactors=FALSE)\n",
    "gwas_res = gwas_res[gwas_res$SNP %in% psoriasis_gwas$ID_merged,]\n",
    "all_phenos = read.table(paste0(\"/data/srlab/lrumker/MCSC_Project/cna-qtl/results/gwas_\", \n",
    "                        celltype,\"/spheno.tsv\"), header = TRUE, row.names=1)\n",
    "lead_pheno_trait_sd = sd(all_phenos[paste0(\"X\", paste0(strsplit(lead_snp, \":\")[[1]], collapse=\".\"))][,1])\n",
    "our_gwas_coloc = list(beta = gwas_res$BETA, varbeta = gwas_res$SE**2,\n",
    "                    sdY = lead_pheno_trait_sd,type = \"quant\", snp = gwas_res$SNP)\n",
    "ref_gwas_coloc = list(beta = psoriasis_gwas$BETA, varbeta = psoriasis_gwas$SE**2,\n",
    "                    N=psoriasis_gwas$N, MAF=psoriasis_gwas$MAF, type = \"quant\", snp = psoriasis_gwas$ID_merged)\n",
    "coloc_res <- coloc.abf(dataset1=our_gwas_coloc, dataset2=ref_gwas_coloc)"
   ]
  },
  {
   "cell_type": "markdown",
   "id": "f0e0102e",
   "metadata": {},
   "source": [
    "### Flow-based cell state abundance traits"
   ]
  },
  {
   "cell_type": "code",
   "execution_count": 9,
   "id": "03ee33a9",
   "metadata": {},
   "outputs": [],
   "source": [
    "lead_snp='12:10583611:C:T'\n",
    "lead_snp_rsID='rs3003'\n",
    "celltype=\"NK\""
   ]
  },
  {
   "cell_type": "markdown",
   "id": "29931e51",
   "metadata": {},
   "source": [
    "Sumstats sourcing and preprocessing:\n",
    "\n",
    "Monocyte count Vuckovic\n",
    "- wget https://ftp.ebi.ac.uk/pub/databases/gwas/summary_statistics/GCST90002001-GCST90003000/GCST90002393/GCST90002393_buildGRCh37.tsv\n",
    "- cat GCST90002393_buildGRCh37.tsv | awk 'NR==1 || $3==12' | awk 'NR==1 || $5<20583611' | awk 'NR==1 || $5>583611' > mono_count.munged.chr12.txt\n",
    "\n",
    "Neutrophil percentage of white cells Vuckovic \n",
    "- wget  https://ftp.ebi.ac.uk/pub/databases/gwas/summary_statistics/GCST90002001-GCST90003000/GCST90002399/GCST90002399_buildGRCh37.tsv\n",
    "- cat GCST90002399_buildGRCh37.tsv | awk 'NR==1 || $3==12' | awk 'NR==1 || $5<20583611' | awk 'NR==1 || $5>583611' > neut_pct_leuk.munged.chr12.txt\n",
    "\n",
    "Monocyte percentage of white cells vuckovic\n",
    "- wget https://ftp.ebi.ac.uk/pub/databases/gwas/summary_statistics/GCST90002001-GCST90003000/GCST90002394/GCST90002394_buildGRCh37.tsv\n",
    "- cat GCST90002394_buildGRCh37.tsv | awk 'NR==1 || $3==12' | awk 'NR==1 || $5<20583611' | awk 'NR==1 || $5>583611' > mono_pct_leuk.munged.chr12.txt\n",
    "\n",
    "Lymphocyte count vuckovic \n",
    "- wget https://ftp.ebi.ac.uk/pub/databases/gwas/summary_statistics/GCST90002001-GCST90003000/GCST90002388/GCST90002388_buildGRCh37.tsv\n",
    "- cat GCST90002388_buildGRCh37.tsv | awk 'NR==1 || $3==12' | awk 'NR==1 || $5<20583611' | awk 'NR==1 || $5>583611' > lymph_count.munged.chr12.txt"
   ]
  },
  {
   "cell_type": "code",
   "execution_count": 10,
   "id": "ee1c1cfc",
   "metadata": {},
   "outputs": [
    {
     "name": "stdout",
     "output_type": "stream",
     "text": [
      "[1] \"mono_count\"\n"
     ]
    },
    {
     "name": "stderr",
     "output_type": "stream",
     "text": [
      "Warning message in sdY.est(d$varbeta, d$MAF, d$N):\n",
      "“estimating sdY from maf and varbeta, please directly supply sdY if known”\n"
     ]
    },
    {
     "name": "stdout",
     "output_type": "stream",
     "text": [
      "PP.H0.abf PP.H1.abf PP.H2.abf PP.H3.abf PP.H4.abf \n",
      " 5.22e-53  1.96e-40  1.17e-13  4.37e-01  5.63e-01 \n",
      "[1] \"PP abf for shared variant: 56.3%\"\n",
      "[1] \"lymph_count\"\n"
     ]
    },
    {
     "name": "stderr",
     "output_type": "stream",
     "text": [
      "Warning message in sdY.est(d$varbeta, d$MAF, d$N):\n",
      "“estimating sdY from maf and varbeta, please directly supply sdY if known”\n"
     ]
    },
    {
     "name": "stdout",
     "output_type": "stream",
     "text": [
      "PP.H0.abf PP.H1.abf PP.H2.abf PP.H3.abf PP.H4.abf \n",
      "2.38e-231 8.94e-219  2.67e-13  1.00e+00  9.77e-15 \n",
      "[1] \"PP abf for shared variant: 9.77e-13%\"\n",
      "[1] \"neut_pct_leuk\"\n"
     ]
    },
    {
     "name": "stderr",
     "output_type": "stream",
     "text": [
      "Warning message in sdY.est(d$varbeta, d$MAF, d$N):\n",
      "“estimating sdY from maf and varbeta, please directly supply sdY if known”\n"
     ]
    },
    {
     "name": "stdout",
     "output_type": "stream",
     "text": [
      "PP.H0.abf PP.H1.abf PP.H2.abf PP.H3.abf PP.H4.abf \n",
      " 2.69e-75  1.01e-62  2.67e-13  1.00e+00  8.98e-15 \n",
      "[1] \"PP abf for shared variant: 8.98e-13%\"\n",
      "[1] \"mono_pct_leuk\"\n"
     ]
    },
    {
     "name": "stderr",
     "output_type": "stream",
     "text": [
      "Warning message in sdY.est(d$varbeta, d$MAF, d$N):\n",
      "“estimating sdY from maf and varbeta, please directly supply sdY if known”\n"
     ]
    },
    {
     "name": "stdout",
     "output_type": "stream",
     "text": [
      "PP.H0.abf PP.H1.abf PP.H2.abf PP.H3.abf PP.H4.abf \n",
      " 1.74e-53  6.52e-41  1.16e-14  4.24e-02  9.58e-01 \n",
      "[1] \"PP abf for shared variant: 95.8%\"\n"
     ]
    }
   ],
   "source": [
    "cohort_size = 563085 # for Vuckovic et al \n",
    "trait_name=\"mono_count\"\n",
    "for(trait_name in c(\"mono_count\", \"lymph_count\", \"neut_pct_leuk\", \"mono_pct_leuk\")){\n",
    "    print(trait_name)\n",
    "    csa_trait_gwas = read.table(paste0(\"/data/srlab/lrumker/MCSC_Project/cna-qtl/ref_gwas/sumstats/\",\n",
    "                                       trait_name,\".munged.chr12.txt\"),\n",
    "                         header = TRUE, stringsAsFactors = FALSE)\n",
    "\n",
    "    rownames(csa_trait_gwas)=c(1:nrow(csa_trait_gwas))\n",
    "    csa_trait_gwas$CHR = csa_trait_gwas$chromosome\n",
    "    csa_trait_gwas$BP = csa_trait_gwas$base_pair_location\n",
    "    csa_trait_gwas$P = csa_trait_gwas$p_value\n",
    "    csa_trait_gwas$SE = csa_trait_gwas$standard_error\n",
    "    csa_trait_gwas$BETA = csa_trait_gwas$beta\n",
    "    csa_trait_gwas$N = rep(cohort_size, nrow(csa_trait_gwas))\n",
    "    csa_trait_gwas$effect_allele = toupper(csa_trait_gwas$effect_allele)\n",
    "    csa_trait_gwas$other_allele = toupper(csa_trait_gwas$other_allele)\n",
    "    csa_trait_gwas$MAF = csa_trait_gwas$MA_FREQ\n",
    "\n",
    "    # Import allele doses for computing LD\n",
    "    out_obj = keep_shared_snps(ref_gwas=csa_trait_gwas, celltype=celltype, lead_snp=lead_snp)\n",
    "    csa_trait_gwas=out_obj[[1]]\n",
    "    geno=out_obj[[2]]\n",
    "\n",
    "    # coloc\n",
    "    gwas_res = read.table(paste0(\"/data/srlab/lrumker/MCSC_Project/cna-qtl/results/coloc/gwas_local_\",\n",
    "                                 celltype,\"_\" ,lead_snp,\"_cis.qassoc\"), \n",
    "                          header=TRUE, stringsAsFactors=FALSE)\n",
    "    gwas_res = gwas_res[gwas_res$SNP %in% csa_trait_gwas$ID_merged,]\n",
    "    all_phenos = read.table(paste0(\"/data/srlab/lrumker/MCSC_Project/cna-qtl/results/gwas_\", \n",
    "                            celltype,\"/spheno.tsv\"), header = TRUE, row.names=1)\n",
    "    lead_pheno_trait_sd = sd(all_phenos[paste0(\"X\", paste0(strsplit(lead_snp, \":\")[[1]], collapse=\".\"))][,1])\n",
    "    our_gwas_coloc = list(beta = gwas_res$BETA, varbeta = gwas_res$SE**2,\n",
    "                        sdY = lead_pheno_trait_sd,type = \"quant\", snp = gwas_res$SNP)\n",
    "    ref_gwas_coloc = list(beta = csa_trait_gwas$BETA, varbeta = csa_trait_gwas$SE**2,\n",
    "                        N=csa_trait_gwas$N, MAF=csa_trait_gwas$MAF, type = \"quant\", snp = csa_trait_gwas$ID_merged)\n",
    "    coloc_res <- coloc.abf(dataset1=our_gwas_coloc, dataset2=ref_gwas_coloc)\n",
    "}"
   ]
  },
  {
   "cell_type": "markdown",
   "id": "4cebafa9",
   "metadata": {},
   "source": [
    "Sumstats sourcing and preprocessing:\n",
    "\n",
    "Effector Memory CD4+ T cell %T cell\t(Orru et al.) \n",
    "- wget https://ftp.ebi.ac.uk/pub/databases/gwas/summary_statistics/GCST90001001-GCST90002000/GCST90001544/GCST90001544_buildGRCh37.tsv.gz\n",
    "- zcat GCST90001544_buildGRCh37.tsv.gz | awk 'NR==1||$1==12' > TEM_CD4_pct_T.munged.chr12.txt"
   ]
  },
  {
   "cell_type": "code",
   "execution_count": 11,
   "id": "7ca51a18",
   "metadata": {},
   "outputs": [],
   "source": [
    "orru_gwas = read.delim(\"/data/srlab/lrumker/MCSC_Project/cna-qtl/ref_gwas/sumstats/TEM_CD4_pct_T.munged.chr12.txt\",\n",
    "                     header = TRUE, stringsAsFactors = FALSE)\n",
    "rownames(orru_gwas)=c(1:nrow(orru_gwas))\n",
    "orru_gwas$CHR = orru_gwas$chromosome\n",
    "orru_gwas$BP = orru_gwas$base_pair_location\n",
    "orru_gwas$P = orru_gwas$p_value\n",
    "orru_gwas$SE = orru_gwas$standard_error\n",
    "orru_gwas$BETA = orru_gwas$beta"
   ]
  },
  {
   "cell_type": "code",
   "execution_count": 12,
   "id": "ae334f6b",
   "metadata": {},
   "outputs": [],
   "source": [
    "# Import allele doses for computing LD\n",
    "out_obj = keep_shared_snps(ref_gwas=orru_gwas, celltype=celltype, lead_snp=lead_snp)\n",
    "orru_gwas=out_obj[[1]]\n",
    "geno=out_obj[[2]]\n",
    "orru_gwas = orru_gwas[orru_gwas$MAF !=0,]"
   ]
  },
  {
   "cell_type": "code",
   "execution_count": 13,
   "id": "a46e584e",
   "metadata": {},
   "outputs": [
    {
     "data": {
      "text/html": [
       "<table class=\"dataframe\">\n",
       "<caption>A data.frame: 1 × 22</caption>\n",
       "<thead>\n",
       "\t<tr><th></th><th scope=col>chromosome</th><th scope=col>base_pair_location</th><th scope=col>effect_allele</th><th scope=col>other_allele</th><th scope=col>N</th><th scope=col>MAF</th><th scope=col>effect_allele_frequency</th><th scope=col>beta</th><th scope=col>standard_error</th><th scope=col>p_value</th><th scope=col>⋯</th><th scope=col>P</th><th scope=col>SE</th><th scope=col>BETA</th><th scope=col>ID</th><th scope=col>ID_flip</th><th scope=col>found</th><th scope=col>found_flip</th><th scope=col>found_any</th><th scope=col>ID_merged</th><th scope=col>SNP</th></tr>\n",
       "\t<tr><th></th><th scope=col>&lt;int&gt;</th><th scope=col>&lt;int&gt;</th><th scope=col>&lt;chr&gt;</th><th scope=col>&lt;chr&gt;</th><th scope=col>&lt;int&gt;</th><th scope=col>&lt;dbl&gt;</th><th scope=col>&lt;dbl&gt;</th><th scope=col>&lt;dbl&gt;</th><th scope=col>&lt;dbl&gt;</th><th scope=col>&lt;dbl&gt;</th><th scope=col>⋯</th><th scope=col>&lt;dbl&gt;</th><th scope=col>&lt;dbl&gt;</th><th scope=col>&lt;dbl&gt;</th><th scope=col>&lt;chr&gt;</th><th scope=col>&lt;chr&gt;</th><th scope=col>&lt;lgl&gt;</th><th scope=col>&lt;lgl&gt;</th><th scope=col>&lt;dbl&gt;</th><th scope=col>&lt;chr&gt;</th><th scope=col>&lt;chr&gt;</th></tr>\n",
       "</thead>\n",
       "<tbody>\n",
       "\t<tr><th scope=row>3115</th><td>12</td><td>10583297</td><td>A</td><td>G</td><td>3427</td><td>0.1936</td><td>0.8064</td><td>-0.1686</td><td>0.02956</td><td>1.257e-08</td><td>⋯</td><td>1.257e-08</td><td>0.02956</td><td>-0.1686</td><td>12:10583297:G:A</td><td>12:10583297:A:G</td><td>TRUE</td><td>FALSE</td><td>1</td><td>12:10583297:G:A</td><td>rs2981595</td></tr>\n",
       "</tbody>\n",
       "</table>\n"
      ],
      "text/latex": [
       "A data.frame: 1 × 22\n",
       "\\begin{tabular}{r|lllllllllllllllllllll}\n",
       "  & chromosome & base\\_pair\\_location & effect\\_allele & other\\_allele & N & MAF & effect\\_allele\\_frequency & beta & standard\\_error & p\\_value & ⋯ & P & SE & BETA & ID & ID\\_flip & found & found\\_flip & found\\_any & ID\\_merged & SNP\\\\\n",
       "  & <int> & <int> & <chr> & <chr> & <int> & <dbl> & <dbl> & <dbl> & <dbl> & <dbl> & ⋯ & <dbl> & <dbl> & <dbl> & <chr> & <chr> & <lgl> & <lgl> & <dbl> & <chr> & <chr>\\\\\n",
       "\\hline\n",
       "\t3115 & 12 & 10583297 & A & G & 3427 & 0.1936 & 0.8064 & -0.1686 & 0.02956 & 1.257e-08 & ⋯ & 1.257e-08 & 0.02956 & -0.1686 & 12:10583297:G:A & 12:10583297:A:G & TRUE & FALSE & 1 & 12:10583297:G:A & rs2981595\\\\\n",
       "\\end{tabular}\n"
      ],
      "text/markdown": [
       "\n",
       "A data.frame: 1 × 22\n",
       "\n",
       "| <!--/--> | chromosome &lt;int&gt; | base_pair_location &lt;int&gt; | effect_allele &lt;chr&gt; | other_allele &lt;chr&gt; | N &lt;int&gt; | MAF &lt;dbl&gt; | effect_allele_frequency &lt;dbl&gt; | beta &lt;dbl&gt; | standard_error &lt;dbl&gt; | p_value &lt;dbl&gt; | ⋯ ⋯ | P &lt;dbl&gt; | SE &lt;dbl&gt; | BETA &lt;dbl&gt; | ID &lt;chr&gt; | ID_flip &lt;chr&gt; | found &lt;lgl&gt; | found_flip &lt;lgl&gt; | found_any &lt;dbl&gt; | ID_merged &lt;chr&gt; | SNP &lt;chr&gt; |\n",
       "|---|---|---|---|---|---|---|---|---|---|---|---|---|---|---|---|---|---|---|---|---|---|\n",
       "| 3115 | 12 | 10583297 | A | G | 3427 | 0.1936 | 0.8064 | -0.1686 | 0.02956 | 1.257e-08 | ⋯ | 1.257e-08 | 0.02956 | -0.1686 | 12:10583297:G:A | 12:10583297:A:G | TRUE | FALSE | 1 | 12:10583297:G:A | rs2981595 |\n",
       "\n"
      ],
      "text/plain": [
       "     chromosome base_pair_location effect_allele other_allele N    MAF   \n",
       "3115 12         10583297           A             G            3427 0.1936\n",
       "     effect_allele_frequency beta    standard_error p_value   ⋯ P        \n",
       "3115 0.8064                  -0.1686 0.02956        1.257e-08 ⋯ 1.257e-08\n",
       "     SE      BETA    ID              ID_flip         found found_flip found_any\n",
       "3115 0.02956 -0.1686 12:10583297:G:A 12:10583297:A:G TRUE  FALSE      1        \n",
       "     ID_merged       SNP      \n",
       "3115 12:10583297:G:A rs2981595"
      ]
     },
     "metadata": {},
     "output_type": "display_data"
    }
   ],
   "source": [
    "orru_gwas[order(orru_gwas$P),][1,] # lead snp"
   ]
  },
  {
   "cell_type": "code",
   "execution_count": 14,
   "id": "168a51a9",
   "metadata": {},
   "outputs": [
    {
     "name": "stderr",
     "output_type": "stream",
     "text": [
      "Warning message in sdY.est(d$varbeta, d$MAF, d$N):\n",
      "“estimating sdY from maf and varbeta, please directly supply sdY if known”\n"
     ]
    },
    {
     "name": "stdout",
     "output_type": "stream",
     "text": [
      "PP.H0.abf PP.H1.abf PP.H2.abf PP.H3.abf PP.H4.abf \n",
      " 1.02e-17  3.54e-05  6.20e-15  2.06e-02  9.79e-01 \n",
      "[1] \"PP abf for shared variant: 97.9%\"\n"
     ]
    }
   ],
   "source": [
    "# coloc\n",
    "gwas_res = read.table(paste0(\"/data/srlab/lrumker/MCSC_Project/cna-qtl/results/coloc/gwas_local_\",\n",
    "                             celltype,\"_\" ,lead_snp,\"_cis.qassoc\"), \n",
    "                      header=TRUE, stringsAsFactors=FALSE)\n",
    "gwas_res = gwas_res[gwas_res$SNP %in% orru_gwas$ID_merged,]\n",
    "all_phenos = read.table(paste0(\"/data/srlab/lrumker/MCSC_Project/cna-qtl/results/gwas_\", \n",
    "                        celltype,\"/spheno.tsv\"), header = TRUE, row.names=1)\n",
    "lead_pheno_trait_sd = sd(all_phenos[paste0(\"X\", paste0(strsplit(lead_snp, \":\")[[1]], collapse=\".\"))][,1])\n",
    "our_gwas_coloc = list(beta = gwas_res$BETA, varbeta = gwas_res$SE**2,\n",
    "                    sdY = lead_pheno_trait_sd,type = \"quant\", snp = gwas_res$SNP)\n",
    "ref_gwas_coloc = list(beta = orru_gwas$BETA, varbeta = orru_gwas$SE**2,\n",
    "                    N=orru_gwas$N, MAF=orru_gwas$MAF, type = \"quant\", snp = orru_gwas$ID_merged)\n",
    "coloc_res <- coloc.abf(dataset1=our_gwas_coloc, dataset2=ref_gwas_coloc)"
   ]
  },
  {
   "cell_type": "markdown",
   "id": "9668f977",
   "metadata": {},
   "source": [
    "Sumstats sourcing and preprocessing:\n",
    "\n",
    "Granulocyte % myeloid white cells (Astle et al.)\n",
    "- wget https://ftp.ebi.ac.uk/pub/databases/gwas/summary_statistics/GCST004001-GCST005000/GCST004608/gran_p_myeloid_wbc_original_files/gran_p_myeloid_wbc_build37_169545_20161212.tsv.gz\n",
    "- zcat gran_p_myeloid_wbc_build37_169545_20161212.tsv.gz | awk 'NR==1 || $3==12' | awk 'NR==1||\n",
    " $4<20583611' | awk 'NR==1 || $4>583611' > gran_pct_myeloid.munged.chr12.txt\n"
   ]
  },
  {
   "cell_type": "code",
   "execution_count": 15,
   "id": "4244fdb7",
   "metadata": {},
   "outputs": [],
   "source": [
    "astle_gwas = read.delim(\"/data/srlab/lrumker/MCSC_Project/cna-qtl/ref_gwas/sumstats/gran_pct_myeloid.munged.chr12.txt\",\n",
    "                     header = TRUE, stringsAsFactors = FALSE)\n",
    "rownames(astle_gwas)=c(1:nrow(astle_gwas))\n",
    "cohort_size=169545\n",
    "astle_gwas$BETA = astle_gwas$EFFECT\n",
    "astle_gwas$effect_allele = astle_gwas$ALT\n",
    "astle_gwas$other_allele = astle_gwas$REF\n",
    "astle_gwas$MAF = astle_gwas$MA_FREQ\n",
    "astle_gwas$N = rep(cohort_size, nrow(astle_gwas))"
   ]
  },
  {
   "cell_type": "code",
   "execution_count": 16,
   "id": "115b387d",
   "metadata": {},
   "outputs": [],
   "source": [
    "# Import allele doses for computing LD\n",
    "out_obj = keep_shared_snps(ref_gwas=astle_gwas, celltype=celltype, lead_snp=lead_snp)\n",
    "astle_gwas=out_obj[[1]]\n",
    "geno=out_obj[[2]]"
   ]
  },
  {
   "cell_type": "code",
   "execution_count": 17,
   "id": "b5eb1892",
   "metadata": {},
   "outputs": [
    {
     "data": {
      "text/html": [
       "<table class=\"dataframe\">\n",
       "<caption>A data.frame: 1 × 25</caption>\n",
       "<thead>\n",
       "\t<tr><th></th><th scope=col>VARIANT</th><th scope=col>ID</th><th scope=col>CHR</th><th scope=col>BP</th><th scope=col>REF</th><th scope=col>ALT</th><th scope=col>ALT_MINOR</th><th scope=col>DIRECTION</th><th scope=col>EFFECT</th><th scope=col>SE</th><th scope=col>⋯</th><th scope=col>effect_allele</th><th scope=col>other_allele</th><th scope=col>MAF</th><th scope=col>N</th><th scope=col>ID_flip</th><th scope=col>found</th><th scope=col>found_flip</th><th scope=col>found_any</th><th scope=col>ID_merged</th><th scope=col>SNP</th></tr>\n",
       "\t<tr><th></th><th scope=col>&lt;chr&gt;</th><th scope=col>&lt;chr&gt;</th><th scope=col>&lt;int&gt;</th><th scope=col>&lt;int&gt;</th><th scope=col>&lt;chr&gt;</th><th scope=col>&lt;chr&gt;</th><th scope=col>&lt;lgl&gt;</th><th scope=col>&lt;chr&gt;</th><th scope=col>&lt;dbl&gt;</th><th scope=col>&lt;dbl&gt;</th><th scope=col>⋯</th><th scope=col>&lt;chr&gt;</th><th scope=col>&lt;chr&gt;</th><th scope=col>&lt;dbl&gt;</th><th scope=col>&lt;dbl&gt;</th><th scope=col>&lt;chr&gt;</th><th scope=col>&lt;lgl&gt;</th><th scope=col>&lt;lgl&gt;</th><th scope=col>&lt;dbl&gt;</th><th scope=col>&lt;chr&gt;</th><th scope=col>&lt;chr&gt;</th></tr>\n",
       "</thead>\n",
       "<tbody>\n",
       "\t<tr><th scope=row>3803</th><td>12:10581591_A_G</td><td>12:10581591:A:G</td><td>12</td><td>10581591</td><td>A</td><td>G</td><td>FALSE</td><td>+</td><td>0.04744101</td><td>0.005392098</td><td>⋯</td><td>G</td><td>A</td><td>0.1278</td><td>169545</td><td>12:10581591:G:A</td><td>TRUE</td><td>FALSE</td><td>1</td><td>12:10581591:A:G</td><td>rs2682509</td></tr>\n",
       "</tbody>\n",
       "</table>\n"
      ],
      "text/latex": [
       "A data.frame: 1 × 25\n",
       "\\begin{tabular}{r|lllllllllllllllllllll}\n",
       "  & VARIANT & ID & CHR & BP & REF & ALT & ALT\\_MINOR & DIRECTION & EFFECT & SE & ⋯ & effect\\_allele & other\\_allele & MAF & N & ID\\_flip & found & found\\_flip & found\\_any & ID\\_merged & SNP\\\\\n",
       "  & <chr> & <chr> & <int> & <int> & <chr> & <chr> & <lgl> & <chr> & <dbl> & <dbl> & ⋯ & <chr> & <chr> & <dbl> & <dbl> & <chr> & <lgl> & <lgl> & <dbl> & <chr> & <chr>\\\\\n",
       "\\hline\n",
       "\t3803 & 12:10581591\\_A\\_G & 12:10581591:A:G & 12 & 10581591 & A & G & FALSE & + & 0.04744101 & 0.005392098 & ⋯ & G & A & 0.1278 & 169545 & 12:10581591:G:A & TRUE & FALSE & 1 & 12:10581591:A:G & rs2682509\\\\\n",
       "\\end{tabular}\n"
      ],
      "text/markdown": [
       "\n",
       "A data.frame: 1 × 25\n",
       "\n",
       "| <!--/--> | VARIANT &lt;chr&gt; | ID &lt;chr&gt; | CHR &lt;int&gt; | BP &lt;int&gt; | REF &lt;chr&gt; | ALT &lt;chr&gt; | ALT_MINOR &lt;lgl&gt; | DIRECTION &lt;chr&gt; | EFFECT &lt;dbl&gt; | SE &lt;dbl&gt; | ⋯ ⋯ | effect_allele &lt;chr&gt; | other_allele &lt;chr&gt; | MAF &lt;dbl&gt; | N &lt;dbl&gt; | ID_flip &lt;chr&gt; | found &lt;lgl&gt; | found_flip &lt;lgl&gt; | found_any &lt;dbl&gt; | ID_merged &lt;chr&gt; | SNP &lt;chr&gt; |\n",
       "|---|---|---|---|---|---|---|---|---|---|---|---|---|---|---|---|---|---|---|---|---|---|\n",
       "| 3803 | 12:10581591_A_G | 12:10581591:A:G | 12 | 10581591 | A | G | FALSE | + | 0.04744101 | 0.005392098 | ⋯ | G | A | 0.1278 | 169545 | 12:10581591:G:A | TRUE | FALSE | 1 | 12:10581591:A:G | rs2682509 |\n",
       "\n"
      ],
      "text/plain": [
       "     VARIANT         ID              CHR BP       REF ALT ALT_MINOR DIRECTION\n",
       "3803 12:10581591_A_G 12:10581591:A:G 12  10581591 A   G   FALSE     +        \n",
       "     EFFECT     SE          ⋯ effect_allele other_allele MAF    N     \n",
       "3803 0.04744101 0.005392098 ⋯ G             A            0.1278 169545\n",
       "     ID_flip         found found_flip found_any ID_merged       SNP      \n",
       "3803 12:10581591:G:A TRUE  FALSE      1         12:10581591:A:G rs2682509"
      ]
     },
     "metadata": {},
     "output_type": "display_data"
    }
   ],
   "source": [
    "astle_gwas[order(astle_gwas$P),][1,] # lead snp"
   ]
  },
  {
   "cell_type": "code",
   "execution_count": 18,
   "id": "79cd87e0",
   "metadata": {},
   "outputs": [
    {
     "name": "stderr",
     "output_type": "stream",
     "text": [
      "Warning message in sdY.est(d$varbeta, d$MAF, d$N):\n",
      "“estimating sdY from maf and varbeta, please directly supply sdY if known”\n"
     ]
    },
    {
     "name": "stdout",
     "output_type": "stream",
     "text": [
      "PP.H0.abf PP.H1.abf PP.H2.abf PP.H3.abf PP.H4.abf \n",
      " 4.38e-26  1.64e-13  1.25e-13  4.69e-01  5.31e-01 \n",
      "[1] \"PP abf for shared variant: 53.1%\"\n"
     ]
    }
   ],
   "source": [
    "# coloc\n",
    "gwas_res = read.table(paste0(\"/data/srlab/lrumker/MCSC_Project/cna-qtl/results/coloc/gwas_local_\",\n",
    "                             celltype,\"_\" ,lead_snp,\"_cis.qassoc\"), \n",
    "                      header=TRUE, stringsAsFactors=FALSE)\n",
    "gwas_res = gwas_res[gwas_res$SNP %in% astle_gwas$ID_merged,]\n",
    "all_phenos = read.table(paste0(\"/data/srlab/lrumker/MCSC_Project/cna-qtl/results/gwas_\", \n",
    "                        celltype,\"/spheno.tsv\"), header = TRUE, row.names=1)\n",
    "lead_pheno_trait_sd = sd(all_phenos[paste0(\"X\", paste0(strsplit(lead_snp, \":\")[[1]], collapse=\".\"))][,1])\n",
    "our_gwas_coloc = list(beta = gwas_res$BETA, varbeta = gwas_res$SE**2,\n",
    "                    sdY = lead_pheno_trait_sd,type = \"quant\", snp = gwas_res$SNP)\n",
    "ref_gwas_coloc = list(beta = astle_gwas$BETA, varbeta = astle_gwas$SE**2,\n",
    "                    N=astle_gwas$N, MAF=astle_gwas$MAF, type = \"quant\", snp = astle_gwas$ID_merged)\n",
    "coloc_res <- coloc.abf(dataset1=our_gwas_coloc, dataset2=ref_gwas_coloc)"
   ]
  },
  {
   "cell_type": "code",
   "execution_count": 19,
   "id": "18e6457f",
   "metadata": {},
   "outputs": [],
   "source": [
    "# Export table with these results\n",
    "library(xtable)"
   ]
  },
  {
   "cell_type": "code",
   "execution_count": 20,
   "id": "76869383",
   "metadata": {},
   "outputs": [],
   "source": [
    "export = data.frame(\"Trait\"=c(\"Monocyte count\",\n",
    "                            \"Neutrophil \\\\% leukocytes\",\n",
    "                            \"Monocyte \\\\% leukocytes\",\n",
    "                            \"Lymphocyte count\",\n",
    "                            \"Effector Memory CD4+ T cell \\\\% T cell\",\n",
    "                            \"Granulocyte \\\\% myeloid white cells\"),\n",
    "                   \"Publications\" = c(\"Kachuri et al. (2021), Chen et al. (2020), Astle et al. (2016), \\\\textbf{Vuckovic et al. (2020)}, Sakaue et al. (2021)\",\n",
    "                                        \"Astle et al. (2016), \\\\textbf{Vuckovic et al. (2020)}\",\n",
    "                                        \"Astle et al. (2016), \\\\textbf{Vuckovic et al. (2020)}\",\n",
    "                                        \"Vuckovic et al. (2020)\",\n",
    "                                        \"Orrù et al. (2020)\",\n",
    "                                        \"Astle et al. (2016)\"),\n",
    "                   \"Colocalization\" = c(\"0.56\", \"$<$0.001\",\"0.96\", \"$<$0.001\", \"0.98\", \"0.53\"))"
   ]
  },
  {
   "cell_type": "code",
   "execution_count": 21,
   "id": "8a022dd8",
   "metadata": {},
   "outputs": [
    {
     "data": {
      "text/html": [
       "<table class=\"dataframe\">\n",
       "<caption>A data.frame: 6 × 3</caption>\n",
       "<thead>\n",
       "\t<tr><th scope=col>Trait</th><th scope=col>Publications</th><th scope=col>Colocalization</th></tr>\n",
       "\t<tr><th scope=col>&lt;chr&gt;</th><th scope=col>&lt;chr&gt;</th><th scope=col>&lt;chr&gt;</th></tr>\n",
       "</thead>\n",
       "<tbody>\n",
       "\t<tr><td>Monocyte count                        </td><td>Kachuri et al. (2021), Chen et al. (2020), Astle et al. (2016), \\textbf{Vuckovic et al. (2020)}, Sakaue et al. (2021)</td><td>0.56    </td></tr>\n",
       "\t<tr><td><span style=white-space:pre-wrap>Neutrophil \\% leukocytes             </span></td><td><span style=white-space:pre-wrap>Astle et al. (2016), \\textbf{Vuckovic et al. (2020)}                                                                 </span></td><td>$&lt;$0.001</td></tr>\n",
       "\t<tr><td>Monocyte \\% leukocytes               </td><td>Astle et al. (2016), \\textbf{Vuckovic et al. (2020)}                                                                 </td><td>0.96    </td></tr>\n",
       "\t<tr><td><span style=white-space:pre-wrap>Lymphocyte count                      </span></td><td><span style=white-space:pre-wrap>Vuckovic et al. (2020)                                                                                                </span></td><td>$&lt;$0.001</td></tr>\n",
       "\t<tr><td>Effector Memory CD4+ T cell \\% T cell</td><td>Orrù et al. (2020)                                                                                                    </td><td>0.98    </td></tr>\n",
       "\t<tr><td>Granulocyte \\% myeloid white cells   </td><td>Astle et al. (2016)                                                                                                   </td><td>0.53    </td></tr>\n",
       "</tbody>\n",
       "</table>\n"
      ],
      "text/latex": [
       "A data.frame: 6 × 3\n",
       "\\begin{tabular}{lll}\n",
       " Trait & Publications & Colocalization\\\\\n",
       " <chr> & <chr> & <chr>\\\\\n",
       "\\hline\n",
       "\t Monocyte count                         & Kachuri et al. (2021), Chen et al. (2020), Astle et al. (2016), \\textbackslash{}textbf\\{Vuckovic et al. (2020)\\}, Sakaue et al. (2021) & 0.56    \\\\\n",
       "\t Neutrophil \\textbackslash{}\\% leukocytes              & Astle et al. (2016), \\textbackslash{}textbf\\{Vuckovic et al. (2020)\\}                                                                  & \\$<\\$0.001\\\\\n",
       "\t Monocyte \\textbackslash{}\\% leukocytes                & Astle et al. (2016), \\textbackslash{}textbf\\{Vuckovic et al. (2020)\\}                                                                  & 0.96    \\\\\n",
       "\t Lymphocyte count                       & Vuckovic et al. (2020)                                                                                                 & \\$<\\$0.001\\\\\n",
       "\t Effector Memory CD4+ T cell \\textbackslash{}\\% T cell & Orrù et al. (2020)                                                                                                     & 0.98    \\\\\n",
       "\t Granulocyte \\textbackslash{}\\% myeloid white cells    & Astle et al. (2016)                                                                                                    & 0.53    \\\\\n",
       "\\end{tabular}\n"
      ],
      "text/markdown": [
       "\n",
       "A data.frame: 6 × 3\n",
       "\n",
       "| Trait &lt;chr&gt; | Publications &lt;chr&gt; | Colocalization &lt;chr&gt; |\n",
       "|---|---|---|\n",
       "| Monocyte count                         | Kachuri et al. (2021), Chen et al. (2020), Astle et al. (2016), \\textbf{Vuckovic et al. (2020)}, Sakaue et al. (2021) | 0.56     |\n",
       "| Neutrophil \\% leukocytes              | Astle et al. (2016), \\textbf{Vuckovic et al. (2020)}                                                                  | $&lt;$0.001 |\n",
       "| Monocyte \\% leukocytes                | Astle et al. (2016), \\textbf{Vuckovic et al. (2020)}                                                                  | 0.96     |\n",
       "| Lymphocyte count                       | Vuckovic et al. (2020)                                                                                                 | $&lt;$0.001 |\n",
       "| Effector Memory CD4+ T cell \\% T cell | Orrù et al. (2020)                                                                                                     | 0.98     |\n",
       "| Granulocyte \\% myeloid white cells    | Astle et al. (2016)                                                                                                    | 0.53     |\n",
       "\n"
      ],
      "text/plain": [
       "  Trait                                 \n",
       "1 Monocyte count                        \n",
       "2 Neutrophil \\\\% leukocytes             \n",
       "3 Monocyte \\\\% leukocytes               \n",
       "4 Lymphocyte count                      \n",
       "5 Effector Memory CD4+ T cell \\\\% T cell\n",
       "6 Granulocyte \\\\% myeloid white cells   \n",
       "  Publications                                                                                                          \n",
       "1 Kachuri et al. (2021), Chen et al. (2020), Astle et al. (2016), \\\\textbf{Vuckovic et al. (2020)}, Sakaue et al. (2021)\n",
       "2 Astle et al. (2016), \\\\textbf{Vuckovic et al. (2020)}                                                                 \n",
       "3 Astle et al. (2016), \\\\textbf{Vuckovic et al. (2020)}                                                                 \n",
       "4 Vuckovic et al. (2020)                                                                                                \n",
       "5 Orrù et al. (2020)                                                                                                    \n",
       "6 Astle et al. (2016)                                                                                                   \n",
       "  Colocalization\n",
       "1 0.56          \n",
       "2 $<$0.001      \n",
       "3 0.96          \n",
       "4 $<$0.001      \n",
       "5 0.98          \n",
       "6 0.53          "
      ]
     },
     "metadata": {},
     "output_type": "display_data"
    }
   ],
   "source": [
    "export"
   ]
  },
  {
   "cell_type": "code",
   "execution_count": 22,
   "id": "6b0e8dde",
   "metadata": {},
   "outputs": [],
   "source": [
    "table_dir=\"/data/srlab/lrumker/MCSC_Project/cna-qtl/tables/\"\n",
    "print(xtable(export, align= c(\"p{0.05\\\\textwidth}|\", \n",
    "                              \"p{0.37\\\\textwidth}|\",  \n",
    "                              \"p{0.4\\\\textwidth}|\",\n",
    "                             \"p{0.13\\\\textwidth}\")), \n",
    "      file=paste0(table_dir,\"supptable.csaQTL_pub_csaQTL_covariates.tex\"), \n",
    "      include.rownames=FALSE, sanitize.text.function = function(x) {x})"
   ]
  },
  {
   "cell_type": "markdown",
   "id": "5cd159ac",
   "metadata": {},
   "source": [
    "## NK csaQTL at 19p13.11"
   ]
  },
  {
   "cell_type": "code",
   "execution_count": 23,
   "id": "24b8b273",
   "metadata": {},
   "outputs": [],
   "source": [
    "lead_snp='19:16441973:G:A'\n",
    "lead_snp_rsID = 'rs56133626'\n",
    "set.seed(0)\n",
    "locus_LD = region_plot_our_gwas(celltype=celltype, lead_snp=lead_snp, window_sz=200000, \n",
    "                                secondary_snps=c('rs56152581', # T1D \n",
    "                                                'rs34006614'), # Asthma risk locus\n",
    "                               secondary_names = c(\"Type 1 Diabetes\", \"Asthma\")) "
   ]
  },
  {
   "cell_type": "markdown",
   "id": "21223f93",
   "metadata": {},
   "source": [
    "### Asthma"
   ]
  },
  {
   "cell_type": "code",
   "execution_count": 24,
   "id": "3f3684b5",
   "metadata": {},
   "outputs": [],
   "source": [
    "#zcat HanY_prePMID_asthma_UKBB.txt.gz | awk 'NR==1 || $2==19' | awk 'NR==1 || $3<17441973' | awk 'NR==1 || $3>15441973' > asthma.munged.chr19.txt\n",
    "# hg19 build\n",
    "asthma_gwas = read.table(\"/data/srlab/lrumker/MCSC_Project/cna-qtl/ref_gwas/sumstats/asthma.munged.chr19.txt\",\n",
    "                     header = TRUE, stringsAsFactors = FALSE)\n",
    "rownames(asthma_gwas)=c(1:nrow(asthma_gwas))\n",
    "asthma_gwas$CHR = asthma_gwas$CHR\n",
    "asthma_gwas$BP = asthma_gwas$BP\n",
    "asthma_gwas$P = asthma_gwas$P\n",
    "asthma_gwas$SE = (asthma_gwas$OR_95U - asthma_gwas$OR_95L) / 3.92\n",
    "asthma_gwas$BETA = log(asthma_gwas$OR)\n",
    "asthma_gwas$effect_allele = asthma_gwas$EA\n",
    "asthma_gwas$other_allele = asthma_gwas$NEA\n",
    "asthma_gwas$MAF = asthma_gwas$EAF\n",
    "asthma_gwas$MAF[which(asthma_gwas$MAF>0.5)] = 1-asthma_gwas$MAF[which(asthma_gwas$MAF>0.5)]\n",
    "\n",
    "# Import allele doses for computing LD\n",
    "out_obj = keep_shared_snps(ref_gwas=asthma_gwas, celltype=celltype, lead_snp=lead_snp)\n",
    "asthma_gwas=out_obj[[1]]\n",
    "geno=out_obj[[2]]\n",
    "\n",
    "# Lead SNP obtained from GWAS catalog, with liftover to convert to hg19 \n",
    "# '19:16442782:C:T' rs34006614 GWAS meta p=1e-8 allele T increases risk"
   ]
  },
  {
   "cell_type": "code",
   "execution_count": 25,
   "id": "b738e737",
   "metadata": {},
   "outputs": [
    {
     "data": {
      "text/html": [
       "<table class=\"dataframe\">\n",
       "<caption>A matrix: 2 × 2 of type dbl</caption>\n",
       "<thead>\n",
       "\t<tr><th></th><th scope=col>19:16441973:G:A</th><th scope=col>19:16442782:C:T</th></tr>\n",
       "</thead>\n",
       "<tbody>\n",
       "\t<tr><th scope=row>19:16441973:G:A</th><td>1.0000000</td><td>0.9969297</td></tr>\n",
       "\t<tr><th scope=row>19:16442782:C:T</th><td>0.9969297</td><td>1.0000000</td></tr>\n",
       "</tbody>\n",
       "</table>\n"
      ],
      "text/latex": [
       "A matrix: 2 × 2 of type dbl\n",
       "\\begin{tabular}{r|ll}\n",
       "  & 19:16441973:G:A & 19:16442782:C:T\\\\\n",
       "\\hline\n",
       "\t19:16441973:G:A & 1.0000000 & 0.9969297\\\\\n",
       "\t19:16442782:C:T & 0.9969297 & 1.0000000\\\\\n",
       "\\end{tabular}\n"
      ],
      "text/markdown": [
       "\n",
       "A matrix: 2 × 2 of type dbl\n",
       "\n",
       "| <!--/--> | 19:16441973:G:A | 19:16442782:C:T |\n",
       "|---|---|---|\n",
       "| 19:16441973:G:A | 1.0000000 | 0.9969297 |\n",
       "| 19:16442782:C:T | 0.9969297 | 1.0000000 |\n",
       "\n"
      ],
      "text/plain": [
       "                19:16441973:G:A 19:16442782:C:T\n",
       "19:16441973:G:A 1.0000000       0.9969297      \n",
       "19:16442782:C:T 0.9969297       1.0000000      "
      ]
     },
     "metadata": {},
     "output_type": "display_data"
    }
   ],
   "source": [
    "# Our csaQTL phenotype directionally correpsonds to increased risk of asthma\n",
    "cor(t(geno[c(lead_snp, '19:16442782:C:T'),]))"
   ]
  },
  {
   "cell_type": "code",
   "execution_count": 26,
   "id": "ca6babd9",
   "metadata": {},
   "outputs": [
    {
     "name": "stderr",
     "output_type": "stream",
     "text": [
      "Warning message in sdY.est(d$varbeta, d$MAF, d$N):\n",
      "“estimating sdY from maf and varbeta, please directly supply sdY if known”\n"
     ]
    },
    {
     "name": "stdout",
     "output_type": "stream",
     "text": [
      "PP.H0.abf PP.H1.abf PP.H2.abf PP.H3.abf PP.H4.abf \n",
      " 1.08e-22  3.60e-04  4.68e-21  1.46e-02  9.85e-01 \n",
      "[1] \"PP abf for shared variant: 98.5%\"\n"
     ]
    }
   ],
   "source": [
    "# coloc\n",
    "gwas_res = read.table(paste0(\"/data/srlab/lrumker/MCSC_Project/cna-qtl/results/coloc/gwas_local_\",\n",
    "                             celltype,\"_\" ,lead_snp,\"_cis.qassoc\"), \n",
    "                      header=TRUE, stringsAsFactors=FALSE)\n",
    "gwas_res = gwas_res[gwas_res$SNP %in% asthma_gwas$ID_merged,]\n",
    "all_phenos = read.table(paste0(\"/data/srlab/lrumker/MCSC_Project/cna-qtl/results/gwas_\", \n",
    "                        celltype,\"/spheno.tsv\"), header = TRUE, row.names=1)\n",
    "lead_pheno_trait_sd = sd(all_phenos[paste0(\"X\", paste0(strsplit(lead_snp, \":\")[[1]], collapse=\".\"))][,1])\n",
    "our_gwas_coloc = list(beta = gwas_res$BETA, varbeta = gwas_res$SE**2,\n",
    "                    sdY = lead_pheno_trait_sd,type = \"quant\", snp = gwas_res$SNP)\n",
    "ref_gwas_coloc = list(beta = asthma_gwas$BETA, varbeta = asthma_gwas$SE**2,\n",
    "                    N=asthma_gwas$N, MAF=asthma_gwas$MAF, type = \"quant\", snp = asthma_gwas$ID_merged)\n",
    "coloc_res <- coloc.abf(dataset1=our_gwas_coloc, dataset2=ref_gwas_coloc)"
   ]
  },
  {
   "cell_type": "markdown",
   "id": "bcbe30aa",
   "metadata": {},
   "source": [
    "### Diabetes mellitus type 1"
   ]
  },
  {
   "cell_type": "code",
   "execution_count": 27,
   "id": "89a57d6e",
   "metadata": {},
   "outputs": [
    {
     "data": {
      "text/html": [
       "<table class=\"dataframe\">\n",
       "<caption>A data.frame: 1 × 17</caption>\n",
       "<thead>\n",
       "\t<tr><th></th><th scope=col>CHR</th><th scope=col>BP</th><th scope=col>other_allele</th><th scope=col>effect_allele</th><th scope=col>sample_size</th><th scope=col>variant_id</th><th scope=col>P</th><th scope=col>BETA</th><th scope=col>SE</th><th scope=col>ID</th><th scope=col>ID_flip</th><th scope=col>found</th><th scope=col>found_flip</th><th scope=col>found_any</th><th scope=col>ID_merged</th><th scope=col>SNP</th><th scope=col>MAF</th></tr>\n",
       "\t<tr><th></th><th scope=col>&lt;int&gt;</th><th scope=col>&lt;int&gt;</th><th scope=col>&lt;chr&gt;</th><th scope=col>&lt;chr&gt;</th><th scope=col>&lt;int&gt;</th><th scope=col>&lt;chr&gt;</th><th scope=col>&lt;dbl&gt;</th><th scope=col>&lt;dbl&gt;</th><th scope=col>&lt;dbl&gt;</th><th scope=col>&lt;chr&gt;</th><th scope=col>&lt;chr&gt;</th><th scope=col>&lt;lgl&gt;</th><th scope=col>&lt;lgl&gt;</th><th scope=col>&lt;dbl&gt;</th><th scope=col>&lt;chr&gt;</th><th scope=col>&lt;chr&gt;</th><th scope=col>&lt;dbl&gt;</th></tr>\n",
       "</thead>\n",
       "<tbody>\n",
       "\t<tr><th scope=row>4316</th><td>19</td><td>16442196</td><td>C</td><td>T</td><td>520580</td><td>rs56152581</td><td>7.01e-07</td><td>0.083137</td><td>0.016758</td><td>19:16442196:C:T</td><td>19:16442196:T:C</td><td>TRUE</td><td>FALSE</td><td>1</td><td>19:16442196:C:T</td><td>rs56152581</td><td>0.32851</td></tr>\n",
       "</tbody>\n",
       "</table>\n"
      ],
      "text/latex": [
       "A data.frame: 1 × 17\n",
       "\\begin{tabular}{r|lllllllllllllllll}\n",
       "  & CHR & BP & other\\_allele & effect\\_allele & sample\\_size & variant\\_id & P & BETA & SE & ID & ID\\_flip & found & found\\_flip & found\\_any & ID\\_merged & SNP & MAF\\\\\n",
       "  & <int> & <int> & <chr> & <chr> & <int> & <chr> & <dbl> & <dbl> & <dbl> & <chr> & <chr> & <lgl> & <lgl> & <dbl> & <chr> & <chr> & <dbl>\\\\\n",
       "\\hline\n",
       "\t4316 & 19 & 16442196 & C & T & 520580 & rs56152581 & 7.01e-07 & 0.083137 & 0.016758 & 19:16442196:C:T & 19:16442196:T:C & TRUE & FALSE & 1 & 19:16442196:C:T & rs56152581 & 0.32851\\\\\n",
       "\\end{tabular}\n"
      ],
      "text/markdown": [
       "\n",
       "A data.frame: 1 × 17\n",
       "\n",
       "| <!--/--> | CHR &lt;int&gt; | BP &lt;int&gt; | other_allele &lt;chr&gt; | effect_allele &lt;chr&gt; | sample_size &lt;int&gt; | variant_id &lt;chr&gt; | P &lt;dbl&gt; | BETA &lt;dbl&gt; | SE &lt;dbl&gt; | ID &lt;chr&gt; | ID_flip &lt;chr&gt; | found &lt;lgl&gt; | found_flip &lt;lgl&gt; | found_any &lt;dbl&gt; | ID_merged &lt;chr&gt; | SNP &lt;chr&gt; | MAF &lt;dbl&gt; |\n",
       "|---|---|---|---|---|---|---|---|---|---|---|---|---|---|---|---|---|---|\n",
       "| 4316 | 19 | 16442196 | C | T | 520580 | rs56152581 | 7.01e-07 | 0.083137 | 0.016758 | 19:16442196:C:T | 19:16442196:T:C | TRUE | FALSE | 1 | 19:16442196:C:T | rs56152581 | 0.32851 |\n",
       "\n"
      ],
      "text/plain": [
       "     CHR BP       other_allele effect_allele sample_size variant_id P       \n",
       "4316 19  16442196 C            T             520580      rs56152581 7.01e-07\n",
       "     BETA     SE       ID              ID_flip         found found_flip\n",
       "4316 0.083137 0.016758 19:16442196:C:T 19:16442196:T:C TRUE  FALSE     \n",
       "     found_any ID_merged       SNP        MAF    \n",
       "4316 1         19:16442196:C:T rs56152581 0.32851"
      ]
     },
     "metadata": {},
     "output_type": "display_data"
    }
   ],
   "source": [
    "# hg19 build\n",
    "t1d_gwas = read.csv(\"/data/srlab/lrumker/MCSC_Project/cna-qtl/ref_gwas/sumstats/NK_19:16441973:G:A_T1D_cis.hg19.renamed.csv\",\n",
    "                     header = TRUE, stringsAsFactors = FALSE)\n",
    "rownames(t1d_gwas)=c(1:nrow(t1d_gwas))\n",
    "\n",
    "# Import allele doses for computing LD\n",
    "out_obj = keep_shared_snps(ref_gwas=t1d_gwas, celltype=celltype, lead_snp=lead_snp)\n",
    "t1d_gwas=out_obj[[1]]\n",
    "geno=out_obj[[2]]\n",
    "\n",
    "# MAF not reported, use from our cohort\n",
    "G_info = read.delim(paste0(\"/data/srlab/lrumker/MCSC_Project/cna-qtl/results/geno_munge/cis_snps/\", celltype,\n",
    "                      \"_\",lead_snp,\"_cis.vcf.gz\"), stringsAsFactors = FALSE, header = TRUE, skip=15)\n",
    "rownames(G_info) = G_info$ID\n",
    "G_info = G_info[t1d_gwas$ID_merged,]\n",
    "G_info = G_info[,c(1:9)]\n",
    "get_MAF <-function(info_str){\n",
    "    maf_str = strsplit(info_str,\";\")[[1]][2]\n",
    "    return(as.numeric(strsplit(maf_str,\"=\")[[1]][2]))\n",
    "}\n",
    "G_info$MAF = apply(as.matrix(G_info$INFO, ncol=1),1,get_MAF)\n",
    "t1d_gwas$MAF = G_info$MAF\n",
    "\n",
    "t1d_gwas[order(t1d_gwas$P),][1,] # lead snp"
   ]
  },
  {
   "cell_type": "code",
   "execution_count": 28,
   "id": "d7e9f2aa",
   "metadata": {},
   "outputs": [
    {
     "name": "stderr",
     "output_type": "stream",
     "text": [
      "Warning message in sdY.est(d$varbeta, d$MAF, d$N):\n",
      "“estimating sdY from maf and varbeta, please directly supply sdY if known”\n"
     ]
    },
    {
     "name": "stdout",
     "output_type": "stream",
     "text": [
      "PP.H0.abf PP.H1.abf PP.H2.abf PP.H3.abf PP.H4.abf \n",
      " 1.54e-21  5.11e-03  2.32e-21  6.75e-03  9.88e-01 \n",
      "[1] \"PP abf for shared variant: 98.8%\"\n"
     ]
    }
   ],
   "source": [
    "# coloc\n",
    "gwas_res = read.table(paste0(\"/data/srlab/lrumker/MCSC_Project/cna-qtl/results/coloc/gwas_local_\",\n",
    "                             celltype,\"_\" ,lead_snp,\"_cis.qassoc\"), \n",
    "                      header=TRUE, stringsAsFactors=FALSE)\n",
    "gwas_res = gwas_res[gwas_res$SNP %in% t1d_gwas$ID_merged,]\n",
    "all_phenos = read.table(paste0(\"/data/srlab/lrumker/MCSC_Project/cna-qtl/results/gwas_\", \n",
    "                        celltype,\"/spheno.tsv\"), header = TRUE, row.names=1)\n",
    "lead_pheno_trait_sd = sd(all_phenos[paste0(\"X\", paste0(strsplit(lead_snp, \":\")[[1]], collapse=\".\"))][,1])\n",
    "our_gwas_coloc = list(beta = gwas_res$BETA, varbeta = gwas_res$SE**2,\n",
    "                    sdY = lead_pheno_trait_sd,type = \"quant\", snp = gwas_res$SNP)\n",
    "ref_gwas_coloc = list(beta = t1d_gwas$BETA, varbeta = t1d_gwas$SE**2,\n",
    "                   N=t1d_gwas$sample_size, MAF=t1d_gwas$MAF, type = \"quant\", snp = t1d_gwas$ID_merged)\n",
    "coloc_res <- coloc.abf(dataset1=our_gwas_coloc, dataset2=ref_gwas_coloc)"
   ]
  },
  {
   "cell_type": "markdown",
   "id": "9631fed3",
   "metadata": {},
   "source": [
    "## NK csaQTL at 2q13"
   ]
  },
  {
   "cell_type": "code",
   "execution_count": 29,
   "id": "55042bde",
   "metadata": {},
   "outputs": [],
   "source": [
    "celltype=\"NK\"\n",
    "lead_snp='2:111851212:C:T'\n",
    "lead_snp_rsID = \"rs13025330\"\n",
    "set.seed(0)\n",
    "locus_LD = region_plot_our_gwas(celltype=celltype, lead_snp=lead_snp, window_sz=1200000, \n",
    "                                secondary_snps=c('rs2165109', # CXCL16 locus, epithelial ovarian cancer\n",
    "                                    'rs12986962'), # Patin et al \n",
    "                               secondary_names = c(\"CXCL16;\\nOvarian Cancer\", \"Flow cytometry\")) "
   ]
  },
  {
   "cell_type": "markdown",
   "id": "01cce9c7",
   "metadata": {},
   "source": [
    "### Similar trait quantified with flow cytometry"
   ]
  },
  {
   "cell_type": "code",
   "execution_count": 30,
   "id": "1546b112",
   "metadata": {},
   "outputs": [
    {
     "data": {
      "text/html": [
       "<table class=\"dataframe\">\n",
       "<caption>A matrix: 1 × 1 of type dbl</caption>\n",
       "<thead>\n",
       "\t<tr><th></th><th scope=col>2:111851212:C:T</th></tr>\n",
       "</thead>\n",
       "<tbody>\n",
       "\t<tr><th scope=row>2:111808558:A:G</th><td>0.3154349</td></tr>\n",
       "</tbody>\n",
       "</table>\n"
      ],
      "text/latex": [
       "A matrix: 1 × 1 of type dbl\n",
       "\\begin{tabular}{r|l}\n",
       "  & 2:111851212:C:T\\\\\n",
       "\\hline\n",
       "\t2:111808558:A:G & 0.3154349\\\\\n",
       "\\end{tabular}\n"
      ],
      "text/markdown": [
       "\n",
       "A matrix: 1 × 1 of type dbl\n",
       "\n",
       "| <!--/--> | 2:111851212:C:T |\n",
       "|---|---|\n",
       "| 2:111808558:A:G | 0.3154349 |\n",
       "\n"
      ],
      "text/plain": [
       "                2:111851212:C:T\n",
       "2:111808558:A:G 0.3154349      "
      ]
     },
     "metadata": {},
     "output_type": "display_data"
    }
   ],
   "source": [
    "# Import allele doses for computing LD, note: includes all 973 donors\n",
    "geno = read.delim(paste0(\"/data/srlab/lrumker/MCSC_Project/cna-qtl/results/geno_munge/cis_snps/\", celltype,\n",
    "                  \"_\",lead_snp,\"_cis.DS.vcf.gz\"), stringsAsFactors = FALSE, header = FALSE, row.names=1)\n",
    "rownames(geno) = trimws(rownames(geno))\n",
    "\n",
    "# add rsIDs\n",
    "cis_annovar=read.delim(paste0(\"/data/srlab/lrumker/MCSC_Project/cna-qtl/results/annovar/\", celltype, \n",
    "                             \"_\",lead_snp,\"_cis.hg19_multianno.txt\"), stringsAsFactors = FALSE, header = TRUE)\n",
    "rsIDs = cis_annovar$avsnp147\n",
    "\n",
    "cor(t(geno['2:111808558:A:G',]), t(geno[lead_snp,]))**2 # from Patin et al., rs12986962"
   ]
  },
  {
   "cell_type": "code",
   "execution_count": 31,
   "id": "64810bce",
   "metadata": {},
   "outputs": [
    {
     "data": {
      "text/html": [
       "<table class=\"dataframe\">\n",
       "<caption>A matrix: 1 × 1 of type dbl</caption>\n",
       "<thead>\n",
       "\t<tr><th></th><th scope=col>2:111851212:C:T</th></tr>\n",
       "</thead>\n",
       "<tbody>\n",
       "\t<tr><th scope=row>2:111808558:A:G</th><td>0.561636</td></tr>\n",
       "</tbody>\n",
       "</table>\n"
      ],
      "text/latex": [
       "A matrix: 1 × 1 of type dbl\n",
       "\\begin{tabular}{r|l}\n",
       "  & 2:111851212:C:T\\\\\n",
       "\\hline\n",
       "\t2:111808558:A:G & 0.561636\\\\\n",
       "\\end{tabular}\n"
      ],
      "text/markdown": [
       "\n",
       "A matrix: 1 × 1 of type dbl\n",
       "\n",
       "| <!--/--> | 2:111851212:C:T |\n",
       "|---|---|\n",
       "| 2:111808558:A:G | 0.561636 |\n",
       "\n"
      ],
      "text/plain": [
       "                2:111851212:C:T\n",
       "2:111808558:A:G 0.561636       "
      ]
     },
     "metadata": {},
     "output_type": "display_data"
    }
   ],
   "source": [
    "cor(t(geno['2:111808558:A:G',]), t(geno[lead_snp,])) # Their rs12986962-G correpsonds to our rs13025330-T"
   ]
  },
  {
   "cell_type": "markdown",
   "id": "065d1f1b",
   "metadata": {},
   "source": [
    "### Abundance of CXCl16 chemokine protein in serum\n",
    "\n",
    "- CXCL16 lead snp rs2165109 allele C (also effect allele in their GWAS) corresponds to effect allele T for our csaQTL\n",
    "- Beta in their lead assocition is positive so increased CXCL16 associated with our effect allele T"
   ]
  },
  {
   "cell_type": "code",
   "execution_count": 32,
   "id": "d55414c6",
   "metadata": {},
   "outputs": [
    {
     "data": {
      "text/html": [
       "<table class=\"dataframe\">\n",
       "<caption>A data.frame: 1 × 21</caption>\n",
       "<thead>\n",
       "\t<tr><th></th><th scope=col>variant_id</th><th scope=col>p_value</th><th scope=col>chromosome</th><th scope=col>base_pair_location</th><th scope=col>effect_allele</th><th scope=col>other_allele</th><th scope=col>effect_allele_frequency</th><th scope=col>beta</th><th scope=col>standard_error</th><th scope=col>CHR</th><th scope=col>⋯</th><th scope=col>P</th><th scope=col>SNP</th><th scope=col>SE</th><th scope=col>BETA</th><th scope=col>ID</th><th scope=col>ID_flip</th><th scope=col>found</th><th scope=col>found_flip</th><th scope=col>found_any</th><th scope=col>ID_merged</th></tr>\n",
       "\t<tr><th></th><th scope=col>&lt;chr&gt;</th><th scope=col>&lt;dbl&gt;</th><th scope=col>&lt;int&gt;</th><th scope=col>&lt;int&gt;</th><th scope=col>&lt;chr&gt;</th><th scope=col>&lt;chr&gt;</th><th scope=col>&lt;dbl&gt;</th><th scope=col>&lt;dbl&gt;</th><th scope=col>&lt;dbl&gt;</th><th scope=col>&lt;int&gt;</th><th scope=col>⋯</th><th scope=col>&lt;dbl&gt;</th><th scope=col>&lt;chr&gt;</th><th scope=col>&lt;dbl&gt;</th><th scope=col>&lt;dbl&gt;</th><th scope=col>&lt;chr&gt;</th><th scope=col>&lt;chr&gt;</th><th scope=col>&lt;lgl&gt;</th><th scope=col>&lt;lgl&gt;</th><th scope=col>&lt;dbl&gt;</th><th scope=col>&lt;chr&gt;</th></tr>\n",
       "</thead>\n",
       "<tbody>\n",
       "\t<tr><th scope=row>1108</th><td>rs2165109</td><td>4.577201e-18</td><td>2</td><td>111818658</td><td>C</td><td>A</td><td>0.2586</td><td>0.181687</td><td>0.0208972</td><td>2</td><td>⋯</td><td>4.577201e-18</td><td>rs2165109</td><td>0.0208972</td><td>0.181687</td><td>2:111818658:A:C</td><td>2:111818658:C:A</td><td>TRUE</td><td>FALSE</td><td>1</td><td>2:111818658:A:C</td></tr>\n",
       "</tbody>\n",
       "</table>\n"
      ],
      "text/latex": [
       "A data.frame: 1 × 21\n",
       "\\begin{tabular}{r|lllllllllllllllllllll}\n",
       "  & variant\\_id & p\\_value & chromosome & base\\_pair\\_location & effect\\_allele & other\\_allele & effect\\_allele\\_frequency & beta & standard\\_error & CHR & ⋯ & P & SNP & SE & BETA & ID & ID\\_flip & found & found\\_flip & found\\_any & ID\\_merged\\\\\n",
       "  & <chr> & <dbl> & <int> & <int> & <chr> & <chr> & <dbl> & <dbl> & <dbl> & <int> & ⋯ & <dbl> & <chr> & <dbl> & <dbl> & <chr> & <chr> & <lgl> & <lgl> & <dbl> & <chr>\\\\\n",
       "\\hline\n",
       "\t1108 & rs2165109 & 4.577201e-18 & 2 & 111818658 & C & A & 0.2586 & 0.181687 & 0.0208972 & 2 & ⋯ & 4.577201e-18 & rs2165109 & 0.0208972 & 0.181687 & 2:111818658:A:C & 2:111818658:C:A & TRUE & FALSE & 1 & 2:111818658:A:C\\\\\n",
       "\\end{tabular}\n"
      ],
      "text/markdown": [
       "\n",
       "A data.frame: 1 × 21\n",
       "\n",
       "| <!--/--> | variant_id &lt;chr&gt; | p_value &lt;dbl&gt; | chromosome &lt;int&gt; | base_pair_location &lt;int&gt; | effect_allele &lt;chr&gt; | other_allele &lt;chr&gt; | effect_allele_frequency &lt;dbl&gt; | beta &lt;dbl&gt; | standard_error &lt;dbl&gt; | CHR &lt;int&gt; | ⋯ ⋯ | P &lt;dbl&gt; | SNP &lt;chr&gt; | SE &lt;dbl&gt; | BETA &lt;dbl&gt; | ID &lt;chr&gt; | ID_flip &lt;chr&gt; | found &lt;lgl&gt; | found_flip &lt;lgl&gt; | found_any &lt;dbl&gt; | ID_merged &lt;chr&gt; |\n",
       "|---|---|---|---|---|---|---|---|---|---|---|---|---|---|---|---|---|---|---|---|---|---|\n",
       "| 1108 | rs2165109 | 4.577201e-18 | 2 | 111818658 | C | A | 0.2586 | 0.181687 | 0.0208972 | 2 | ⋯ | 4.577201e-18 | rs2165109 | 0.0208972 | 0.181687 | 2:111818658:A:C | 2:111818658:C:A | TRUE | FALSE | 1 | 2:111818658:A:C |\n",
       "\n"
      ],
      "text/plain": [
       "     variant_id p_value      chromosome base_pair_location effect_allele\n",
       "1108 rs2165109  4.577201e-18 2          111818658          C            \n",
       "     other_allele effect_allele_frequency beta     standard_error CHR ⋯\n",
       "1108 A            0.2586                  0.181687 0.0208972      2   ⋯\n",
       "     P            SNP       SE        BETA     ID              ID_flip        \n",
       "1108 4.577201e-18 rs2165109 0.0208972 0.181687 2:111818658:A:C 2:111818658:C:A\n",
       "     found found_flip found_any ID_merged      \n",
       "1108 TRUE  FALSE      1         2:111818658:A:C"
      ]
     },
     "metadata": {},
     "output_type": "display_data"
    }
   ],
   "source": [
    "# load published summary statistics, rename columns as needed\n",
    "cxcl16_gwas = read.delim(\"/data/srlab/lrumker/MCSC_Project/cna-qtl/ref_gwas/sumstats/GCST90087940_buildGRCh37_chr2region.tsv\",\n",
    "                     header = TRUE, stringsAsFactors = FALSE)\n",
    "rownames(cxcl16_gwas)=c(1:nrow(cxcl16_gwas))\n",
    "cxcl16_gwas$CHR = cxcl16_gwas$chromosome\n",
    "cxcl16_gwas$BP = cxcl16_gwas$base_pair_location\n",
    "cxcl16_gwas$P = cxcl16_gwas$p_value\n",
    "cxcl16_gwas$SNP = cxcl16_gwas$variant_id\n",
    "cxcl16_gwas$SE = cxcl16_gwas$standard_error\n",
    "cxcl16_gwas$BETA = cxcl16_gwas$beta\n",
    "\n",
    "# Import allele doses for computing LD\n",
    "out_obj = keep_shared_snps(ref_gwas=cxcl16_gwas, celltype=celltype, lead_snp=lead_snp)\n",
    "cxcl16_gwas=out_obj[[1]]\n",
    "geno=out_obj[[2]]\n",
    "\n",
    "cxcl16_gwas[order(cxcl16_gwas$P),][1,] # lead snp"
   ]
  },
  {
   "cell_type": "code",
   "execution_count": 33,
   "id": "2fb4c628",
   "metadata": {},
   "outputs": [
    {
     "name": "stderr",
     "output_type": "stream",
     "text": [
      "Warning message in sdY.est(d$varbeta, d$MAF, d$N):\n",
      "“estimating sdY from maf and varbeta, please directly supply sdY if known”\n"
     ]
    },
    {
     "name": "stdout",
     "output_type": "stream",
     "text": [
      "PP.H0.abf PP.H1.abf PP.H2.abf PP.H3.abf PP.H4.abf \n",
      " 6.91e-25  2.39e-13  4.63e-13  1.59e-01  8.41e-01 \n",
      "[1] \"PP abf for shared variant: 84.1%\"\n"
     ]
    }
   ],
   "source": [
    "# coloc\n",
    "gwas_res = read.table(paste0(\"/data/srlab/lrumker/MCSC_Project/cna-qtl/results/coloc/gwas_local_\",\n",
    "                             celltype,\"_\" ,lead_snp,\"_cis.qassoc\"), \n",
    "                      header=TRUE, stringsAsFactors=FALSE)\n",
    "gwas_res = gwas_res[gwas_res$SNP %in% cxcl16_gwas$ID_merged,]\n",
    "all_phenos = read.table(paste0(\"/data/srlab/lrumker/MCSC_Project/cna-qtl/results/gwas_\", \n",
    "                        celltype,\"/spheno.tsv\"), header = TRUE, row.names=1)\n",
    "lead_pheno_trait_sd = sd(all_phenos[paste0(\"X\", paste0(strsplit(lead_snp, \":\")[[1]], collapse=\".\"))][,1])\n",
    "our_gwas_coloc = list(beta = gwas_res$BETA, varbeta = gwas_res$SE**2,\n",
    "                    sdY = lead_pheno_trait_sd,type = \"quant\", snp = gwas_res$SNP)\n",
    "ref_gwas_coloc = list(beta = cxcl16_gwas$BETA, varbeta = cxcl16_gwas$SE**2,\n",
    "                     type = \"quant\", N = rep(5361, nrow(cxcl16_gwas)), MAF=cxcl16_gwas$effect_allele_frequency,\n",
    "                      snp = cxcl16_gwas$ID_merged) # case-control\n",
    "coloc_res <- coloc.abf(dataset1=our_gwas_coloc, dataset2=ref_gwas_coloc)"
   ]
  },
  {
   "cell_type": "markdown",
   "id": "b944b139",
   "metadata": {},
   "source": [
    "### Epithelial ovarian cancer\n",
    "- These summary statistics reflect the \"OCAC\" cohort from Phelan et al, all European ancestry\n",
    "- \"The analyses included 66,450 samples from seven genotyping projects: 40,941 controls, 22,406 invasive cases and 3,103 borderline cases. The number of cases by histotype was as follows: serous borderline (1,954), mucinous borderline (1,149), LGSOC (1,012), HGSOC (13,037), ENOC (2,810), CCOC (1,366) and other EOC (2,764).\"\n",
    "- Phelan et al : Identification of 12 new susceptibility loci for different histotypes of epithelial ovarian cancer.\n",
    "- The \"overall\" sumstats used for colocalization here are from the OCAC cohort with cases defined as \"all invasive\" histotypes, whereas in the main text we report the p-value for the lead SNP from the meta analysis (4.2e-8) of OCAC and CIMBA cohorts"
   ]
  },
  {
   "cell_type": "code",
   "execution_count": 34,
   "id": "6e203cd1",
   "metadata": {},
   "outputs": [
    {
     "data": {
      "text/html": [
       "<table class=\"dataframe\">\n",
       "<caption>A data.frame: 1 × 3</caption>\n",
       "<thead>\n",
       "\t<tr><th></th><th scope=col>ID</th><th scope=col>P</th><th scope=col>BETA</th></tr>\n",
       "\t<tr><th></th><th scope=col>&lt;chr&gt;</th><th scope=col>&lt;dbl&gt;</th><th scope=col>&lt;dbl&gt;</th></tr>\n",
       "</thead>\n",
       "<tbody>\n",
       "\t<tr><th scope=row>1440</th><td>2:111818658:A:C</td><td>7.718e-07</td><td>0.07511</td></tr>\n",
       "</tbody>\n",
       "</table>\n"
      ],
      "text/latex": [
       "A data.frame: 1 × 3\n",
       "\\begin{tabular}{r|lll}\n",
       "  & ID & P & BETA\\\\\n",
       "  & <chr> & <dbl> & <dbl>\\\\\n",
       "\\hline\n",
       "\t1440 & 2:111818658:A:C & 7.718e-07 & 0.07511\\\\\n",
       "\\end{tabular}\n"
      ],
      "text/markdown": [
       "\n",
       "A data.frame: 1 × 3\n",
       "\n",
       "| <!--/--> | ID &lt;chr&gt; | P &lt;dbl&gt; | BETA &lt;dbl&gt; |\n",
       "|---|---|---|---|\n",
       "| 1440 | 2:111818658:A:C | 7.718e-07 | 0.07511 |\n",
       "\n"
      ],
      "text/plain": [
       "     ID              P         BETA   \n",
       "1440 2:111818658:A:C 7.718e-07 0.07511"
      ]
     },
     "metadata": {},
     "output_type": "display_data"
    }
   ],
   "source": [
    "ovca_gwas = read.csv(\"/data/srlab/lrumker/MCSC_Project/cna-qtl/ref_gwas/sumstats/ovarian_ca/chr2_region.csv\",\n",
    "                     header = TRUE, stringsAsFactors = FALSE)\n",
    "ovca_gwas = ovca_gwas[ovca_gwas$overall_OR!=0,] # drops one snp only\n",
    "rownames(ovca_gwas)=c(1:nrow(ovca_gwas))\n",
    "ovca_gwas$CHR = ovca_gwas$Chromosome\n",
    "ovca_gwas$BP = ovca_gwas$Position\n",
    "ovca_gwas$P = ovca_gwas$overall_pvalue\n",
    "ovca_gwas$SNP = ovca_gwas$OrigSNPname\n",
    "ovca_gwas$effect_allele = ovca_gwas$Effect\n",
    "ovca_gwas$other_allele = ovca_gwas$Baseline\n",
    "ovca_gwas$BETA = ovca_gwas$overall_OR # per description doc accompanying sumstats, provided vals are log(OR)\n",
    "ovca_gwas$SE = ovca_gwas$overall_SE\n",
    "ovca_gwas$MAF = ovca_gwas$EAF\n",
    "ovca_gwas$MAF[which(ovca_gwas$MAF>0.5)] = 1-ovca_gwas$MAF[which(ovca_gwas$MAF>0.5)]\n",
    "\n",
    "# Import allele doses for computing LD\n",
    "out_obj = keep_shared_snps(ref_gwas=ovca_gwas, celltype=celltype, lead_snp=lead_snp)\n",
    "ovca_gwas=out_obj[[1]]\n",
    "geno=out_obj[[2]]\n",
    "\n",
    "ovca_gwas[order(ovca_gwas$P),][1,c(\"ID\", \"P\", \"BETA\")] # lead snp"
   ]
  },
  {
   "cell_type": "code",
   "execution_count": 35,
   "id": "8e325fdb",
   "metadata": {},
   "outputs": [
    {
     "name": "stderr",
     "output_type": "stream",
     "text": [
      "Warning message in sdY.est(d$varbeta, d$MAF, d$N):\n",
      "“estimating sdY from maf and varbeta, please directly supply sdY if known”\n"
     ]
    },
    {
     "name": "stdout",
     "output_type": "stream",
     "text": [
      "PP.H0.abf PP.H1.abf PP.H2.abf PP.H3.abf PP.H4.abf \n",
      " 1.22e-13  4.24e-02  4.67e-13  1.61e-01  7.96e-01 \n",
      "[1] \"PP abf for shared variant: 79.6%\"\n"
     ]
    }
   ],
   "source": [
    "# coloc\n",
    "gwas_res = read.table(paste0(\"/data/srlab/lrumker/MCSC_Project/cna-qtl/results/coloc/gwas_local_\",\n",
    "                             celltype,\"_\" ,lead_snp,\"_cis.qassoc\"), \n",
    "                      header=TRUE, stringsAsFactors=FALSE)\n",
    "gwas_res = gwas_res[gwas_res$SNP %in% ovca_gwas$ID_merged,]\n",
    "all_phenos = read.table(paste0(\"/data/srlab/lrumker/MCSC_Project/cna-qtl/results/gwas_\", \n",
    "                        celltype,\"/spheno.tsv\"), header = TRUE, row.names=1)\n",
    "lead_pheno_trait_sd = sd(all_phenos[paste0(\"X\", paste0(strsplit(lead_snp, \":\")[[1]], collapse=\".\"))][,1])\n",
    "our_gwas_coloc = list(beta = gwas_res$BETA, varbeta = gwas_res$SE**2,\n",
    "                    sdY = lead_pheno_trait_sd,type = \"quant\", snp = gwas_res$SNP)\n",
    "ref_gwas_coloc = list(beta = ovca_gwas$BETA, varbeta = ovca_gwas$SE**2,\n",
    "                     type = \"quant\", N = rep(85426, nrow(ovca_gwas)), MAF=ovca_gwas$MAF,\n",
    "                      snp = ovca_gwas$ID_merged) # case-control\n",
    "coloc_res <- coloc.abf(dataset1=our_gwas_coloc, dataset2=ref_gwas_coloc)"
   ]
  },
  {
   "cell_type": "markdown",
   "id": "dd367f9e",
   "metadata": {},
   "source": [
    "## Myeloid csaQTL at 15q25.1 \n",
    "\n",
    "- BCL2A1 eQTL lead snp from eQTLgen rs8025805 \n",
    "- Lead variant from flow cytometry is identical rs3826007 to OneK1K csaQTL"
   ]
  },
  {
   "cell_type": "code",
   "execution_count": 36,
   "id": "44d5afdc",
   "metadata": {},
   "outputs": [],
   "source": [
    "celltype=\"Myeloid\"\n",
    "lead_snp='15:80263217:C:T'\n",
    "lead_snp_rsID='rs3826007'\n",
    "set.seed(0)\n",
    "locus_LD = region_plot_our_gwas(celltype=celltype, lead_snp=lead_snp, window_sz=100000, \n",
    "                                secondary_snps=c(\"rs8025805\", \"rs11632488\"),\n",
    "                               secondary_names= c(\"BCL2A1 eQTL\", \"PSC risk\"), plot_type=\"svg\")"
   ]
  },
  {
   "cell_type": "markdown",
   "id": "c8bb502e",
   "metadata": {},
   "source": [
    "### Similar trait quantified with flow cytometry"
   ]
  },
  {
   "cell_type": "code",
   "execution_count": 37,
   "id": "09bd4c34",
   "metadata": {},
   "outputs": [
    {
     "data": {
      "text/html": [
       "<table class=\"dataframe\">\n",
       "<caption>A data.frame: 1 × 22</caption>\n",
       "<thead>\n",
       "\t<tr><th></th><th scope=col>chromosome</th><th scope=col>base_pair_location</th><th scope=col>effect_allele</th><th scope=col>other_allele</th><th scope=col>N</th><th scope=col>MAF</th><th scope=col>effect_allele_frequency</th><th scope=col>beta</th><th scope=col>standard_error</th><th scope=col>p_value</th><th scope=col>⋯</th><th scope=col>P</th><th scope=col>SE</th><th scope=col>BETA</th><th scope=col>ID</th><th scope=col>ID_flip</th><th scope=col>found</th><th scope=col>found_flip</th><th scope=col>found_any</th><th scope=col>ID_merged</th><th scope=col>SNP</th></tr>\n",
       "\t<tr><th></th><th scope=col>&lt;int&gt;</th><th scope=col>&lt;int&gt;</th><th scope=col>&lt;chr&gt;</th><th scope=col>&lt;chr&gt;</th><th scope=col>&lt;int&gt;</th><th scope=col>&lt;dbl&gt;</th><th scope=col>&lt;dbl&gt;</th><th scope=col>&lt;dbl&gt;</th><th scope=col>&lt;dbl&gt;</th><th scope=col>&lt;dbl&gt;</th><th scope=col>⋯</th><th scope=col>&lt;dbl&gt;</th><th scope=col>&lt;dbl&gt;</th><th scope=col>&lt;dbl&gt;</th><th scope=col>&lt;chr&gt;</th><th scope=col>&lt;chr&gt;</th><th scope=col>&lt;lgl&gt;</th><th scope=col>&lt;lgl&gt;</th><th scope=col>&lt;dbl&gt;</th><th scope=col>&lt;chr&gt;</th><th scope=col>&lt;chr&gt;</th></tr>\n",
       "</thead>\n",
       "<tbody>\n",
       "\t<tr><th scope=row>3197</th><td>15</td><td>80263217</td><td>T</td><td>C</td><td>3629</td><td>0.2136</td><td>0.2136</td><td>-0.1739</td><td>0.02973</td><td>5.41e-09</td><td>⋯</td><td>5.41e-09</td><td>0.02973</td><td>-0.1739</td><td>15:80263217:C:T</td><td>15:80263217:T:C</td><td>TRUE</td><td>FALSE</td><td>1</td><td>15:80263217:C:T</td><td>rs3826007</td></tr>\n",
       "</tbody>\n",
       "</table>\n"
      ],
      "text/latex": [
       "A data.frame: 1 × 22\n",
       "\\begin{tabular}{r|lllllllllllllllllllll}\n",
       "  & chromosome & base\\_pair\\_location & effect\\_allele & other\\_allele & N & MAF & effect\\_allele\\_frequency & beta & standard\\_error & p\\_value & ⋯ & P & SE & BETA & ID & ID\\_flip & found & found\\_flip & found\\_any & ID\\_merged & SNP\\\\\n",
       "  & <int> & <int> & <chr> & <chr> & <int> & <dbl> & <dbl> & <dbl> & <dbl> & <dbl> & ⋯ & <dbl> & <dbl> & <dbl> & <chr> & <chr> & <lgl> & <lgl> & <dbl> & <chr> & <chr>\\\\\n",
       "\\hline\n",
       "\t3197 & 15 & 80263217 & T & C & 3629 & 0.2136 & 0.2136 & -0.1739 & 0.02973 & 5.41e-09 & ⋯ & 5.41e-09 & 0.02973 & -0.1739 & 15:80263217:C:T & 15:80263217:T:C & TRUE & FALSE & 1 & 15:80263217:C:T & rs3826007\\\\\n",
       "\\end{tabular}\n"
      ],
      "text/markdown": [
       "\n",
       "A data.frame: 1 × 22\n",
       "\n",
       "| <!--/--> | chromosome &lt;int&gt; | base_pair_location &lt;int&gt; | effect_allele &lt;chr&gt; | other_allele &lt;chr&gt; | N &lt;int&gt; | MAF &lt;dbl&gt; | effect_allele_frequency &lt;dbl&gt; | beta &lt;dbl&gt; | standard_error &lt;dbl&gt; | p_value &lt;dbl&gt; | ⋯ ⋯ | P &lt;dbl&gt; | SE &lt;dbl&gt; | BETA &lt;dbl&gt; | ID &lt;chr&gt; | ID_flip &lt;chr&gt; | found &lt;lgl&gt; | found_flip &lt;lgl&gt; | found_any &lt;dbl&gt; | ID_merged &lt;chr&gt; | SNP &lt;chr&gt; |\n",
       "|---|---|---|---|---|---|---|---|---|---|---|---|---|---|---|---|---|---|---|---|---|---|\n",
       "| 3197 | 15 | 80263217 | T | C | 3629 | 0.2136 | 0.2136 | -0.1739 | 0.02973 | 5.41e-09 | ⋯ | 5.41e-09 | 0.02973 | -0.1739 | 15:80263217:C:T | 15:80263217:T:C | TRUE | FALSE | 1 | 15:80263217:C:T | rs3826007 |\n",
       "\n"
      ],
      "text/plain": [
       "     chromosome base_pair_location effect_allele other_allele N    MAF   \n",
       "3197 15         80263217           T             C            3629 0.2136\n",
       "     effect_allele_frequency beta    standard_error p_value  ⋯ P        SE     \n",
       "3197 0.2136                  -0.1739 0.02973        5.41e-09 ⋯ 5.41e-09 0.02973\n",
       "     BETA    ID              ID_flip         found found_flip found_any\n",
       "3197 -0.1739 15:80263217:C:T 15:80263217:T:C TRUE  FALSE      1        \n",
       "     ID_merged       SNP      \n",
       "3197 15:80263217:C:T rs3826007"
      ]
     },
     "metadata": {},
     "output_type": "display_data"
    }
   ],
   "source": [
    "# zcat GCST90001584_buildGRCh37.tsv.gz | awk 'NR==1||$1==15' > GCST90001584_buildGRCh37.chr15.tsv\n",
    "# Import reported sumstats, relabel columns as needed\n",
    "orru_gwas = read.delim(\"/data/srlab/lrumker/MCSC_Project/cna-qtl/ref_gwas/sumstats/GCST90001584_buildGRCh37.chr15.tsv\",\n",
    "                     header = TRUE, stringsAsFactors = FALSE)\n",
    "rownames(orru_gwas)=c(1:nrow(orru_gwas))\n",
    "orru_gwas$CHR = orru_gwas$chromosome\n",
    "orru_gwas$BP = orru_gwas$base_pair_location\n",
    "orru_gwas$P = orru_gwas$p_value\n",
    "orru_gwas$SE = orru_gwas$standard_error\n",
    "orru_gwas$BETA = orru_gwas$beta\n",
    "\n",
    "# Import allele doses for computing LD\n",
    "out_obj = keep_shared_snps(ref_gwas=orru_gwas, celltype=celltype, lead_snp=lead_snp)\n",
    "orru_gwas=out_obj[[1]]\n",
    "geno=out_obj[[2]]\n",
    "orru_gwas = orru_gwas[orru_gwas$MAF !=0,]\n",
    "\n",
    "orru_gwas[order(orru_gwas$P),][1,] # lead snp"
   ]
  },
  {
   "cell_type": "code",
   "execution_count": 38,
   "id": "34db652c",
   "metadata": {},
   "outputs": [
    {
     "name": "stderr",
     "output_type": "stream",
     "text": [
      "Warning message in sdY.est(d$varbeta, d$MAF, d$N):\n",
      "“estimating sdY from maf and varbeta, please directly supply sdY if known”\n"
     ]
    },
    {
     "name": "stdout",
     "output_type": "stream",
     "text": [
      "PP.H0.abf PP.H1.abf PP.H2.abf PP.H3.abf PP.H4.abf \n",
      " 7.95e-10  8.23e-06  1.48e-06  1.44e-02  9.86e-01 \n",
      "[1] \"PP abf for shared variant: 98.6%\"\n"
     ]
    }
   ],
   "source": [
    "# coloc\n",
    "gwas_res = read.table(paste0(\"/data/srlab/lrumker/MCSC_Project/cna-qtl/results/coloc/gwas_local_\",\n",
    "                             celltype,\"_\" ,lead_snp,\"_cis.qassoc\"), \n",
    "                      header=TRUE, stringsAsFactors=FALSE)\n",
    "gwas_res = gwas_res[gwas_res$SNP %in% orru_gwas$ID_merged,]\n",
    "all_phenos = read.table(paste0(\"/data/srlab/lrumker/MCSC_Project/cna-qtl/results/gwas_\", \n",
    "                        celltype,\"/spheno.tsv\"), header = TRUE, row.names=1)\n",
    "lead_pheno_trait_sd = sd(all_phenos[paste0(\"X\", paste0(strsplit(lead_snp, \":\")[[1]], collapse=\".\"))][,1])\n",
    "our_gwas_coloc = list(beta = gwas_res$BETA, varbeta = gwas_res$SE**2,\n",
    "                    sdY = lead_pheno_trait_sd,type = \"quant\", snp = gwas_res$SNP)\n",
    "ref_gwas_coloc = list(beta = orru_gwas$BETA, varbeta = orru_gwas$SE**2,\n",
    "                    N=orru_gwas$N, MAF=orru_gwas$MAF, type = \"quant\", snp = orru_gwas$ID_merged)\n",
    "coloc_res <- coloc.abf(dataset1=our_gwas_coloc, dataset2=ref_gwas_coloc)"
   ]
  },
  {
   "cell_type": "markdown",
   "id": "9e849f02",
   "metadata": {},
   "source": [
    "### Primary sclerosing cholangitis\n",
    "\n",
    "- https://www.ebi.ac.uk/gwas/studies/GCST004030\n",
    "- 2,871 European ancestry cases, 12,019 European ancestry controls\n",
    "- Genome-wide association study of primary sclerosing cholangitis identifies new risk loci and quantifies the genetic relationship with inflammatory bowel disease.\n",
    "Ji et al"
   ]
  },
  {
   "cell_type": "code",
   "execution_count": 39,
   "id": "4cee1b06",
   "metadata": {},
   "outputs": [
    {
     "data": {
      "text/html": [
       "<table class=\"dataframe\">\n",
       "<caption>A data.frame: 2 × 4</caption>\n",
       "<thead>\n",
       "\t<tr><th></th><th scope=col>SNP</th><th scope=col>ID</th><th scope=col>BETA</th><th scope=col>P</th></tr>\n",
       "\t<tr><th></th><th scope=col>&lt;chr&gt;</th><th scope=col>&lt;chr&gt;</th><th scope=col>&lt;dbl&gt;</th><th scope=col>&lt;dbl&gt;</th></tr>\n",
       "</thead>\n",
       "<tbody>\n",
       "\t<tr><th scope=row>3124</th><td>rs146807490</td><td>15:80259955:TGTAA:T</td><td>0.1655144</td><td>1.310619e-06</td></tr>\n",
       "\t<tr><th scope=row>3142</th><td>rs11632488 </td><td>15:80267501:A:G    </td><td>0.1646666</td><td>1.471368e-06</td></tr>\n",
       "</tbody>\n",
       "</table>\n"
      ],
      "text/latex": [
       "A data.frame: 2 × 4\n",
       "\\begin{tabular}{r|llll}\n",
       "  & SNP & ID & BETA & P\\\\\n",
       "  & <chr> & <chr> & <dbl> & <dbl>\\\\\n",
       "\\hline\n",
       "\t3124 & rs146807490 & 15:80259955:TGTAA:T & 0.1655144 & 1.310619e-06\\\\\n",
       "\t3142 & rs11632488  & 15:80267501:A:G     & 0.1646666 & 1.471368e-06\\\\\n",
       "\\end{tabular}\n"
      ],
      "text/markdown": [
       "\n",
       "A data.frame: 2 × 4\n",
       "\n",
       "| <!--/--> | SNP &lt;chr&gt; | ID &lt;chr&gt; | BETA &lt;dbl&gt; | P &lt;dbl&gt; |\n",
       "|---|---|---|---|---|\n",
       "| 3124 | rs146807490 | 15:80259955:TGTAA:T | 0.1655144 | 1.310619e-06 |\n",
       "| 3142 | rs11632488  | 15:80267501:A:G     | 0.1646666 | 1.471368e-06 |\n",
       "\n"
      ],
      "text/plain": [
       "     SNP         ID                  BETA      P           \n",
       "3124 rs146807490 15:80259955:TGTAA:T 0.1655144 1.310619e-06\n",
       "3142 rs11632488  15:80267501:A:G     0.1646666 1.471368e-06"
      ]
     },
     "metadata": {},
     "output_type": "display_data"
    }
   ],
   "source": [
    "psc_gwas = read.delim(\"/data/srlab/lrumker/MCSC_Project/cna-qtl/ref_gwas/sumstats/ipsc.munged.chr15.txt\",\n",
    "                     header = TRUE, stringsAsFactors = FALSE, sep=\" \")\n",
    "rownames(psc_gwas)=c(1:nrow(psc_gwas))\n",
    "psc_gwas$CHR = psc_gwas$chr\n",
    "psc_gwas$BP = psc_gwas$pos\n",
    "psc_gwas$P = psc_gwas$p\n",
    "psc_gwas$SE = psc_gwas$se\n",
    "psc_gwas$BETA = log(psc_gwas$or)\n",
    "psc_gwas$effect_allele = psc_gwas$allele_1 # allele_1 is the risk allele, per header info\n",
    "psc_gwas$other_allele = psc_gwas$allele_0\n",
    "\n",
    "# Import allele doses for computing LD\n",
    "out_obj = keep_shared_snps(ref_gwas=psc_gwas, celltype=celltype, lead_snp=lead_snp)\n",
    "psc_gwas=out_obj[[1]]\n",
    "geno=out_obj[[2]]\n",
    "\n",
    "psc_gwas[order(psc_gwas$P),][1:2,c(\"SNP\", \"ID\", \"BETA\", \"P\")] # lead snp"
   ]
  },
  {
   "cell_type": "code",
   "execution_count": 40,
   "id": "f74b5f5f",
   "metadata": {},
   "outputs": [
    {
     "name": "stderr",
     "output_type": "stream",
     "text": [
      "Warning message in check_dataset(d = dataset2, 2):\n",
      "“minimum p value is: 2.2565e-06\n",
      "If this is what you expected, this is not a problem.\n",
      "If this is not as small as you expected, please check the 02_data vignette.”\n"
     ]
    },
    {
     "name": "stdout",
     "output_type": "stream",
     "text": [
      "PP.H0.abf PP.H1.abf PP.H2.abf PP.H3.abf PP.H4.abf \n",
      " 2.36e-07  2.31e-03  2.22e-06  2.08e-02  9.77e-01 \n",
      "[1] \"PP abf for shared variant: 97.7%\"\n"
     ]
    }
   ],
   "source": [
    "# coloc\n",
    "gwas_res = read.table(paste0(\"/data/srlab/lrumker/MCSC_Project/cna-qtl/results/coloc/gwas_local_\",\n",
    "                             celltype,\"_\" ,lead_snp,\"_cis.qassoc\"), \n",
    "                      header=TRUE, stringsAsFactors=FALSE)\n",
    "gwas_res = gwas_res[gwas_res$SNP %in% psc_gwas$ID_merged,]\n",
    "all_phenos = read.table(paste0(\"/data/srlab/lrumker/MCSC_Project/cna-qtl/results/gwas_\", \n",
    "                        celltype,\"/spheno.tsv\"), header = TRUE, row.names=1)\n",
    "lead_pheno_trait_sd = sd(all_phenos[paste0(\"X\", paste0(strsplit(lead_snp, \":\")[[1]], collapse=\".\"))][,1])\n",
    "our_gwas_coloc = list(beta = gwas_res$BETA, varbeta = gwas_res$SE**2,\n",
    "                    sdY = lead_pheno_trait_sd,type = \"quant\", snp = gwas_res$SNP)\n",
    "ref_gwas_coloc = list(beta = psc_gwas$BETA, varbeta = psc_gwas$SE**2,\n",
    "                     type = \"cc\", snp = psc_gwas$ID_merged) # case-control\n",
    "coloc_res <- coloc.abf(dataset1=our_gwas_coloc, dataset2=ref_gwas_coloc)"
   ]
  }
 ],
 "metadata": {
  "kernelspec": {
   "display_name": "R",
   "language": "R",
   "name": "ir"
  },
  "language_info": {
   "codemirror_mode": "r",
   "file_extension": ".r",
   "mimetype": "text/x-r-source",
   "name": "R",
   "pygments_lexer": "r",
   "version": "4.0.5"
  }
 },
 "nbformat": 4,
 "nbformat_minor": 5
}
