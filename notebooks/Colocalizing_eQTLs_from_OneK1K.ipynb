{
 "cells": [
  {
   "cell_type": "markdown",
   "id": "9234b469",
   "metadata": {},
   "source": [
    "# Review candidate colocalizing eQTLs detected in the OneK1K dataset"
   ]
  },
  {
   "cell_type": "code",
   "execution_count": 1,
   "id": "04ebb5c4",
   "metadata": {},
   "outputs": [
    {
     "name": "stderr",
     "output_type": "stream",
     "text": [
      "This is a new update to coloc.\n",
      "\n"
     ]
    }
   ],
   "source": [
    "library(scales)\n",
    "library(xtable)\n",
    "library(coloc)\n",
    "# Output of coloc is posterior probabilities of \n",
    "# H0 (no causal variant)\n",
    "# H1 (causal variant for trait 1 only) \n",
    "# H2 (causal variant for trait 2 only)\n",
    "# H3 (two distinct causal variants)\n",
    "# H4 (one common causal variant) -- we report\n",
    "\n",
    "fig_dir = \"/data/srlab/lrumker/MCSC_Project/cna-qtl/figs/\"\n",
    "tab_dir = \"/data/srlab/lrumker/MCSC_Project/cna-qtl/tables/\""
   ]
  },
  {
   "cell_type": "code",
   "execution_count": 2,
   "id": "96a018a5",
   "metadata": {},
   "outputs": [],
   "source": [
    "eqtl_coloc<-function(lead_snp, csaQTL_celltype, sel_gene, expr_celltype,\n",
    "                     N_eqtl_samples){\n",
    "    # Import pseudobulk eQTL summary statistics\n",
    "    eqtls =read.csv(paste0(\"/data/srlab/lrumker/MCSC_Project/cna-qtl/eqtls/results/pseudobulk/\",\n",
    "                            csaQTL_celltype,\"_\",lead_snp,\"_csaQTL_test_\",expr_celltype,\"_eQTLs_pseudobulk_eQTLs.csv\"),\n",
    "                   row.names=1)\n",
    "    eqtls = eqtls[eqtls$gene==sel_gene,]\n",
    "\n",
    "    # Add MAF\n",
    "    G_info = read.delim(paste0(\"/data/srlab/lrumker/MCSC_Project/cna-qtl/results/geno_munge/cis_snps/\", csaQTL_celltype,\n",
    "                              \"_\",lead_snp,\"_cis.vcf.gz\"), stringsAsFactors = FALSE, header = TRUE, skip=15)\n",
    "    rownames(G_info) = G_info$ID\n",
    "    G_info = G_info[eqtls$variant,]\n",
    "    G_info = G_info[,c(1:9)]\n",
    "    get_MAF <-function(info_str){\n",
    "        maf_str = strsplit(info_str,\";\")[[1]][2]\n",
    "        return(as.numeric(strsplit(maf_str,\"=\")[[1]][2]))\n",
    "    }\n",
    "    G_info$MAF = apply(as.matrix(G_info$INFO, ncol=1),1,get_MAF)\n",
    "    eqtls$MAF = G_info$MAF\n",
    "    \n",
    "    # run coloc\n",
    "    gwas_res = read.table(paste0(\"/data/srlab/lrumker/MCSC_Project/cna-qtl/results/coloc/gwas_local_\",\n",
    "                                 csaQTL_celltype,\"_\" ,lead_snp,\"_cis.qassoc\"), \n",
    "                          header=TRUE, stringsAsFactors=FALSE)\n",
    "    all_phenos = read.table(paste0(\"/data/srlab/lrumker/MCSC_Project/cna-qtl/results/gwas_\", \n",
    "                            csaQTL_celltype,\"/spheno.tsv\"), header = TRUE, row.names=1)\n",
    "    lead_pheno_trait_sd = sd(all_phenos[paste0(\"X\", paste0(strsplit(lead_snp, \":\")[[1]], collapse=\".\"))][,1])\n",
    "    our_gwas_coloc = list(beta = gwas_res$BETA, varbeta = gwas_res$SE**2,\n",
    "                        sdY = lead_pheno_trait_sd,type = \"quant\", snp = gwas_res$SNP)\n",
    "\n",
    "    ref_gwas_coloc = list(beta = eqtls$beta, varbeta = eqtls$stderr**2,\n",
    "                        N=N_eqtl_samples, MAF=eqtls$MAF, type = \"quant\", snp = eqtls$variant)\n",
    "    coloc_res <- coloc.abf(dataset1=our_gwas_coloc, dataset2=ref_gwas_coloc)\n",
    "    return(coloc_res$summary[6]) # return PP.H4.abf\n",
    "}"
   ]
  },
  {
   "cell_type": "markdown",
   "id": "d8a1ada7",
   "metadata": {},
   "source": [
    "## Evaluate colocalization for cis-eQTLs\n",
    "\n",
    "The genes with eQTLs detected in pseudobulk that were then tested for eQTLs using the single-cell model are evaluated here for colocalization of the eQTL and csaQTL.\n",
    "\n",
    "For the csaQTL on chromosome 12 associated with expansion of activated NK cells, the candidate eQTLs from our OneK1K analyses are:\n",
    "- Expression of KLRC1, KLRC2 and KLRC3 in NK cells\n",
    "- Expression of KLRK1 in B cells\n",
    "\n",
    "For the csaQTL on chromosome 15 associated with depletion of CD16+ monocytes, the candidate eQTLs from our OneK1K analyses are:\n",
    "- Expression of BCL2A1 in B cells"
   ]
  },
  {
   "cell_type": "code",
   "execution_count": 3,
   "id": "7efe7558",
   "metadata": {},
   "outputs": [
    {
     "name": "stderr",
     "output_type": "stream",
     "text": [
      "Warning message in sdY.est(d$varbeta, d$MAF, d$N):\n",
      "“estimating sdY from maf and varbeta, please directly supply sdY if known”\n"
     ]
    },
    {
     "name": "stdout",
     "output_type": "stream",
     "text": [
      "PP.H0.abf PP.H1.abf PP.H2.abf PP.H3.abf PP.H4.abf \n",
      " 1.91e-67  7.16e-55  9.80e-15  3.58e-02  9.64e-01 \n",
      "[1] \"PP abf for shared variant: 96.4%\"\n"
     ]
    },
    {
     "name": "stderr",
     "output_type": "stream",
     "text": [
      "Warning message in sdY.est(d$varbeta, d$MAF, d$N):\n",
      "“estimating sdY from maf and varbeta, please directly supply sdY if known”\n"
     ]
    },
    {
     "name": "stdout",
     "output_type": "stream",
     "text": [
      "PP.H0.abf PP.H1.abf PP.H2.abf PP.H3.abf PP.H4.abf \n",
      " 3.74e-69  1.40e-56  2.67e-13  1.00e+00  2.89e-14 \n",
      "[1] \"PP abf for shared variant: 2.89e-12%\"\n"
     ]
    },
    {
     "name": "stderr",
     "output_type": "stream",
     "text": [
      "Warning message in sdY.est(d$varbeta, d$MAF, d$N):\n",
      "“estimating sdY from maf and varbeta, please directly supply sdY if known”\n"
     ]
    },
    {
     "name": "stdout",
     "output_type": "stream",
     "text": [
      "PP.H0.abf PP.H1.abf PP.H2.abf PP.H3.abf PP.H4.abf \n",
      "1.93e-174 7.25e-162  2.67e-13  1.00e+00  6.65e-05 \n",
      "[1] \"PP abf for shared variant: 0.00665%\"\n"
     ]
    }
   ],
   "source": [
    "eqtl_res = data.frame(matrix(ncol = 7, nrow = 0))\n",
    "colnames(eqtl_res) = c(\"Cell Type\", \"Lead SNP\",\"eGene\",\"Beta\", \"P\", \"csaQTL\", \"Colocalization\")\n",
    "\n",
    "lead_snp=\"12:10583611:C:T\"\n",
    "csaQTL_celltype=\"NK\"\n",
    "expr_celltype=\"NK\"\n",
    "N_eqtl_samples = 935\n",
    "\n",
    "for(sel_gene in c(\"KLRC1\", \"KLRC2\", \"KLRC3\")){\n",
    "    PPH4 = eqtl_coloc(lead_snp, csaQTL_celltype, sel_gene, \n",
    "                                        expr_celltype, N_eqtl_samples)\n",
    "    \n",
    "    # lead SNP from single-cell eQTL analysis\n",
    "    res = read.csv(paste0(\"/data/srlab/lrumker/MCSC_Project/cna-qtl/eqtls/results/sceQTL/\",\n",
    "             csaQTL_celltype, \"_\", lead_snp,\"_csaQTL_test_\",expr_celltype,\n",
    "             \"_sceQTLs_\", sel_gene, \".csv\"))\n",
    "    \n",
    "    new = data.frame(matrix(c(expr_celltype, res[which(res$P==min(res$P)),]$SNP, sel_gene,\n",
    "                             res[which(res$P==min(res$P)),]$BETA,\n",
    "                             res[which(res$P==min(res$P)),]$P, \n",
    "                             paste0(csaQTL_celltype, \"_\", lead_snp),\n",
    "                             PPH4), nrow=1))\n",
    "    colnames(new) = colnames(eqtl_res)\n",
    "    eqtl_res = rbind(eqtl_res, new)\n",
    "}"
   ]
  },
  {
   "cell_type": "code",
   "execution_count": 4,
   "id": "fcc25006",
   "metadata": {},
   "outputs": [
    {
     "name": "stderr",
     "output_type": "stream",
     "text": [
      "Warning message in sdY.est(d$varbeta, d$MAF, d$N):\n",
      "“estimating sdY from maf and varbeta, please directly supply sdY if known”\n"
     ]
    },
    {
     "name": "stdout",
     "output_type": "stream",
     "text": [
      "PP.H0.abf PP.H1.abf PP.H2.abf PP.H3.abf PP.H4.abf \n",
      " 1.13e-61  4.23e-49  2.67e-13  1.00e+00  3.98e-05 \n",
      "[1] \"PP abf for shared variant: 0.00398%\"\n"
     ]
    }
   ],
   "source": [
    "expr_celltype=\"B\"\n",
    "N_eqtl_samples = 910\n",
    "\n",
    "for(sel_gene in c(\"KLRK1\")){\n",
    "    PPH4 = eqtl_coloc(lead_snp, csaQTL_celltype, sel_gene, \n",
    "                                        expr_celltype, N_eqtl_samples)\n",
    "    \n",
    "    # lead SNP from single-cell eQTL analysis\n",
    "    res = read.csv(paste0(\"/data/srlab/lrumker/MCSC_Project/cna-qtl/eqtls/results/sceQTL/\",\n",
    "             csaQTL_celltype, \"_\", lead_snp,\"_csaQTL_test_\",expr_celltype,\n",
    "             \"_sceQTLs_\", sel_gene, \".csv\"))\n",
    "    \n",
    "    new = data.frame(matrix(c(expr_celltype, res[which(res$P==min(res$P)),]$SNP, sel_gene,\n",
    "                             res[which(res$P==min(res$P)),]$BETA,\n",
    "                             res[which(res$P==min(res$P)),]$P, \n",
    "                             paste0(csaQTL_celltype, \"_\", lead_snp),\n",
    "                             PPH4), nrow=1))\n",
    "    colnames(new) = colnames(eqtl_res)\n",
    "    eqtl_res = rbind(eqtl_res, new)\n",
    "}"
   ]
  },
  {
   "cell_type": "code",
   "execution_count": 5,
   "id": "5992cb17",
   "metadata": {},
   "outputs": [
    {
     "name": "stderr",
     "output_type": "stream",
     "text": [
      "Warning message in sdY.est(d$varbeta, d$MAF, d$N):\n",
      "“estimating sdY from maf and varbeta, please directly supply sdY if known”\n"
     ]
    },
    {
     "name": "stdout",
     "output_type": "stream",
     "text": [
      "PP.H0.abf PP.H1.abf PP.H2.abf PP.H3.abf PP.H4.abf \n",
      " 9.63e-90  1.13e-85  8.49e-05  1.00e+00  6.46e-06 \n",
      "[1] \"PP abf for shared variant: 0.000646%\"\n"
     ]
    }
   ],
   "source": [
    "lead_snp=\"15:80263217:C:T\"\n",
    "csaQTL_celltype=\"Myeloid\"\n",
    "expr_celltype=\"B\"\n",
    "N_eqtl_samples = 910\n",
    "\n",
    "for(sel_gene in c(\"BCL2A1\")){\n",
    "    PPH4 = eqtl_coloc(lead_snp, csaQTL_celltype, sel_gene, \n",
    "                                        expr_celltype, N_eqtl_samples)\n",
    "    \n",
    "    # lead SNP from single-cell eQTL analysis\n",
    "    res = read.csv(paste0(\"/data/srlab/lrumker/MCSC_Project/cna-qtl/eqtls/results/sceQTL/\",\n",
    "             csaQTL_celltype, \"_\", lead_snp,\"_csaQTL_test_\",expr_celltype,\n",
    "             \"_sceQTLs_\", sel_gene, \".csv\"))\n",
    "    \n",
    "    new = data.frame(matrix(c(expr_celltype, res[which(res$P==min(res$P)),]$SNP, sel_gene,\n",
    "                             res[which(res$P==min(res$P)),]$BETA,\n",
    "                             res[which(res$P==min(res$P)),]$P, \n",
    "                             paste0(csaQTL_celltype, \"_\", lead_snp),\n",
    "                             PPH4), nrow=1))\n",
    "    colnames(new) = colnames(eqtl_res)\n",
    "    eqtl_res = rbind(eqtl_res, new)\n",
    "}"
   ]
  },
  {
   "cell_type": "code",
   "execution_count": 6,
   "id": "57b74721",
   "metadata": {},
   "outputs": [
    {
     "data": {
      "text/html": [
       "<table class=\"dataframe\">\n",
       "<caption>A data.frame: 5 × 7</caption>\n",
       "<thead>\n",
       "\t<tr><th scope=col>Cell Type</th><th scope=col>Lead SNP</th><th scope=col>eGene</th><th scope=col>Beta</th><th scope=col>P</th><th scope=col>csaQTL</th><th scope=col>Colocalization</th></tr>\n",
       "\t<tr><th scope=col>&lt;chr&gt;</th><th scope=col>&lt;chr&gt;</th><th scope=col>&lt;chr&gt;</th><th scope=col>&lt;chr&gt;</th><th scope=col>&lt;chr&gt;</th><th scope=col>&lt;chr&gt;</th><th scope=col>&lt;chr&gt;</th></tr>\n",
       "</thead>\n",
       "<tbody>\n",
       "\t<tr><td>NK</td><td>12:10594848:C:A</td><td>KLRC1 </td><td>-0.4 </td><td> 1.0e-41</td><td>NK_12:10583611:C:T     </td><td>0.96   </td></tr>\n",
       "\t<tr><td>NK</td><td>12:10580062:C:T</td><td>KLRC2 </td><td>-0.86</td><td> 5.2e-64</td><td>NK_12:10583611:C:T     </td><td>2.9e-14</td></tr>\n",
       "\t<tr><td>NK</td><td>12:10574001:T:C</td><td>KLRC3 </td><td>-0.59</td><td>1.1e-117</td><td>NK_12:10583611:C:T     </td><td>6.6e-05</td></tr>\n",
       "\t<tr><td>B </td><td>12:10561279:C:G</td><td>KLRK1 </td><td>-0.6 </td><td> 2.3e-56</td><td>NK_12:10583611:C:T     </td><td>4.0e-05</td></tr>\n",
       "\t<tr><td>B </td><td>15:80311721:T:C</td><td>BCL2A1</td><td>0.31 </td><td> 2.6e-64</td><td>Myeloid_15:80263217:C:T</td><td>6.5e-06</td></tr>\n",
       "</tbody>\n",
       "</table>\n"
      ],
      "text/latex": [
       "A data.frame: 5 × 7\n",
       "\\begin{tabular}{lllllll}\n",
       " Cell Type & Lead SNP & eGene & Beta & P & csaQTL & Colocalization\\\\\n",
       " <chr> & <chr> & <chr> & <chr> & <chr> & <chr> & <chr>\\\\\n",
       "\\hline\n",
       "\t NK & 12:10594848:C:A & KLRC1  & -0.4  &  1.0e-41 & NK\\_12:10583611:C:T      & 0.96   \\\\\n",
       "\t NK & 12:10580062:C:T & KLRC2  & -0.86 &  5.2e-64 & NK\\_12:10583611:C:T      & 2.9e-14\\\\\n",
       "\t NK & 12:10574001:T:C & KLRC3  & -0.59 & 1.1e-117 & NK\\_12:10583611:C:T      & 6.6e-05\\\\\n",
       "\t B  & 12:10561279:C:G & KLRK1  & -0.6  &  2.3e-56 & NK\\_12:10583611:C:T      & 4.0e-05\\\\\n",
       "\t B  & 15:80311721:T:C & BCL2A1 & 0.31  &  2.6e-64 & Myeloid\\_15:80263217:C:T & 6.5e-06\\\\\n",
       "\\end{tabular}\n"
      ],
      "text/markdown": [
       "\n",
       "A data.frame: 5 × 7\n",
       "\n",
       "| Cell Type &lt;chr&gt; | Lead SNP &lt;chr&gt; | eGene &lt;chr&gt; | Beta &lt;chr&gt; | P &lt;chr&gt; | csaQTL &lt;chr&gt; | Colocalization &lt;chr&gt; |\n",
       "|---|---|---|---|---|---|---|\n",
       "| NK | 12:10594848:C:A | KLRC1  | -0.4  |  1.0e-41 | NK_12:10583611:C:T      | 0.96    |\n",
       "| NK | 12:10580062:C:T | KLRC2  | -0.86 |  5.2e-64 | NK_12:10583611:C:T      | 2.9e-14 |\n",
       "| NK | 12:10574001:T:C | KLRC3  | -0.59 | 1.1e-117 | NK_12:10583611:C:T      | 6.6e-05 |\n",
       "| B  | 12:10561279:C:G | KLRK1  | -0.6  |  2.3e-56 | NK_12:10583611:C:T      | 4.0e-05 |\n",
       "| B  | 15:80311721:T:C | BCL2A1 | 0.31  |  2.6e-64 | Myeloid_15:80263217:C:T | 6.5e-06 |\n",
       "\n"
      ],
      "text/plain": [
       "  Cell Type Lead SNP        eGene  Beta  P        csaQTL                 \n",
       "1 NK        12:10594848:C:A KLRC1  -0.4   1.0e-41 NK_12:10583611:C:T     \n",
       "2 NK        12:10580062:C:T KLRC2  -0.86  5.2e-64 NK_12:10583611:C:T     \n",
       "3 NK        12:10574001:T:C KLRC3  -0.59 1.1e-117 NK_12:10583611:C:T     \n",
       "4 B         12:10561279:C:G KLRK1  -0.6   2.3e-56 NK_12:10583611:C:T     \n",
       "5 B         15:80311721:T:C BCL2A1 0.31   2.6e-64 Myeloid_15:80263217:C:T\n",
       "  Colocalization\n",
       "1 0.96          \n",
       "2 2.9e-14       \n",
       "3 6.6e-05       \n",
       "4 4.0e-05       \n",
       "5 6.5e-06       "
      ]
     },
     "metadata": {},
     "output_type": "display_data"
    }
   ],
   "source": [
    "# reformat results for display and save results\n",
    "eqtl_res$Beta = as.character(round(as.numeric(eqtl_res$Beta),2))\n",
    "eqtl_res$P = format(as.numeric(eqtl_res$P), scientific = TRUE, digits = 2)\n",
    "eqtl_res$Colocalization = format(as.numeric(eqtl_res$Colocalization), \n",
    "                                 scientific = TRUE, digits = 2)\n",
    "non_sci = as.numeric(eqtl_res$Colocalization)>0.01\n",
    "eqtl_res$Colocalization[non_sci] = round(as.numeric(eqtl_res$Colocalization[non_sci]),2)\n",
    "\n",
    "print(xtable(eqtl_res, type = \"latex\"), file = paste0(tab_dir,\"OneK1K_eQTLs.tex\"))\n",
    "eqtl_res"
   ]
  }
 ],
 "metadata": {
  "kernelspec": {
   "display_name": "R",
   "language": "R",
   "name": "ir"
  },
  "language_info": {
   "codemirror_mode": "r",
   "file_extension": ".r",
   "mimetype": "text/x-r-source",
   "name": "R",
   "pygments_lexer": "r",
   "version": "4.0.5"
  }
 },
 "nbformat": 4,
 "nbformat_minor": 5
}
