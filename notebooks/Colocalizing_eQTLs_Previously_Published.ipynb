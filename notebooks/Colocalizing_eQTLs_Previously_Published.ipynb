{
 "cells": [
  {
   "cell_type": "markdown",
   "id": "ded7eff7",
   "metadata": {},
   "source": [
    "# Review published eQTL and pQTL candidates for csaQTL colocalization"
   ]
  },
  {
   "cell_type": "code",
   "execution_count": 1,
   "id": "9d776fe8",
   "metadata": {},
   "outputs": [
    {
     "name": "stderr",
     "output_type": "stream",
     "text": [
      "This is a new update to coloc.\n",
      "\n",
      "\n",
      "Attaching package: ‘dplyr’\n",
      "\n",
      "\n",
      "The following objects are masked from ‘package:stats’:\n",
      "\n",
      "    filter, lag\n",
      "\n",
      "\n",
      "The following objects are masked from ‘package:base’:\n",
      "\n",
      "    intersect, setdiff, setequal, union\n",
      "\n",
      "\n"
     ]
    }
   ],
   "source": [
    "library(scales)\n",
    "library(xtable)\n",
    "library(coloc)\n",
    "library(dplyr)\n",
    "# Output of coloc is posterior probabilities of \n",
    "# H0 (no causal variant)\n",
    "# H1 (causal variant for trait 1 only) \n",
    "# H2 (causal variant for trait 2 only)\n",
    "# H3 (two distinct causal variants)\n",
    "# H4 (one common causal variant) -- we report\n",
    "\n",
    "fig_dir = \"/data/srlab/lrumker/MCSC_Project/cna-qtl/figs/\"\n",
    "tab_dir = \"/data/srlab/lrumker/MCSC_Project/cna-qtl/tables/\""
   ]
  },
  {
   "cell_type": "code",
   "execution_count": 2,
   "id": "4fa5b4a7",
   "metadata": {},
   "outputs": [],
   "source": [
    "saved_sources = c()\n",
    "saved_genes = c()\n",
    "LD_thresh=0.8 # LD threshold (LD to csaQTL lead SNP) for displaying SNPs with published QTL associations"
   ]
  },
  {
   "cell_type": "markdown",
   "id": "0cce34cf",
   "metadata": {},
   "source": [
    "## Review published QTLs for those with some LD to csaQTL lead SNP"
   ]
  },
  {
   "cell_type": "code",
   "execution_count": 3,
   "id": "894923ce",
   "metadata": {},
   "outputs": [
    {
     "name": "stderr",
     "output_type": "stream",
     "text": [
      "Warning message in if (LD[lead_snp, eQTL_lead_snp] > LD_thresh) {:\n",
      "“the condition has length > 1 and only the first element will be used”\n",
      "Warning message in if (LD[lead_snp, eQTL_lead_snp] > LD_thresh) {:\n",
      "“the condition has length > 1 and only the first element will be used”\n",
      "Warning message in if (LD[lead_snp, eQTL_lead_snp] > LD_thresh) {:\n",
      "“the condition has length > 1 and only the first element will be used”\n",
      "Warning message in if (LD[lead_snp, eQTL_lead_snp] > LD_thresh) {:\n",
      "“the condition has length > 1 and only the first element will be used”\n",
      "Warning message in if (LD[lead_snp, eQTL_lead_snp] > LD_thresh) {:\n",
      "“the condition has length > 1 and only the first element will be used”\n",
      "Warning message in if (LD[lead_snp, eQTL_lead_snp] > LD_thresh) {:\n",
      "“the condition has length > 1 and only the first element will be used”\n"
     ]
    }
   ],
   "source": [
    "lead_snps=c(\"15:80263217:C:T\", \"2:111851212:C:T\", \"11:128070535:A:G\", \"12:10583611:C:T\", \"19:16441973:G:A\")\n",
    "csaQTL_celltypes=c(\"Myeloid\", \"NK\", \"NK\", \"NK\", \"NK\")\n",
    "for(i_snp in c(1:5)){\n",
    "    csaQTL_celltype=csaQTL_celltypes[i_snp]\n",
    "    lead_snp = lead_snps[i_snp]\n",
    "    \n",
    "    geno <- read.table(paste0(\"/data/srlab/lrumker/MCSC_Project/cna-qtl/results/geno_munge/cis_snps/\",\n",
    "                          csaQTL_celltype,\"_\",lead_snp, \"_cis.DS.vcf.gz\"), row.names=1)\n",
    "    LD = cor(t(geno))**2\n",
    "\n",
    "    # Gilchrist NK eQTLs\n",
    "    i_ref=115 \n",
    "    infile = paste0(\"/data/srlab/lrumker/MCSC_Project/cna-qtl/eqtls/sumstats/Gilchrist/\",\n",
    "                    csaQTL_celltype,\"_\",lead_snp,\"_QTD000\",i_ref,\"_cis.hg19.renamed.csv\")\n",
    "    # Files are absent if no SNPs in the cis window have nominal associations\n",
    "    res = suppressWarnings(tryCatch(read.table(infile), error=function(e) NULL))\n",
    "    if(!is.null(res)){\n",
    "        res$ID = paste0(res$CHR, rep(\":\", dim(res)[1]), res$BP, rep(\":\", dim(res)[1]), \n",
    "               res$other_allele, rep(\":\", dim(res)[1]), res$effect_allele)\n",
    "        LD_snps = colnames(LD)[which(LD[lead_snp,]>LD_thresh)]\n",
    "        i_LD_snps = match(LD_snps, res$ID)\n",
    "        i_LD_snps = i_LD_snps[which(!is.na(i_LD_snps))]\n",
    "        ld_res = res[i_LD_snps,]\n",
    "        if(dim(ld_res)[1]>0){ # If any SNPs with LD above the threshold passed the p-value threshold\n",
    "            for(gene_id in unique(ld_res$gene_id)){ # For a given candidate eGene\n",
    "                gene_res = res[res$gene_id==gene_id,]\n",
    "                gene_res = gene_res[gene_res$ID %in% colnames(LD),]\n",
    "                eQTL_lead_snp = gene_res$ID[which(gene_res$P==min(gene_res$P))]\n",
    "                if(LD[lead_snp, eQTL_lead_snp]>LD_thresh){ # If eQTL lead snp and csaQTL lead snp in LD\n",
    "                    saved_sources = c(saved_sources, infile)\n",
    "                    saved_genes = c(saved_genes, gene_id)\n",
    "                }\n",
    "            }\n",
    "        }\n",
    "    }\n",
    "    \n",
    "    # Sun pQTLs\n",
    "    i_ref=584 \n",
    "    infile = paste0(\"/data/srlab/lrumker/MCSC_Project/cna-qtl/eqtls/sumstats/Sun/\",\n",
    "                    csaQTL_celltype,\"_\",lead_snp,\"_QTD000\",i_ref,\"_cis.hg19.renamed.csv\")\n",
    "    res = suppressWarnings(tryCatch(read.table(infile), error=function(e) NULL))\n",
    "    if(!is.null(res)){\n",
    "        res$ID = paste0(res$CHR, rep(\":\", dim(res)[1]), res$BP, rep(\":\", dim(res)[1]), \n",
    "               res$other_allele, rep(\":\", dim(res)[1]), res$effect_allele)\n",
    "        LD_snps = colnames(LD)[which(LD[lead_snp,]>LD_thresh)]\n",
    "        i_LD_snps = match(LD_snps, res$ID)\n",
    "        i_LD_snps = i_LD_snps[which(!is.na(i_LD_snps))]\n",
    "        ld_res = res[i_LD_snps,]\n",
    "        if(dim(ld_res)[1]>0){ # If any SNPs with LD above the threshold passed the p-value threshold\n",
    "            for(gene_id in unique(ld_res$gene_id)){ # For a given candidate protein\n",
    "                gene_res = res[res$gene_id==gene_id,]\n",
    "                gene_res = gene_res[gene_res$ID %in% colnames(LD),]\n",
    "                eQTL_lead_snp = gene_res$ID[which(gene_res$P==min(gene_res$P))]\n",
    "                if(LD[lead_snp, eQTL_lead_snp]>LD_thresh){ # If pQTL lead snp and csaQTL lead snp in LD\n",
    "                    saved_sources = c(saved_sources, infile)\n",
    "                    saved_genes = c(saved_genes, gene_id)\n",
    "                }\n",
    "            }\n",
    "        }\n",
    "    } \n",
    "                   \n",
    "    # BLUEPRINT eQTLs — several cell type specific analyses\n",
    "    # Downloaded all quantification methods but just consider gene expression 'ge'\n",
    "    for(i_ref in c(21, 26, 31)){\n",
    "        infile = paste0(\"/data/srlab/lrumker/MCSC_Project/cna-qtl/eqtls/sumstats/BLUEPRINT/\",\n",
    "                        csaQTL_celltype,\"_\",lead_snp,\"_QTD0000\",i_ref,\"_cis.hg19.renamed.csv\")\n",
    "        res = suppressWarnings(tryCatch(read.csv(infile), error=function(e) NULL))\n",
    "        if(!is.null(res)){\n",
    "            res$ID = paste0(res$CHR, rep(\":\", dim(res)[1]), res$BP, rep(\":\", dim(res)[1]), \n",
    "                   res$other_allele, rep(\":\", dim(res)[1]), res$effect_allele)\n",
    "            LD_snps = colnames(LD)[which(LD[lead_snp,]>LD_thresh)]\n",
    "            i_LD_snps = match(LD_snps, res$ID)\n",
    "            i_LD_snps = i_LD_snps[which(!is.na(i_LD_snps))]\n",
    "            ld_res = res[i_LD_snps,]\n",
    "            if(dim(ld_res)[1]>0){ # If any SNPs with LD above the threshold passed the p-value threshold\n",
    "                for(gene_id in unique(ld_res$gene_id)){ # For a given candidate eGene\n",
    "                    gene_res = res[res$gene_id==gene_id,]\n",
    "                    gene_res = gene_res[gene_res$ID %in% colnames(LD),]\n",
    "                    eQTL_lead_snp = gene_res$ID[which(gene_res$P==min(gene_res$P))]\n",
    "                    if(LD[lead_snp, eQTL_lead_snp]>LD_thresh){ # If eQTL lead snp and csaQTL lead snp in LD\n",
    "                        saved_sources = c(saved_sources, infile)\n",
    "                        saved_genes = c(saved_genes, gene_id)\n",
    "                    }\n",
    "                }\n",
    "            }  \n",
    "        }                                   \n",
    "    }\n",
    "                                        \n",
    "    # Schmiedel eQTLs — NK\n",
    "    infile = paste0(\"/data/srlab/lrumker/MCSC_Project/cna-qtl/eqtls/sumstats/Schmiedel/\",\n",
    "                    csaQTL_celltype,\"_\",lead_snp,\"_NK_cis.hg19.renamed.csv\")\n",
    "    res = suppressWarnings(tryCatch(read.csv(infile), error=function(e) NULL))\n",
    "    if(!is.null(res)){\n",
    "        res$ID = paste0(res$CHR, rep(\":\", dim(res)[1]), res$BP, rep(\":\", dim(res)[1]), \n",
    "               res$other_allele, rep(\":\", dim(res)[1]), res$effect_allele)\n",
    "        LD_snps = colnames(LD)[which(LD[lead_snp,]>LD_thresh)]\n",
    "        i_LD_snps = match(LD_snps, res$ID)\n",
    "        i_LD_snps = i_LD_snps[which(!is.na(i_LD_snps))]\n",
    "        ld_res = res[i_LD_snps,]\n",
    "        if(dim(ld_res)[1]>0){ # If any SNPs with LD above the threshold passed the p-value threshold\n",
    "            for(gene_id in unique(ld_res$gene_id)){ # For a given candidate eGene\n",
    "                gene_res = res[res$gene_id==gene_id,]\n",
    "                gene_res = gene_res[gene_res$ID %in% colnames(LD),]\n",
    "                eQTL_lead_snp = gene_res$ID[which(gene_res$P==min(gene_res$P))]\n",
    "                if(LD[lead_snp, eQTL_lead_snp]>LD_thresh){ # If eQTL lead snp and csaQTL lead snp in LD\n",
    "                    saved_sources = c(saved_sources, infile)\n",
    "                    saved_genes = c(saved_genes, gene_id)\n",
    "                }\n",
    "            }\n",
    "        }\n",
    "    }                                \n",
    "                                        \n",
    "    # eQTLgen — aggregate blood\n",
    "    infile = paste0(\"/data/srlab/lrumker/MCSC_Project/cna-qtl/eqtls/sumstats/eQTLgen/\",\n",
    "                    csaQTL_celltype,\"_\",lead_snp,\"_cis.csv\")\n",
    "    res = suppressWarnings(tryCatch(read.table(infile, header = TRUE), error=function(e) NULL))\n",
    "    if(!is.null(res)){\n",
    "        res$ID = paste0(res$SNPChr, rep(\":\", dim(res)[1]), res$SNPPos, rep(\":\", dim(res)[1]), \n",
    "               res$OtherAllele, rep(\":\", dim(res)[1]), res$AssessedAllele)\n",
    "        LD_snps = colnames(LD)[which(LD[lead_snp,]>LD_thresh)]\n",
    "        i_LD_snps = match(LD_snps, res$ID)\n",
    "        i_LD_snps = i_LD_snps[which(!is.na(i_LD_snps))]\n",
    "        ld_res = res[i_LD_snps,]\n",
    "        if(dim(ld_res)[1]>0){ # If any SNPs with LD above the threshold passed the p-value threshold\n",
    "            for(gene_id in unique(ld_res$GeneSymbol)){ # For a given candidate eGene\n",
    "                gene_res = res[res$GeneSymbol==gene_id,] \n",
    "                gene_res = gene_res[gene_res$ID %in% colnames(LD),]\n",
    "                eQTL_lead_snp = gene_res$ID[which(gene_res$Pvalue==min(gene_res$Pvalue))]\n",
    "                if(LD[lead_snp, eQTL_lead_snp]>LD_thresh){ # If eQTL lead snp and csaQTL lead snp in LD\n",
    "                    saved_sources = c(saved_sources, infile)\n",
    "                    saved_genes = c(saved_genes, gene_id)\n",
    "                }\n",
    "            }\n",
    "        }  \n",
    "    }\n",
    "                                    \n",
    "    # DICE eQTLs — several cell type specific analyses\n",
    "    for(expr_celltype in c(\"MONOCYTES\", \"NK\", \"B_CELL_NAIVE\", \"CD4_NAIVE\", \"CD4_STIM\", \"CD8_NAIVE\", \"CD8_STIM\", \n",
    "                     \"M2\", \"TFH\", \"TH17\", \"TH1\", \"TH2\", \"THSTAR\", \"TREG_MEM\", \"TREG_NAIVE\")){\n",
    "        infile=paste0(\"/data/srlab/lrumker/MCSC_Project/cna-qtl/eqtls/sumstats/DICE/cis_res/\",\n",
    "                          expr_celltype,\".renamed.\",csaQTL_celltype,\"_\", lead_snp,\"_cis.vcf.gz\")\n",
    "        res = suppressWarnings(tryCatch(read.table(infile), error=function(e) NULL))\n",
    "        \n",
    "        if(!is.null(res)){\n",
    "            get_symbol <-function(info_str){\n",
    "                return(strsplit(strsplit(info_str,\";\")[[1]][2],\"=\")[[1]][2])\n",
    "            }\n",
    "            colnames(res) = c(\"CHR\", \"POS\", \"ID\", \"REF\", \"ALT\", \"QUAL\", \"FILTER\", \"INFO\")\n",
    "            res['gene_ID'] = apply(as.matrix(res$INFO, ncol=1), 1, get_symbol)\n",
    "            get_pval <-function(info_str){\n",
    "                return(as.numeric(strsplit(strsplit(info_str,\";\")[[1]][3],\"=\")[[1]][2]))\n",
    "            }\n",
    "            res['p_val'] = apply(as.matrix(res$INFO, ncol=1), 1, get_pval)\n",
    "\n",
    "            LD_snps = colnames(LD)[which(LD[lead_snp,]>LD_thresh)]\n",
    "            i_LD_snps = match(LD_snps, res$ID)\n",
    "            i_LD_snps = i_LD_snps[which(!is.na(i_LD_snps))]\n",
    "            ld_res = res[i_LD_snps,]\n",
    "            if(dim(ld_res)[1]>0){ # If any SNPs with LD above the threshold passed the p-value threshold\n",
    "                for(gene_id in unique(ld_res$gene_ID)){ # For a given candidate eGene\n",
    "                    gene_res = res[res$gene_ID==gene_id,]\n",
    "                    gene_res = gene_res[gene_res$ID %in% colnames(LD),]\n",
    "                    eQTL_lead_snp = gene_res$ID[which(gene_res$p_val==min(gene_res$p_val))]\n",
    "                    if(LD[lead_snp, eQTL_lead_snp]>LD_thresh){ # If eQTL lead snp and csaQTL lead snp in LD\n",
    "                        saved_sources = c(saved_sources, infile)\n",
    "                        saved_genes = c(saved_genes, gene_id)\n",
    "                    }\n",
    "                }\n",
    "            }  \n",
    "        }\n",
    "    }\n",
    "}"
   ]
  },
  {
   "cell_type": "code",
   "execution_count": 4,
   "id": "f7984fc6",
   "metadata": {},
   "outputs": [
    {
     "data": {
      "text/html": [
       "<table class=\"dataframe\">\n",
       "<caption>A data.frame: 5 × 4</caption>\n",
       "<thead>\n",
       "\t<tr><th scope=col>csaQTL</th><th scope=col>gene_id</th><th scope=col>celltype</th><th scope=col>study</th></tr>\n",
       "\t<tr><th scope=col>&lt;chr&gt;</th><th scope=col>&lt;chr&gt;</th><th scope=col>&lt;chr&gt;</th><th scope=col>&lt;chr&gt;</th></tr>\n",
       "</thead>\n",
       "<tbody>\n",
       "\t<tr><td>Myeloid_15:80263217:C:T</td><td>BCL2A1         </td><td>Blood       </td><td>eQTLgen  </td></tr>\n",
       "\t<tr><td>NK_11:128070535:A:G    </td><td>ENSG00000134954</td><td>NK          </td><td>Schmiedel</td></tr>\n",
       "\t<tr><td>NK_12:10583611:C:T     </td><td>RP11-277P12.9  </td><td>B_CELL_NAIVE</td><td>DICE     </td></tr>\n",
       "\t<tr><td>NK_12:10583611:C:T     </td><td>KLRC4          </td><td>CD8_STIM    </td><td>DICE     </td></tr>\n",
       "\t<tr><td>NK_19:16441973:G:A     </td><td>RN7SL823P      </td><td>TH2         </td><td>DICE     </td></tr>\n",
       "</tbody>\n",
       "</table>\n"
      ],
      "text/latex": [
       "A data.frame: 5 × 4\n",
       "\\begin{tabular}{llll}\n",
       " csaQTL & gene\\_id & celltype & study\\\\\n",
       " <chr> & <chr> & <chr> & <chr>\\\\\n",
       "\\hline\n",
       "\t Myeloid\\_15:80263217:C:T & BCL2A1          & Blood        & eQTLgen  \\\\\n",
       "\t NK\\_11:128070535:A:G     & ENSG00000134954 & NK           & Schmiedel\\\\\n",
       "\t NK\\_12:10583611:C:T      & RP11-277P12.9   & B\\_CELL\\_NAIVE & DICE     \\\\\n",
       "\t NK\\_12:10583611:C:T      & KLRC4           & CD8\\_STIM     & DICE     \\\\\n",
       "\t NK\\_19:16441973:G:A      & RN7SL823P       & TH2          & DICE     \\\\\n",
       "\\end{tabular}\n"
      ],
      "text/markdown": [
       "\n",
       "A data.frame: 5 × 4\n",
       "\n",
       "| csaQTL &lt;chr&gt; | gene_id &lt;chr&gt; | celltype &lt;chr&gt; | study &lt;chr&gt; |\n",
       "|---|---|---|---|\n",
       "| Myeloid_15:80263217:C:T | BCL2A1          | Blood        | eQTLgen   |\n",
       "| NK_11:128070535:A:G     | ENSG00000134954 | NK           | Schmiedel |\n",
       "| NK_12:10583611:C:T      | RP11-277P12.9   | B_CELL_NAIVE | DICE      |\n",
       "| NK_12:10583611:C:T      | KLRC4           | CD8_STIM     | DICE      |\n",
       "| NK_19:16441973:G:A      | RN7SL823P       | TH2          | DICE      |\n",
       "\n"
      ],
      "text/plain": [
       "  csaQTL                  gene_id         celltype     study    \n",
       "1 Myeloid_15:80263217:C:T BCL2A1          Blood        eQTLgen  \n",
       "2 NK_11:128070535:A:G     ENSG00000134954 NK           Schmiedel\n",
       "3 NK_12:10583611:C:T      RP11-277P12.9   B_CELL_NAIVE DICE     \n",
       "4 NK_12:10583611:C:T      KLRC4           CD8_STIM     DICE     \n",
       "5 NK_19:16441973:G:A      RN7SL823P       TH2          DICE     "
      ]
     },
     "metadata": {},
     "output_type": "display_data"
    }
   ],
   "source": [
    "# Reformat table of published QTL candidates for colocalization with csaQTL\n",
    "candidates = data.frame(\"infile\"= saved_sources, \"gene_id\"= saved_genes)\n",
    "get_study <- function(in_str) strsplit(in_str, \"/\")[[1]][9]\n",
    "get_csaQTL <- function(in_str) paste0(strsplit(strsplit(in_str, \"/\")[[1]][10], \"_\")[[1]][1:2], collapse=\"_\")\n",
    "get_csaQTL_DICE <- function(in_str) gsub('_cis', '', strsplit(strsplit(in_str, \"/\")[[1]][11], \"\\\\.\")[[1]][3])\n",
    "get_expr_celltype <- function(in_str) strsplit(strsplit(in_str, \"/\")[[1]][10], \"_\")[[1]][3]\n",
    "get_expr_celltype_DICE <- function(in_str) strsplit(strsplit(in_str, \"/\")[[1]][11], \"\\\\.\")[[1]][1]\n",
    "candidates$study = apply(as.matrix(candidates$infile, ncol=1), 1, get_study)\n",
    "candidates$csaQTL = apply(as.matrix(candidates$infile, ncol=1), 1, get_csaQTL)\n",
    "candidates$csaQTL[which(candidates$study==\"DICE\")] = apply(as.matrix(candidates$infile[which(candidates$study==\"DICE\")], \n",
    "                                                        ncol=1), 1, get_csaQTL_DICE)\n",
    "candidates$celltype = apply(as.matrix(candidates$infile, ncol=1), 1, get_expr_celltype)\n",
    "candidates$celltype[which(candidates$study==\"DICE\")] = apply(as.matrix(candidates$infile[which(candidates$study==\"DICE\")], \n",
    "                                                        ncol=1), 1, get_expr_celltype_DICE)\n",
    "candidates$celltype[which(candidates$study==\"eQTLgen\")] = \"Blood\"\n",
    "export = candidates[c(1,2,4),c(\"csaQTL\", \"gene_id\",\"celltype\", \"study\")] # Ignore lncRNA (RP11-277P12.9) and pseudogene (RN7SL823P)\n",
    "candidates[,c(\"csaQTL\", \"gene_id\",\"celltype\", \"study\")]"
   ]
  },
  {
   "cell_type": "markdown",
   "id": "d1c572a4",
   "metadata": {},
   "source": [
    "## Test colocalization"
   ]
  },
  {
   "cell_type": "markdown",
   "id": "3da2f9db",
   "metadata": {},
   "source": [
    "### eQTLgen BCL2A1"
   ]
  },
  {
   "cell_type": "code",
   "execution_count": 5,
   "id": "b75a31c1",
   "metadata": {},
   "outputs": [],
   "source": [
    "i_locus = 1\n",
    "lead_snp = strsplit(candidates$csaQTL[i_locus], \"_\")[[1]][2]\n",
    "csaQTL_celltype = strsplit(candidates$csaQTL[i_locus], \"_\")[[1]][1]\n",
    "sel_gene = candidates$gene_id[i_locus]\n",
    "study=candidates$study[i_locus]\n",
    "\n",
    "# Import published eQTL summary statistics\n",
    "eqtls =read.table(paste0(\"/data/srlab/lrumker/MCSC_Project/cna-qtl/eqtls/sumstats/\", study, \"/\",\n",
    "                        csaQTL_celltype,\"_\",lead_snp,\"_cis_\",sel_gene,\".csv\"), header = TRUE)\n",
    "eqtls$ID = paste0(eqtls$SNPChr, \":\", eqtls$SNPPos, \":\", eqtls$OtherAllele, \":\", \n",
    "                 eqtls$AssessedAllele)\n",
    "\n",
    "# Add MAF using genotypes observed in OneK1K cohort\n",
    "G_info = read.delim(paste0(\"/data/srlab/lrumker/MCSC_Project/cna-qtl/results/geno_munge/cis_snps/\", csaQTL_celltype,\n",
    "                          \"_\",lead_snp,\"_cis.vcf.gz\"), stringsAsFactors = FALSE, header = TRUE, skip=15)\n",
    "rownames(G_info) = G_info$ID\n",
    "eqtls = eqtls[eqtls$ID %in% rownames(G_info),]\n",
    "G_info = G_info[eqtls$ID,]\n",
    "G_info = G_info[,c(1:9)]\n",
    "get_MAF <-function(info_str){\n",
    "    maf_str = strsplit(info_str,\";\")[[1]][2]\n",
    "    return(as.numeric(strsplit(maf_str,\"=\")[[1]][2]))\n",
    "}\n",
    "G_info$MAF = apply(as.matrix(G_info$INFO, ncol=1),1,get_MAF)\n",
    "eqtls$MAF = G_info$MAF\n",
    "\n",
    "# Compute beta from available metrics in sumstats\n",
    "eqtls$beta = eqtls$Zscore / (2*eqtls$MAF*(1 - eqtls$MAF)*(eqtls$NrSamples + eqtls$Zscore**2))**(1/2)"
   ]
  },
  {
   "cell_type": "code",
   "execution_count": 6,
   "id": "c8ce136c",
   "metadata": {},
   "outputs": [
    {
     "name": "stdout",
     "output_type": "stream",
     "text": [
      "PP.H0.abf PP.H1.abf PP.H2.abf PP.H3.abf PP.H4.abf \n",
      " 1.17e-50  1.11e-46  1.93e-06  1.73e-02  9.83e-01 \n",
      "[1] \"PP abf for shared variant: 98.3%\"\n"
     ]
    }
   ],
   "source": [
    "# run coloc\n",
    "gwas_res = read.table(paste0(\"/data/srlab/lrumker/MCSC_Project/cna-qtl/results/coloc/gwas_local_\",\n",
    "                             csaQTL_celltype,\"_\" ,lead_snp,\"_cis.qassoc\"), \n",
    "                      header=TRUE, stringsAsFactors=FALSE)\n",
    "all_phenos = read.table(paste0(\"/data/srlab/lrumker/MCSC_Project/cna-qtl/results/gwas_\", \n",
    "                        csaQTL_celltype,\"/spheno.tsv\"), header = TRUE, row.names=1)\n",
    "lead_pheno_trait_sd = sd(all_phenos[paste0(\"X\", paste0(strsplit(lead_snp, \":\")[[1]], collapse=\".\"))][,1])\n",
    "our_gwas_coloc = list(beta = gwas_res$BETA, varbeta = gwas_res$SE**2,\n",
    "                    sdY = lead_pheno_trait_sd,type = \"quant\", snp = gwas_res$SNP)\n",
    "ref_gwas_coloc = list(pvalues = eqtls$Pvalue,\n",
    "                    N=eqtls$NrSamples, MAF=eqtls$MAF, type = \"quant\", snp = eqtls$ID)\n",
    "coloc_res <- coloc.abf(dataset1=our_gwas_coloc, dataset2=ref_gwas_coloc)"
   ]
  },
  {
   "cell_type": "code",
   "execution_count": 7,
   "id": "a3af23ec",
   "metadata": {},
   "outputs": [
    {
     "data": {
      "text/html": [
       "<table class=\"dataframe\">\n",
       "<caption>A data.frame: 1 × 18</caption>\n",
       "<thead>\n",
       "\t<tr><th></th><th scope=col>Pvalue</th><th scope=col>SNP</th><th scope=col>SNPChr</th><th scope=col>SNPPos</th><th scope=col>AssessedAllele</th><th scope=col>OtherAllele</th><th scope=col>Zscore</th><th scope=col>Gene</th><th scope=col>GeneSymbol</th><th scope=col>GeneChr</th><th scope=col>GenePos</th><th scope=col>NrCohorts</th><th scope=col>NrSamples</th><th scope=col>FDR</th><th scope=col>BonferroniP</th><th scope=col>ID</th><th scope=col>MAF</th><th scope=col>beta</th></tr>\n",
       "\t<tr><th></th><th scope=col>&lt;dbl&gt;</th><th scope=col>&lt;chr&gt;</th><th scope=col>&lt;int&gt;</th><th scope=col>&lt;int&gt;</th><th scope=col>&lt;chr&gt;</th><th scope=col>&lt;chr&gt;</th><th scope=col>&lt;dbl&gt;</th><th scope=col>&lt;chr&gt;</th><th scope=col>&lt;chr&gt;</th><th scope=col>&lt;int&gt;</th><th scope=col>&lt;int&gt;</th><th scope=col>&lt;int&gt;</th><th scope=col>&lt;int&gt;</th><th scope=col>&lt;dbl&gt;</th><th scope=col>&lt;dbl&gt;</th><th scope=col>&lt;chr&gt;</th><th scope=col>&lt;dbl&gt;</th><th scope=col>&lt;dbl&gt;</th></tr>\n",
       "</thead>\n",
       "<tbody>\n",
       "\t<tr><th scope=row>1</th><td>9.2612e-52</td><td>rs8025805</td><td>15</td><td>80260274</td><td>T</td><td>A</td><td>-15.1368</td><td>ENSG00000140379</td><td>BCL2A1</td><td>15</td><td>80258509</td><td>6</td><td>9922</td><td>0</td><td>1.1793e-43</td><td>15:80260274:A:T</td><td>0.2677</td><td>-0.2399349</td></tr>\n",
       "</tbody>\n",
       "</table>\n"
      ],
      "text/latex": [
       "A data.frame: 1 × 18\n",
       "\\begin{tabular}{r|llllllllllllllllll}\n",
       "  & Pvalue & SNP & SNPChr & SNPPos & AssessedAllele & OtherAllele & Zscore & Gene & GeneSymbol & GeneChr & GenePos & NrCohorts & NrSamples & FDR & BonferroniP & ID & MAF & beta\\\\\n",
       "  & <dbl> & <chr> & <int> & <int> & <chr> & <chr> & <dbl> & <chr> & <chr> & <int> & <int> & <int> & <int> & <dbl> & <dbl> & <chr> & <dbl> & <dbl>\\\\\n",
       "\\hline\n",
       "\t1 & 9.2612e-52 & rs8025805 & 15 & 80260274 & T & A & -15.1368 & ENSG00000140379 & BCL2A1 & 15 & 80258509 & 6 & 9922 & 0 & 1.1793e-43 & 15:80260274:A:T & 0.2677 & -0.2399349\\\\\n",
       "\\end{tabular}\n"
      ],
      "text/markdown": [
       "\n",
       "A data.frame: 1 × 18\n",
       "\n",
       "| <!--/--> | Pvalue &lt;dbl&gt; | SNP &lt;chr&gt; | SNPChr &lt;int&gt; | SNPPos &lt;int&gt; | AssessedAllele &lt;chr&gt; | OtherAllele &lt;chr&gt; | Zscore &lt;dbl&gt; | Gene &lt;chr&gt; | GeneSymbol &lt;chr&gt; | GeneChr &lt;int&gt; | GenePos &lt;int&gt; | NrCohorts &lt;int&gt; | NrSamples &lt;int&gt; | FDR &lt;dbl&gt; | BonferroniP &lt;dbl&gt; | ID &lt;chr&gt; | MAF &lt;dbl&gt; | beta &lt;dbl&gt; |\n",
       "|---|---|---|---|---|---|---|---|---|---|---|---|---|---|---|---|---|---|---|\n",
       "| 1 | 9.2612e-52 | rs8025805 | 15 | 80260274 | T | A | -15.1368 | ENSG00000140379 | BCL2A1 | 15 | 80258509 | 6 | 9922 | 0 | 1.1793e-43 | 15:80260274:A:T | 0.2677 | -0.2399349 |\n",
       "\n"
      ],
      "text/plain": [
       "  Pvalue     SNP       SNPChr SNPPos   AssessedAllele OtherAllele Zscore  \n",
       "1 9.2612e-52 rs8025805 15     80260274 T              A           -15.1368\n",
       "  Gene            GeneSymbol GeneChr GenePos  NrCohorts NrSamples FDR\n",
       "1 ENSG00000140379 BCL2A1     15      80258509 6         9922      0  \n",
       "  BonferroniP ID              MAF    beta      \n",
       "1 1.1793e-43  15:80260274:A:T 0.2677 -0.2399349"
      ]
     },
     "metadata": {},
     "output_type": "display_data"
    }
   ],
   "source": [
    "# Store information\n",
    "eqtls[order(eqtls$Pvalue),][1,] \n",
    "eQTL_lead_snps = c(\"15:80260274:A:T\")\n",
    "eQTL_pvalues = c(9.2612e-52)\n",
    "eQTL_betas = c(-0.239934)\n",
    "coloc_prob = c(0.98)"
   ]
  },
  {
   "cell_type": "markdown",
   "id": "782fd330",
   "metadata": {},
   "source": [
    "### Schmiedel ETS1"
   ]
  },
  {
   "cell_type": "code",
   "execution_count": 8,
   "id": "3ebdd92c",
   "metadata": {},
   "outputs": [],
   "source": [
    "i_locus = 2\n",
    "lead_snp = strsplit(candidates$csaQTL[i_locus], \"_\")[[1]][2]\n",
    "csaQTL_celltype = strsplit(candidates$csaQTL[i_locus], \"_\")[[1]][1]\n",
    "sel_gene = candidates$gene_id[i_locus]\n",
    "study=candidates$study[i_locus]\n",
    "\n",
    "# Import published eQTL summary statistics\n",
    "# Checked for SNP flips, but no additional SNPs are captured when considering flips\n",
    "eqtls =read.csv(paste0(\"/data/srlab/lrumker/MCSC_Project/cna-qtl/eqtls/sumstats/\", study, \"/\",\n",
    "                        csaQTL_celltype,\"_\",lead_snp,\"_NK_cis_\",sel_gene,\".hg19.renamed.csv\"), header = TRUE)\n",
    "eqtls$ID = paste0(eqtls$CHR, \":\", eqtls$BP, \":\", eqtls$other_allele, \":\", \n",
    "                 eqtls$effect_allele)\n",
    "# estimate total samples using reported ma_samples, MAF and assuming HWE\n",
    "eqtls$N = 1/((eqtls$maf**2+2*eqtls$maf*(1-eqtls$maf))/eqtls$ma_samples)"
   ]
  },
  {
   "cell_type": "code",
   "execution_count": 9,
   "id": "bec2038b",
   "metadata": {},
   "outputs": [
    {
     "name": "stderr",
     "output_type": "stream",
     "text": [
      "Warning message in check_dataset(d = dataset2, 2):\n",
      "“minimum p value is: 0.00022998\n",
      "If this is what you expected, this is not a problem.\n",
      "If this is not as small as you expected, please check the 02_data vignette.”\n",
      "Warning message in sdY.est(d$varbeta, d$MAF, d$N):\n",
      "“estimating sdY from maf and varbeta, please directly supply sdY if known”\n"
     ]
    },
    {
     "name": "stdout",
     "output_type": "stream",
     "text": [
      "PP.H0.abf PP.H1.abf PP.H2.abf PP.H3.abf PP.H4.abf \n",
      " 3.20e-18  3.89e-01  1.77e-18  2.14e-01  3.97e-01 \n",
      "[1] \"PP abf for shared variant: 39.7%\"\n"
     ]
    }
   ],
   "source": [
    "# run coloc\n",
    "gwas_res = read.table(paste0(\"/data/srlab/lrumker/MCSC_Project/cna-qtl/results/coloc/gwas_local_\",\n",
    "                             csaQTL_celltype,\"_\" ,lead_snp,\"_cis.qassoc\"), \n",
    "                      header=TRUE, stringsAsFactors=FALSE)\n",
    "gwas_res = gwas_res[gwas_res$SNP %in% eqtls$ID,]\n",
    "all_phenos = read.table(paste0(\"/data/srlab/lrumker/MCSC_Project/cna-qtl/results/gwas_\", \n",
    "                        csaQTL_celltype,\"/spheno.tsv\"), header = TRUE, row.names=1)\n",
    "lead_pheno_trait_sd = sd(all_phenos[paste0(\"X\", paste0(strsplit(lead_snp, \":\")[[1]], collapse=\".\"))][,1])\n",
    "our_gwas_coloc = list(beta = gwas_res$BETA, varbeta = gwas_res$SE**2,\n",
    "                    sdY = lead_pheno_trait_sd,type = \"quant\", snp = gwas_res$SNP)\n",
    "eqtls = eqtls[eqtls$ID %in% gwas_res$SNP,]\n",
    "ref_gwas_coloc = list(beta = eqtls$BETA, varbeta = eqtls$SE**2,\n",
    "                    N=eqtls$N, MAF=eqtls$maf, type = \"quant\", snp = eqtls$ID)\n",
    "coloc_res <- coloc.abf(dataset1=our_gwas_coloc, dataset2=ref_gwas_coloc)"
   ]
  },
  {
   "cell_type": "code",
   "execution_count": 10,
   "id": "d721c4d3",
   "metadata": {},
   "outputs": [
    {
     "data": {
      "text/html": [
       "<table class=\"dataframe\">\n",
       "<caption>A data.frame: 1 × 12</caption>\n",
       "<thead>\n",
       "\t<tr><th></th><th scope=col>CHR</th><th scope=col>BP</th><th scope=col>other_allele</th><th scope=col>effect_allele</th><th scope=col>maf</th><th scope=col>ma_samples</th><th scope=col>P</th><th scope=col>BETA</th><th scope=col>SE</th><th scope=col>gene_id</th><th scope=col>ID</th><th scope=col>N</th></tr>\n",
       "\t<tr><th></th><th scope=col>&lt;int&gt;</th><th scope=col>&lt;int&gt;</th><th scope=col>&lt;chr&gt;</th><th scope=col>&lt;chr&gt;</th><th scope=col>&lt;dbl&gt;</th><th scope=col>&lt;int&gt;</th><th scope=col>&lt;dbl&gt;</th><th scope=col>&lt;dbl&gt;</th><th scope=col>&lt;dbl&gt;</th><th scope=col>&lt;chr&gt;</th><th scope=col>&lt;chr&gt;</th><th scope=col>&lt;dbl&gt;</th></tr>\n",
       "</thead>\n",
       "<tbody>\n",
       "\t<tr><th scope=row>3065</th><td>11</td><td>128085408</td><td>C</td><td>T</td><td>0.255556</td><td>36</td><td>0.000431584</td><td>0.391952</td><td>0.106405</td><td>ENSG00000134954</td><td>11:128085408:C:T</td><td>80.75313</td></tr>\n",
       "</tbody>\n",
       "</table>\n"
      ],
      "text/latex": [
       "A data.frame: 1 × 12\n",
       "\\begin{tabular}{r|llllllllllll}\n",
       "  & CHR & BP & other\\_allele & effect\\_allele & maf & ma\\_samples & P & BETA & SE & gene\\_id & ID & N\\\\\n",
       "  & <int> & <int> & <chr> & <chr> & <dbl> & <int> & <dbl> & <dbl> & <dbl> & <chr> & <chr> & <dbl>\\\\\n",
       "\\hline\n",
       "\t3065 & 11 & 128085408 & C & T & 0.255556 & 36 & 0.000431584 & 0.391952 & 0.106405 & ENSG00000134954 & 11:128085408:C:T & 80.75313\\\\\n",
       "\\end{tabular}\n"
      ],
      "text/markdown": [
       "\n",
       "A data.frame: 1 × 12\n",
       "\n",
       "| <!--/--> | CHR &lt;int&gt; | BP &lt;int&gt; | other_allele &lt;chr&gt; | effect_allele &lt;chr&gt; | maf &lt;dbl&gt; | ma_samples &lt;int&gt; | P &lt;dbl&gt; | BETA &lt;dbl&gt; | SE &lt;dbl&gt; | gene_id &lt;chr&gt; | ID &lt;chr&gt; | N &lt;dbl&gt; |\n",
       "|---|---|---|---|---|---|---|---|---|---|---|---|---|\n",
       "| 3065 | 11 | 128085408 | C | T | 0.255556 | 36 | 0.000431584 | 0.391952 | 0.106405 | ENSG00000134954 | 11:128085408:C:T | 80.75313 |\n",
       "\n"
      ],
      "text/plain": [
       "     CHR BP        other_allele effect_allele maf      ma_samples P          \n",
       "3065 11  128085408 C            T             0.255556 36         0.000431584\n",
       "     BETA     SE       gene_id         ID               N       \n",
       "3065 0.391952 0.106405 ENSG00000134954 11:128085408:C:T 80.75313"
      ]
     },
     "metadata": {},
     "output_type": "display_data"
    }
   ],
   "source": [
    "# Store information\n",
    "eqtls[order(eqtls$P),][1,] # lead SNP\n",
    "eQTL_lead_snps = c(eQTL_lead_snps, \"11:128085408:C:T\")\n",
    "eQTL_pvalues = c(eQTL_pvalues, 0.000431584)\n",
    "eQTL_betas = c(eQTL_betas, 0.391952)\n",
    "coloc_prob = c(coloc_prob, 0.40)"
   ]
  },
  {
   "cell_type": "markdown",
   "id": "2ff66ca9",
   "metadata": {},
   "source": [
    "### DICE KLRC4"
   ]
  },
  {
   "cell_type": "code",
   "execution_count": 11,
   "id": "4926496d",
   "metadata": {},
   "outputs": [],
   "source": [
    "i_locus = 3\n",
    "lead_snp = strsplit(candidates$csaQTL[i_locus], \"_\")[[1]][2]\n",
    "csaQTL_celltype = strsplit(candidates$csaQTL[i_locus], \"_\")[[1]][1]\n",
    "sel_gene = candidates$gene_id[i_locus]\n",
    "study=candidates$study[i_locus]"
   ]
  },
  {
   "cell_type": "code",
   "execution_count": 12,
   "id": "1ee34756",
   "metadata": {},
   "outputs": [],
   "source": [
    "# Import published eQTL summary statistics\n",
    "eqtls =read.table(paste0(\"/data/srlab/lrumker/MCSC_Project/cna-qtl/eqtls/sumstats/\", study,\n",
    "                       \"/cis_res/CD8_STIM.renamed.NK_12:10583611:C:T_cis.vcf.gz\"),\n",
    "                skip = 0, header = FALSE)\n",
    "colnames(eqtls) = c(\"CHR\", \"POS\", \"ID\", \"REF\", \"ALT\", \"QUAL\", \"FILTER\", \"INFO\")\n",
    "eqtls$N = rep(91, dim(eqtls)[1]) # Schmiedel et al Cell 2018 indicates N=91 donors total\n",
    "get_beta <-function(info_str){\n",
    "    return(as.numeric(strsplit(strsplit(info_str, split=\";\")[[1]][4], split=\"=\")[[1]][2]))\n",
    "}\n",
    "eqtls$BETA = apply(as.matrix(eqtls$INFO, ncol=1), 1, get_beta)\n",
    "\n",
    "get_pval <-function(info_str){\n",
    "    return(as.numeric(strsplit(strsplit(info_str, split=\";\")[[1]][3], split=\"=\")[[1]][2]))\n",
    "}\n",
    "eqtls$P = apply(as.matrix(eqtls$INFO, ncol=1), 1, get_pval)\n",
    "\n",
    "get_gene <-function(info_str){\n",
    "    return(strsplit(strsplit(info_str, split=\";\")[[1]][2], split=\"=\")[[1]][2])\n",
    "}\n",
    "eqtls$Gene = apply(as.matrix(eqtls$INFO, ncol=1), 1, get_gene)\n",
    "eqtls = eqtls[eqtls$Gene=='KLRC4',] # Refine to candidate gene\n",
    "\n",
    "# Add MAF using genotypes observed in OneK1K cohort\n",
    "# NOTE that DICE donors represent multiple genetic ancestries (Table S1), ~50% described as \"White\"\n",
    "G_info = read.delim(paste0(\"/data/srlab/lrumker/MCSC_Project/cna-qtl/results/geno_munge/cis_snps/\", csaQTL_celltype,\n",
    "                          \"_\",lead_snp,\"_cis.vcf.gz\"), stringsAsFactors = FALSE, header = TRUE, skip=15)\n",
    "rownames(G_info) = G_info$ID\n",
    "eqtls = eqtls[eqtls$ID %in% rownames(G_info),]\n",
    "G_info = G_info[eqtls$ID,]\n",
    "G_info = G_info[,c(1:9)]\n",
    "get_MAF <-function(info_str){\n",
    "    maf_str = strsplit(info_str,\";\")[[1]][2]\n",
    "    return(as.numeric(strsplit(maf_str,\"=\")[[1]][2]))\n",
    "}\n",
    "G_info$MAF = apply(as.matrix(G_info$INFO, ncol=1),1,get_MAF)\n",
    "eqtls$maf = G_info$MAF"
   ]
  },
  {
   "cell_type": "code",
   "execution_count": 13,
   "id": "77c55b30",
   "metadata": {},
   "outputs": [
    {
     "name": "stderr",
     "output_type": "stream",
     "text": [
      "Warning message in check_dataset(d = dataset2, 2):\n",
      "“minimum p value is: 4.877e-06\n",
      "If this is what you expected, this is not a problem.\n",
      "If this is not as small as you expected, please check the 02_data vignette.”\n"
     ]
    },
    {
     "name": "stdout",
     "output_type": "stream",
     "text": [
      "PP.H0.abf PP.H1.abf PP.H2.abf PP.H3.abf PP.H4.abf \n",
      " 1.67e-12  2.05e-01  1.67e-13  1.98e-02  7.75e-01 \n",
      "[1] \"PP abf for shared variant: 77.5%\"\n"
     ]
    }
   ],
   "source": [
    "# run coloc\n",
    "gwas_res = read.table(paste0(\"/data/srlab/lrumker/MCSC_Project/cna-qtl/results/coloc/gwas_local_\",\n",
    "                             csaQTL_celltype,\"_\" ,lead_snp,\"_cis.qassoc\"), \n",
    "                      header=TRUE, stringsAsFactors=FALSE)\n",
    "gwas_res = gwas_res[gwas_res$SNP %in% eqtls$ID,]\n",
    "all_phenos = read.table(paste0(\"/data/srlab/lrumker/MCSC_Project/cna-qtl/results/gwas_\", \n",
    "                        csaQTL_celltype,\"/spheno.tsv\"), header = TRUE, row.names=1)\n",
    "lead_pheno_trait_sd = sd(all_phenos[paste0(\"X\", paste0(strsplit(lead_snp, \":\")[[1]], collapse=\".\"))][,1])\n",
    "our_gwas_coloc = list(beta = gwas_res$BETA, varbeta = gwas_res$SE**2,\n",
    "                    sdY = lead_pheno_trait_sd,type = \"quant\", snp = gwas_res$SNP)\n",
    "eqtls = eqtls[eqtls$ID %in% gwas_res$SNP,]\n",
    "ref_gwas_coloc = list(beta = eqtls$BETA, pvalues = eqtls$P,\n",
    "                    N=eqtls$N, MAF=eqtls$maf, type = \"quant\", snp = eqtls$ID)\n",
    "coloc_res <- coloc.abf(dataset1=our_gwas_coloc, dataset2=ref_gwas_coloc)\n"
   ]
  },
  {
   "cell_type": "code",
   "execution_count": 14,
   "id": "9814938f",
   "metadata": {},
   "outputs": [
    {
     "data": {
      "text/html": [
       "<table class=\"dataframe\">\n",
       "<caption>A data.frame: 1 × 13</caption>\n",
       "<thead>\n",
       "\t<tr><th></th><th scope=col>CHR</th><th scope=col>POS</th><th scope=col>ID</th><th scope=col>REF</th><th scope=col>ALT</th><th scope=col>QUAL</th><th scope=col>FILTER</th><th scope=col>INFO</th><th scope=col>N</th><th scope=col>BETA</th><th scope=col>P</th><th scope=col>Gene</th><th scope=col>maf</th></tr>\n",
       "\t<tr><th></th><th scope=col>&lt;int&gt;</th><th scope=col>&lt;int&gt;</th><th scope=col>&lt;chr&gt;</th><th scope=col>&lt;chr&gt;</th><th scope=col>&lt;chr&gt;</th><th scope=col>&lt;chr&gt;</th><th scope=col>&lt;chr&gt;</th><th scope=col>&lt;chr&gt;</th><th scope=col>&lt;dbl&gt;</th><th scope=col>&lt;dbl&gt;</th><th scope=col>&lt;dbl&gt;</th><th scope=col>&lt;chr&gt;</th><th scope=col>&lt;dbl&gt;</th></tr>\n",
       "</thead>\n",
       "<tbody>\n",
       "\t<tr><th scope=row>351</th><td>12</td><td>10591281</td><td>12:10591281:G:A</td><td>G</td><td>A</td><td>.</td><td>PASS</td><td>Gene=ENSG00000183542;GeneSymbol=KLRC4;Pvalue=4.87699e-06;Beta=0.888609</td><td>91</td><td>0.888609</td><td>4.87699e-06</td><td>KLRC4</td><td>0.17344</td></tr>\n",
       "</tbody>\n",
       "</table>\n"
      ],
      "text/latex": [
       "A data.frame: 1 × 13\n",
       "\\begin{tabular}{r|lllllllllllll}\n",
       "  & CHR & POS & ID & REF & ALT & QUAL & FILTER & INFO & N & BETA & P & Gene & maf\\\\\n",
       "  & <int> & <int> & <chr> & <chr> & <chr> & <chr> & <chr> & <chr> & <dbl> & <dbl> & <dbl> & <chr> & <dbl>\\\\\n",
       "\\hline\n",
       "\t351 & 12 & 10591281 & 12:10591281:G:A & G & A & . & PASS & Gene=ENSG00000183542;GeneSymbol=KLRC4;Pvalue=4.87699e-06;Beta=0.888609 & 91 & 0.888609 & 4.87699e-06 & KLRC4 & 0.17344\\\\\n",
       "\\end{tabular}\n"
      ],
      "text/markdown": [
       "\n",
       "A data.frame: 1 × 13\n",
       "\n",
       "| <!--/--> | CHR &lt;int&gt; | POS &lt;int&gt; | ID &lt;chr&gt; | REF &lt;chr&gt; | ALT &lt;chr&gt; | QUAL &lt;chr&gt; | FILTER &lt;chr&gt; | INFO &lt;chr&gt; | N &lt;dbl&gt; | BETA &lt;dbl&gt; | P &lt;dbl&gt; | Gene &lt;chr&gt; | maf &lt;dbl&gt; |\n",
       "|---|---|---|---|---|---|---|---|---|---|---|---|---|---|\n",
       "| 351 | 12 | 10591281 | 12:10591281:G:A | G | A | . | PASS | Gene=ENSG00000183542;GeneSymbol=KLRC4;Pvalue=4.87699e-06;Beta=0.888609 | 91 | 0.888609 | 4.87699e-06 | KLRC4 | 0.17344 |\n",
       "\n"
      ],
      "text/plain": [
       "    CHR POS      ID              REF ALT QUAL FILTER\n",
       "351 12  10591281 12:10591281:G:A G   A   .    PASS  \n",
       "    INFO                                                                   N \n",
       "351 Gene=ENSG00000183542;GeneSymbol=KLRC4;Pvalue=4.87699e-06;Beta=0.888609 91\n",
       "    BETA     P           Gene  maf    \n",
       "351 0.888609 4.87699e-06 KLRC4 0.17344"
      ]
     },
     "metadata": {},
     "output_type": "display_data"
    }
   ],
   "source": [
    "# Store information\n",
    "eqtls[order(eqtls$P),][1,] # lead SNP\n",
    "eQTL_lead_snps = c(eQTL_lead_snps, \"12:10591281:G:A\")\n",
    "eQTL_pvalues = c(eQTL_pvalues, 4.88e-6)\n",
    "eQTL_betas = c(eQTL_betas, 0.889)\n",
    "coloc_prob = c(coloc_prob, 0.78)"
   ]
  },
  {
   "cell_type": "code",
   "execution_count": 17,
   "id": "03d86040",
   "metadata": {},
   "outputs": [],
   "source": [
    "# Reformat for display and export results table\n",
    "export['Cell Type'] = c(\"Whole blood\", \"NK\", \"Stim. CD8+ T\")\n",
    "export['Lead SNP'] = eQTL_lead_snps\n",
    "export['eGene'] = c(\"BCL2A1\", \"ETS1\", \"KLRC4\")\n",
    "export['Beta'] = eQTL_betas\n",
    "export['P'] = eQTL_pvalues\n",
    "export['Coloc.'] = coloc_prob"
   ]
  },
  {
   "cell_type": "code",
   "execution_count": 18,
   "id": "860e290d",
   "metadata": {},
   "outputs": [
    {
     "data": {
      "text/html": [
       "<table class=\"dataframe\">\n",
       "<caption>A data.frame: 3 × 7</caption>\n",
       "<thead>\n",
       "\t<tr><th></th><th scope=col>Cell Type</th><th scope=col>Lead SNP</th><th scope=col>eGene</th><th scope=col>Beta</th><th scope=col>P</th><th scope=col>csaQTL</th><th scope=col>Coloc.</th></tr>\n",
       "\t<tr><th></th><th scope=col>&lt;chr&gt;</th><th scope=col>&lt;chr&gt;</th><th scope=col>&lt;chr&gt;</th><th scope=col>&lt;chr&gt;</th><th scope=col>&lt;chr&gt;</th><th scope=col>&lt;chr&gt;</th><th scope=col>&lt;dbl&gt;</th></tr>\n",
       "</thead>\n",
       "<tbody>\n",
       "\t<tr><th scope=row>1</th><td>Whole blood </td><td>15:80260274:A:T </td><td>BCL2A1</td><td>-0.24</td><td>9.3e-52</td><td>Myeloid_15:80263217:C:T</td><td>0.98</td></tr>\n",
       "\t<tr><th scope=row>2</th><td>NK          </td><td>11:128085408:C:T</td><td>ETS1  </td><td>0.39 </td><td>4.3e-04</td><td>NK_11:128070535:A:G    </td><td>0.40</td></tr>\n",
       "\t<tr><th scope=row>4</th><td>Stim. CD8+ T</td><td>12:10591281:G:A </td><td>KLRC4 </td><td>0.89 </td><td>4.9e-06</td><td>NK_12:10583611:C:T     </td><td>0.78</td></tr>\n",
       "</tbody>\n",
       "</table>\n"
      ],
      "text/latex": [
       "A data.frame: 3 × 7\n",
       "\\begin{tabular}{r|lllllll}\n",
       "  & Cell Type & Lead SNP & eGene & Beta & P & csaQTL & Coloc.\\\\\n",
       "  & <chr> & <chr> & <chr> & <chr> & <chr> & <chr> & <dbl>\\\\\n",
       "\\hline\n",
       "\t1 & Whole blood  & 15:80260274:A:T  & BCL2A1 & -0.24 & 9.3e-52 & Myeloid\\_15:80263217:C:T & 0.98\\\\\n",
       "\t2 & NK           & 11:128085408:C:T & ETS1   & 0.39  & 4.3e-04 & NK\\_11:128070535:A:G     & 0.40\\\\\n",
       "\t4 & Stim. CD8+ T & 12:10591281:G:A  & KLRC4  & 0.89  & 4.9e-06 & NK\\_12:10583611:C:T      & 0.78\\\\\n",
       "\\end{tabular}\n"
      ],
      "text/markdown": [
       "\n",
       "A data.frame: 3 × 7\n",
       "\n",
       "| <!--/--> | Cell Type &lt;chr&gt; | Lead SNP &lt;chr&gt; | eGene &lt;chr&gt; | Beta &lt;chr&gt; | P &lt;chr&gt; | csaQTL &lt;chr&gt; | Coloc. &lt;dbl&gt; |\n",
       "|---|---|---|---|---|---|---|---|\n",
       "| 1 | Whole blood  | 15:80260274:A:T  | BCL2A1 | -0.24 | 9.3e-52 | Myeloid_15:80263217:C:T | 0.98 |\n",
       "| 2 | NK           | 11:128085408:C:T | ETS1   | 0.39  | 4.3e-04 | NK_11:128070535:A:G     | 0.40 |\n",
       "| 4 | Stim. CD8+ T | 12:10591281:G:A  | KLRC4  | 0.89  | 4.9e-06 | NK_12:10583611:C:T      | 0.78 |\n",
       "\n"
      ],
      "text/plain": [
       "  Cell Type    Lead SNP         eGene  Beta  P       csaQTL                 \n",
       "1 Whole blood  15:80260274:A:T  BCL2A1 -0.24 9.3e-52 Myeloid_15:80263217:C:T\n",
       "2 NK           11:128085408:C:T ETS1   0.39  4.3e-04 NK_11:128070535:A:G    \n",
       "4 Stim. CD8+ T 12:10591281:G:A  KLRC4  0.89  4.9e-06 NK_12:10583611:C:T     \n",
       "  Coloc.\n",
       "1 0.98  \n",
       "2 0.40  \n",
       "4 0.78  "
      ]
     },
     "metadata": {},
     "output_type": "display_data"
    }
   ],
   "source": [
    "# reformat for display\n",
    "export$Beta = as.character(round(as.numeric(export$Beta),2))\n",
    "export$P = format(as.numeric(export$P), scientific = TRUE, digits = 2)\n",
    "export = export[,c(\"Cell Type\", \"Lead SNP\", \"eGene\", \"Beta\", \"P\", \"csaQTL\", \"Coloc.\")]\n",
    "print(xtable(export, type = \"latex\"), file = paste0(tab_dir,\"supptable.published_eQTLs.tex\"),\n",
    "     include.rownames=FALSE)\n",
    "export"
   ]
  }
 ],
 "metadata": {
  "kernelspec": {
   "display_name": "R",
   "language": "R",
   "name": "ir"
  },
  "language_info": {
   "codemirror_mode": "r",
   "file_extension": ".r",
   "mimetype": "text/x-r-source",
   "name": "R",
   "pygments_lexer": "r",
   "version": "4.0.5"
  }
 },
 "nbformat": 4,
 "nbformat_minor": 5
}
