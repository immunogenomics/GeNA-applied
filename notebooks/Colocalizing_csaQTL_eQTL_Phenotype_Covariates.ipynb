{
 "cells": [
  {
   "cell_type": "markdown",
   "id": "cd2c41a3",
   "metadata": {},
   "source": [
    "# eQTL and csaQTL testing with cell state abundance and eGene expression covariates"
   ]
  },
  {
   "cell_type": "code",
   "execution_count": 1,
   "id": "dd811a8b",
   "metadata": {},
   "outputs": [],
   "source": [
    ".libPaths(\"/PHShome/lar24/anaconda3/envs/py3_clone/lib/R/library\")"
   ]
  },
  {
   "cell_type": "code",
   "execution_count": 2,
   "id": "93e3fab8",
   "metadata": {},
   "outputs": [
    {
     "name": "stderr",
     "output_type": "stream",
     "text": [
      "Warning message:\n",
      "“package ‘lme4’ was built under R version 4.1.0”\n",
      "Loading required package: Matrix\n",
      "\n",
      "Warning message:\n",
      "“package ‘Matrix’ was built under R version 4.1.0”\n",
      "Warning message:\n",
      "“package ‘xtable’ was built under R version 4.1.1”\n"
     ]
    }
   ],
   "source": [
    "library(lme4)\n",
    "library(Matrix)\n",
    "library(xtable)\n",
    "set.seed(0)"
   ]
  },
  {
   "cell_type": "code",
   "execution_count": 3,
   "id": "fcbd5dea",
   "metadata": {},
   "outputs": [],
   "source": [
    "test_eQTL<-function(lead_snp, chr, celltype, gene, csa_covariate){\n",
    "    src_filepath=\"/data/srlab/lrumker/MCSC_Project/cna-qtl/eqtls/results/sceQTL/inputs/\"\n",
    "    \n",
    "    # load genotype data\n",
    "    geno <- read.table(paste0(\"/data/srlab/lrumker/MCSC_Project/cna-qtl/results/geno_munge/cis_snps/\",\n",
    "                     celltype, \"_\", lead_snp, \"_\", \"cis.DS.vcf.gz\"), row.names=1)\n",
    "    geno_ids = read.table(paste0(\"/data/srlab/lrumker/datasets/onek1k/geno/sample_labels/\",\n",
    "                         \"sample_list_chr\", chr, \".txt\"))\n",
    "    geno_ids = as.character(geno_ids[1,])\n",
    "    colnames(geno) = geno_ids\n",
    "    \n",
    "    # load phenotype and covariate data\n",
    "    expr_file=paste0(src_filepath,celltype,'_',lead_snp,'_csaQTL_test_',celltype,'_eQTLs_selgene_exp.csv')\n",
    "    exprs_raw = read.csv(expr_file, row.names = 1) #raw UMI counts #raw UMI counts\n",
    "    pca_res = read.csv(paste0(src_filepath, celltype, \"_ePCs.csv\"), row.names = 1) # gene expression PCs\n",
    "    cell_meta = read.csv(paste0(src_filepath, celltype, \"_cellmeta.csv\")) # cell and donor covariates\n",
    "    \n",
    "    # assemble data object\n",
    "    data = cbind(cbind(exprs_raw, pca_res), cell_meta)\n",
    "    data[,gene] = as.numeric(data[,gene]) \n",
    "    data$id = factor(data$id)\n",
    "    data$age = scale(data$age)\n",
    "    data$nCount_RNA = scale(log(data$nCount_RNA)) # nUMI\n",
    "    data['E'] = data[,gene]\n",
    "    geno = geno[,colnames(geno) %in% unique(data$id)] # only donors that passed QC\n",
    "    \n",
    "    # Test lead snp\n",
    "    G_snp = data.frame(\"G\" = as.numeric(as.character(geno[rownames(geno)==lead_snp, \n",
    "                                                          match(data$id, colnames(geno))])))\n",
    "    mod_data = cbind(data, G_snp)\n",
    "    \n",
    "    if(csa_covariate==FALSE){\n",
    "        full_model <- lme4::glmer(formula = E~G+(1|id)+(1|batch)+age+sex+nCount_RNA+percent.mt+gPC1+gPC2+gPC3+gPC4+gPC5+gPC6+ePC1+ePC2+ePC3+ePC4+ePC5,\n",
    "                          family = \"poisson\", nAGQ=0, data= mod_data, control = glmerControl(optimizer = \"nloptwrap\"))\n",
    "        null_model <- lme4::glmer(formula = E~(1|id)+(1|batch)+age+sex+nCount_RNA+percent.mt+gPC1+gPC2+gPC3+gPC4+gPC5+gPC6+ePC1+ePC2+ePC3+ePC4+ePC5,\n",
    "                                  family = \"poisson\", nAGQ=0, data= mod_data, control = glmerControl(optimizer = \"nloptwrap\"))\n",
    "        \n",
    "        added_covariate=\"None\"\n",
    "    }else{\n",
    "        spheno = read.csv(paste0(\"/data/srlab/lrumker/MCSC_Project/cna-qtl/results/gwas_\",\n",
    "                                 celltype,\"/spheno.tsv\"),sep=\"\\t\")\n",
    "        mod_data['csa_pheno']=spheno[,gsub(\":\", \".\", paste0(\"X\",lead_snp))][match(mod_data$id, spheno$id)]\n",
    "\n",
    "        full_model <- lme4::glmer(formula = E~G+(1|id)+(1|batch)+age+sex+nCount_RNA+percent.mt+gPC1+gPC2+gPC3+gPC4+gPC5+gPC6+ePC1+ePC2+ePC3+ePC4+ePC5+csa_pheno,\n",
    "                              family = \"poisson\", nAGQ=0, data= mod_data, control = glmerControl(optimizer = \"nloptwrap\"))\n",
    "        null_model <- lme4::glmer(formula = E~(1|id)+(1|batch)+age+sex+nCount_RNA+percent.mt+gPC1+gPC2+gPC3+gPC4+gPC5+gPC6+ePC1+ePC2+ePC3+ePC4+ePC5+csa_pheno,\n",
    "                                  family = \"poisson\", nAGQ=0, data= mod_data, control = glmerControl(optimizer = \"nloptwrap\"))\n",
    "        added_covariate=\"GeNA csaQTL sample-level phenotype\"\n",
    "    }\n",
    "    \n",
    "    model_lrt <- anova(null_model, full_model)\n",
    "    res = data.frame(\"Cell type\"=celltype, \"SNP\" = lead_snp, \"GENE\" = gene,\n",
    "             \"BETA\" = summary(full_model)$coefficients[2,][1], #G beta\n",
    "            \"SE\" = summary(full_model)$coefficients[2,][2], #G se\n",
    "            \"P\" = model_lrt$`Pr(>Chisq)`[2], \"Tested Effect\" = paste0(\"\\\\textit{\", gene, \"} eQTL\"),\n",
    "                    \"Added Covariate\"=added_covariate)\n",
    "    return(res)\n",
    "}"
   ]
  },
  {
   "cell_type": "code",
   "execution_count": 4,
   "id": "be7ba42b",
   "metadata": {},
   "outputs": [],
   "source": [
    "all_res = data.frame()\n",
    "all_res = rbind(all_res, test_eQTL(lead_snp=\"15:80263217:C:T\", chr=\"15\", celltype=\"Myeloid\", \n",
    "                                   gene='BCL2A1', csa_covariate=FALSE))\n",
    "all_res = rbind(all_res, test_eQTL(lead_snp=\"15:80263217:C:T\", chr=\"15\", celltype=\"Myeloid\", \n",
    "                                   gene='BCL2A1', csa_covariate=TRUE))\n",
    "all_res = rbind(all_res, test_eQTL(lead_snp=\"12:10583611:C:T\", chr=\"12\", celltype=\"NK\", \n",
    "                                   gene='KLRC1', csa_covariate=FALSE))\n",
    "all_res = rbind(all_res, test_eQTL(lead_snp=\"12:10583611:C:T\", chr=\"12\", celltype=\"NK\",\n",
    "                                   gene='KLRC1', csa_covariate=TRUE))"
   ]
  },
  {
   "cell_type": "code",
   "execution_count": 5,
   "id": "e99ffbea",
   "metadata": {},
   "outputs": [],
   "source": [
    "all_res = all_res[,c(\"Cell.type\", \"SNP\", \"Tested.Effect\", \"Added.Covariate\", \"P\")]\n",
    "colnames(all_res) = c(\"Cell Type\", \"SNP\", \"Tested Effect\", \"Added Covariate\", \"P\")"
   ]
  },
  {
   "cell_type": "markdown",
   "id": "4fdd76ef",
   "metadata": {},
   "source": [
    "## Load results from parallel testing with GeNA"
   ]
  },
  {
   "cell_type": "code",
   "execution_count": 6,
   "id": "97ece0f8",
   "metadata": {},
   "outputs": [],
   "source": [
    "celltype=\"Myeloid\"\n",
    "lead_snp = \"15:80263217:C:T\"\n",
    "eGene = \"BCL2A1\"\n",
    "\n",
    "GeNA_sumstats = read.csv(paste0(\"/data/srlab/lrumker/MCSC_Project/cna-qtl/results/gwas_\",\n",
    "                                celltype,\"/gwas_loci.tsv\"), sep = \"\\t\")\n",
    "res = data.frame(\"Cell Type\" = celltype, \"SNP\" = lead_snp, \"Tested Effect\" = \"GeNA csaQTL\", \n",
    "                 \"Added Covariate\" = \"None\", \n",
    "                 \"P\" = GeNA_sumstats[GeNA_sumstats$ID==lead_snp,\"P\"])\n",
    "colnames(res) = c(\"Cell Type\", \"SNP\", \"Tested Effect\", \"Added Covariate\", \"P\")\n",
    "all_res = rbind(all_res, res)\n",
    "\n",
    "GeNA_sumstats = read.csv(paste0(\"/data/srlab/lrumker/MCSC_Project/cna-qtl/results/gwas_\",\n",
    "                                celltype,\"_eGene_covs/GeNA_sumstats.txt\"), sep = \"\\t\")\n",
    "res = data.frame(\"Cell Type\" = celltype, \"SNP\" = lead_snp, \"Tested Effect\" = \"GeNA csaQTL\", \n",
    "                 \"Added Covariate\" = paste0(\"\\\\textit{\",eGene, \"} mean expression across \", celltype, \" cells\"), \n",
    "                 \"P\" = GeNA_sumstats[GeNA_sumstats$ID==lead_snp,\"P\"])\n",
    "colnames(res) = c(\"Cell Type\", \"SNP\", \"Tested Effect\", \"Added Covariate\", \"P\")\n",
    "all_res = rbind(all_res, res)"
   ]
  },
  {
   "cell_type": "code",
   "execution_count": 7,
   "id": "0038d20d",
   "metadata": {},
   "outputs": [],
   "source": [
    "celltype=\"NK\"\n",
    "lead_snp = \"12:10583611:C:T\"\n",
    "eGene = \"KLRC1\"\n",
    "\n",
    "GeNA_sumstats = read.csv(paste0(\"/data/srlab/lrumker/MCSC_Project/cna-qtl/results/gwas_\",\n",
    "                                celltype,\"/gwas_loci.tsv\"), sep = \"\\t\")\n",
    "res = data.frame(\"Cell Type\" = celltype, \"SNP\" = lead_snp, \"Tested Effect\" = \"GeNA csaQTL\", \n",
    "                 \"Added Covariate\" = \"None\", \n",
    "                 \"P\" = GeNA_sumstats[GeNA_sumstats$ID==lead_snp,\"P\"])\n",
    "colnames(res) = c(\"Cell Type\", \"SNP\", \"Tested Effect\", \"Added Covariate\", \"P\")\n",
    "all_res = rbind(all_res, res)\n",
    "\n",
    "GeNA_sumstats = read.csv(paste0(\"/data/srlab/lrumker/MCSC_Project/cna-qtl/results/gwas_\",\n",
    "                                celltype,\"_eGene_covs/GeNA_sumstats.txt\"), sep = \"\\t\")\n",
    "res = data.frame(\"Cell Type\" = celltype, \"SNP\" = lead_snp, \"Tested Effect\" = \"GeNA csaQTL\", \n",
    "                 \"Added Covariate\" = paste0(\"\\\\textit{\", eGene, \"} mean expression across \", celltype, \" cells\"), \n",
    "                 \"P\" = GeNA_sumstats[GeNA_sumstats$ID==lead_snp,\"P\"])\n",
    "colnames(res) = c(\"Cell Type\", \"SNP\", \"Tested Effect\", \"Added Covariate\", \"P\")\n",
    "all_res = rbind(all_res, res)"
   ]
  },
  {
   "cell_type": "code",
   "execution_count": 8,
   "id": "5d16bc31",
   "metadata": {},
   "outputs": [],
   "source": [
    "p_str=c()\n",
    "for(i in c(1:nrow(all_res))){ p_str = c(p_str, sprintf('%.1e', all_res$P[i]))}\n",
    "all_res$P = p_str"
   ]
  },
  {
   "cell_type": "code",
   "execution_count": 9,
   "id": "c4513be2",
   "metadata": {},
   "outputs": [
    {
     "data": {
      "text/html": [
       "<table class=\"dataframe\">\n",
       "<caption>A data.frame: 8 × 5</caption>\n",
       "<thead>\n",
       "\t<tr><th></th><th scope=col>Cell Type</th><th scope=col>SNP</th><th scope=col>Tested Effect</th><th scope=col>Added Covariate</th><th scope=col>P</th></tr>\n",
       "\t<tr><th></th><th scope=col>&lt;chr&gt;</th><th scope=col>&lt;chr&gt;</th><th scope=col>&lt;chr&gt;</th><th scope=col>&lt;chr&gt;</th><th scope=col>&lt;chr&gt;</th></tr>\n",
       "</thead>\n",
       "<tbody>\n",
       "\t<tr><th scope=row>Estimate</th><td>Myeloid</td><td>15:80263217:C:T</td><td>\\textit{BCL2A1} eQTL</td><td>None                                                 </td><td>1.1e-03</td></tr>\n",
       "\t<tr><th scope=row>Estimate1</th><td>Myeloid</td><td>15:80263217:C:T</td><td>\\textit{BCL2A1} eQTL</td><td>GeNA csaQTL sample-level phenotype                   </td><td>2.6e-03</td></tr>\n",
       "\t<tr><th scope=row>Estimate2</th><td>NK     </td><td>12:10583611:C:T</td><td>\\textit{KLRC1} eQTL </td><td>None                                                 </td><td>3.5e-41</td></tr>\n",
       "\t<tr><th scope=row>Estimate3</th><td>NK     </td><td>12:10583611:C:T</td><td>\\textit{KLRC1} eQTL </td><td>GeNA csaQTL sample-level phenotype                   </td><td>1.4e-32</td></tr>\n",
       "\t<tr><th scope=row>1</th><td>Myeloid</td><td>15:80263217:C:T</td><td>GeNA csaQTL          </td><td>None                                                 </td><td>2.6e-08</td></tr>\n",
       "\t<tr><th scope=row>11</th><td>Myeloid</td><td>15:80263217:C:T</td><td>GeNA csaQTL          </td><td>\\textit{BCL2A1} mean expression across Myeloid cells</td><td>1.2e-02</td></tr>\n",
       "\t<tr><th scope=row>12</th><td>NK     </td><td>12:10583611:C:T</td><td>GeNA csaQTL          </td><td>None                                                 </td><td>2.0e-11</td></tr>\n",
       "\t<tr><th scope=row>13</th><td>NK     </td><td>12:10583611:C:T</td><td>GeNA csaQTL          </td><td>\\textit{KLRC1} mean expression across NK cells      </td><td>5.0e-16</td></tr>\n",
       "</tbody>\n",
       "</table>\n"
      ],
      "text/latex": [
       "A data.frame: 8 × 5\n",
       "\\begin{tabular}{r|lllll}\n",
       "  & Cell Type & SNP & Tested Effect & Added Covariate & P\\\\\n",
       "  & <chr> & <chr> & <chr> & <chr> & <chr>\\\\\n",
       "\\hline\n",
       "\tEstimate & Myeloid & 15:80263217:C:T & \\textbackslash{}textit\\{BCL2A1\\} eQTL & None                                                  & 1.1e-03\\\\\n",
       "\tEstimate1 & Myeloid & 15:80263217:C:T & \\textbackslash{}textit\\{BCL2A1\\} eQTL & GeNA csaQTL sample-level phenotype                    & 2.6e-03\\\\\n",
       "\tEstimate2 & NK      & 12:10583611:C:T & \\textbackslash{}textit\\{KLRC1\\} eQTL  & None                                                  & 3.5e-41\\\\\n",
       "\tEstimate3 & NK      & 12:10583611:C:T & \\textbackslash{}textit\\{KLRC1\\} eQTL  & GeNA csaQTL sample-level phenotype                    & 1.4e-32\\\\\n",
       "\t1 & Myeloid & 15:80263217:C:T & GeNA csaQTL           & None                                                  & 2.6e-08\\\\\n",
       "\t11 & Myeloid & 15:80263217:C:T & GeNA csaQTL           & \\textbackslash{}textit\\{BCL2A1\\} mean expression across Myeloid cells & 1.2e-02\\\\\n",
       "\t12 & NK      & 12:10583611:C:T & GeNA csaQTL           & None                                                  & 2.0e-11\\\\\n",
       "\t13 & NK      & 12:10583611:C:T & GeNA csaQTL           & \\textbackslash{}textit\\{KLRC1\\} mean expression across NK cells       & 5.0e-16\\\\\n",
       "\\end{tabular}\n"
      ],
      "text/markdown": [
       "\n",
       "A data.frame: 8 × 5\n",
       "\n",
       "| <!--/--> | Cell Type &lt;chr&gt; | SNP &lt;chr&gt; | Tested Effect &lt;chr&gt; | Added Covariate &lt;chr&gt; | P &lt;chr&gt; |\n",
       "|---|---|---|---|---|---|\n",
       "| Estimate | Myeloid | 15:80263217:C:T | \\textit{BCL2A1} eQTL | None                                                  | 1.1e-03 |\n",
       "| Estimate1 | Myeloid | 15:80263217:C:T | \\textit{BCL2A1} eQTL | GeNA csaQTL sample-level phenotype                    | 2.6e-03 |\n",
       "| Estimate2 | NK      | 12:10583611:C:T | \\textit{KLRC1} eQTL  | None                                                  | 3.5e-41 |\n",
       "| Estimate3 | NK      | 12:10583611:C:T | \\textit{KLRC1} eQTL  | GeNA csaQTL sample-level phenotype                    | 1.4e-32 |\n",
       "| 1 | Myeloid | 15:80263217:C:T | GeNA csaQTL           | None                                                  | 2.6e-08 |\n",
       "| 11 | Myeloid | 15:80263217:C:T | GeNA csaQTL           | \\textit{BCL2A1} mean expression across Myeloid cells | 1.2e-02 |\n",
       "| 12 | NK      | 12:10583611:C:T | GeNA csaQTL           | None                                                  | 2.0e-11 |\n",
       "| 13 | NK      | 12:10583611:C:T | GeNA csaQTL           | \\textit{KLRC1} mean expression across NK cells       | 5.0e-16 |\n",
       "\n"
      ],
      "text/plain": [
       "          Cell Type SNP             Tested Effect        \n",
       "Estimate  Myeloid   15:80263217:C:T \\\\textit{BCL2A1} eQTL\n",
       "Estimate1 Myeloid   15:80263217:C:T \\\\textit{BCL2A1} eQTL\n",
       "Estimate2 NK        12:10583611:C:T \\\\textit{KLRC1} eQTL \n",
       "Estimate3 NK        12:10583611:C:T \\\\textit{KLRC1} eQTL \n",
       "1         Myeloid   15:80263217:C:T GeNA csaQTL          \n",
       "11        Myeloid   15:80263217:C:T GeNA csaQTL          \n",
       "12        NK        12:10583611:C:T GeNA csaQTL          \n",
       "13        NK        12:10583611:C:T GeNA csaQTL          \n",
       "          Added Covariate                                       P      \n",
       "Estimate  None                                                  1.1e-03\n",
       "Estimate1 GeNA csaQTL sample-level phenotype                    2.6e-03\n",
       "Estimate2 None                                                  3.5e-41\n",
       "Estimate3 GeNA csaQTL sample-level phenotype                    1.4e-32\n",
       "1         None                                                  2.6e-08\n",
       "11        \\\\textit{BCL2A1} mean expression across Myeloid cells 1.2e-02\n",
       "12        None                                                  2.0e-11\n",
       "13        \\\\textit{KLRC1} mean expression across NK cells       5.0e-16"
      ]
     },
     "metadata": {},
     "output_type": "display_data"
    }
   ],
   "source": [
    "all_res"
   ]
  },
  {
   "cell_type": "code",
   "execution_count": 10,
   "id": "1045e813",
   "metadata": {},
   "outputs": [],
   "source": [
    "table_dir=\"/data/srlab/lrumker/MCSC_Project/cna-qtl/tables/\"\n",
    "print(xtable(all_res), file=paste0(table_dir,\"supptable.csaQTL_eQTL_covariates.tex\"), \n",
    "      include.rownames=FALSE, sanitize.text.function = function(x) {x})"
   ]
  }
 ],
 "metadata": {
  "kernelspec": {
   "display_name": "R",
   "language": "R",
   "name": "ir"
  },
  "language_info": {
   "codemirror_mode": "r",
   "file_extension": ".r",
   "mimetype": "text/x-r-source",
   "name": "R",
   "pygments_lexer": "r",
   "version": "4.0.5"
  }
 },
 "nbformat": 4,
 "nbformat_minor": 5
}
