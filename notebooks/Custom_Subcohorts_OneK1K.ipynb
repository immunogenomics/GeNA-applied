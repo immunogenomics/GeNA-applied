{
 "cells": [
  {
   "cell_type": "markdown",
   "id": "224f0086",
   "metadata": {},
   "source": [
    "# Make custom objects reflecting samples for sub-cohorts of interest"
   ]
  },
  {
   "cell_type": "code",
   "execution_count": 1,
   "id": "f12d6545",
   "metadata": {},
   "outputs": [],
   "source": [
    "import pandas as pd\n",
    "import numpy as np\n",
    "import scanpy as sc\n",
    "import anndata as ad\n",
    "import harmonypy as hm\n",
    "import pp, cna, os, pickle\n",
    "pp.umapprops['s'] = 0.4\n",
    "import multianndata as mad\n",
    "import matplotlib.pyplot as plt\n",
    "from scipy.io import mmwrite\n",
    "fig_dir = '/data/srlab/lrumker/datasets/onek1k/figs/'\n",
    "src_folder = \"/data/srlab/lrumker/datasets/onek1k/pheno/\"\n",
    "res_folder = \"/data/srlab/lrumker/MCSC_Project/cna-qtl/results/\"\n",
    "np.random.seed(0)"
   ]
  },
  {
   "cell_type": "code",
   "execution_count": 2,
   "id": "d827bb03",
   "metadata": {},
   "outputs": [],
   "source": [
    "# review all disease annotations\n",
    "meta = pd.read_csv(src_folder+\"sample_meta.csv\", index_col = 0)\n",
    "other_dz = meta.Other_Disease.value_counts().index\n",
    "other_dz = np.concatenate([meta.Autoimmune_Disease_Other.value_counts().index, other_dz])\n",
    "other_dz = np.unique(np.concatenate([other_dz[i].split(\", \") for i in np.arange(len(other_dz))]))"
   ]
  },
  {
   "cell_type": "code",
   "execution_count": 3,
   "id": "7fc775ff",
   "metadata": {},
   "outputs": [],
   "source": [
    "ca_types = meta.Ca_Type.value_counts().index\n",
    "ca_types = np.unique(np.concatenate([ca_types[i].split(\", \") for i in np.arange(len(ca_types))]))"
   ]
  },
  {
   "cell_type": "markdown",
   "id": "856a7ba4",
   "metadata": {},
   "source": [
    "## Only donors with known absence of autoimmune disease\n",
    "\n",
    "Excludes donors lacking clinical metadata or with known autoimmune diseasemm"
   ]
  },
  {
   "cell_type": "code",
   "execution_count": 4,
   "id": "fc23aa83",
   "metadata": {},
   "outputs": [
    {
     "name": "stdout",
     "output_type": "stream",
     "text": [
      "Myeloid\n"
     ]
    },
    {
     "name": "stderr",
     "output_type": "stream",
     "text": [
      "Trying to set attribute `.var` of view, copying.\n"
     ]
    },
    {
     "name": "stdout",
     "output_type": "stream",
     "text": [
      "Keeping 472 samples with known absence of autoimmune disease\n",
      "Keeping 247 samples with at least 25 cells\n"
     ]
    },
    {
     "name": "stderr",
     "output_type": "stream",
     "text": [
      "Trying to set attribute `.var` of view, copying.\n",
      "Trying to set attribute `.var` of view, copying.\n",
      "Trying to set attribute `.var` of view, copying.\n",
      "/PHShome/lar24/anaconda3/envs/py3_clone/lib/python3.8/site-packages/scanpy/preprocessing/_normalization.py:138: UserWarning: Revieved a view of an AnnData. Making a copy.\n",
      "  view_to_actual(adata)\n",
      "/PHShome/lar24/anaconda3/envs/py3_clone/lib/python3.8/site-packages/scanpy/preprocessing/_simple.py:845: UserWarning: Revieved a view of an AnnData. Making a copy.\n",
      "  view_to_actual(adata)\n",
      "2023-11-01 11:52:23,560 - harmonypy - INFO - Iteration 1 of 50\n",
      "2023-11-01 11:52:28,178 - harmonypy - INFO - Iteration 2 of 50\n",
      "2023-11-01 11:52:32,900 - harmonypy - INFO - Iteration 3 of 50\n",
      "2023-11-01 11:52:37,827 - harmonypy - INFO - Iteration 4 of 50\n",
      "2023-11-01 11:52:42,016 - harmonypy - INFO - Iteration 5 of 50\n",
      "2023-11-01 11:52:45,335 - harmonypy - INFO - Converged after 5 iterations\n"
     ]
    },
    {
     "name": "stdout",
     "output_type": "stream",
     "text": [
      "graph\n",
      "umap\n"
     ]
    },
    {
     "name": "stderr",
     "output_type": "stream",
     "text": [
      "/PHShome/lar24/anaconda3/envs/py3_clone/lib/python3.8/site-packages/IPython/core/interactiveshell.py:3441: DtypeWarning: Columns (12) have mixed types.Specify dtype option on import or set low_memory=False.\n",
      "  exec(code_obj, self.user_global_ns, self.user_ns)\n"
     ]
    },
    {
     "name": "stdout",
     "output_type": "stream",
     "text": [
      "warning: the following columns of obs are non-numeric.\n",
      "['id' 'majortype' 'celltype' 'preQC_celltype' 'pool' 'indiv_barcode']\n",
      "consider casting to numeric types where appropriate, and\n",
      "consider re-coding text-valued columns with pandas.get_dummies\n"
     ]
    },
    {
     "name": "stderr",
     "output_type": "stream",
     "text": [
      "/PHShome/lar24/anaconda3/envs/py3_clone/lib/python3.8/site-packages/anndata/_core/anndata.py:1220: FutureWarning: The `inplace` parameter in pandas.Categorical.reorder_categories is deprecated and will be removed in a future version. Reordering categories will always return a new Categorical object.\n",
      "  c.reorder_categories(natsorted(c.categories), inplace=True)\n",
      "... storing 'pool' as categorical\n"
     ]
    },
    {
     "name": "stdout",
     "output_type": "stream",
     "text": [
      "NK\n"
     ]
    },
    {
     "name": "stderr",
     "output_type": "stream",
     "text": [
      "Trying to set attribute `.var` of view, copying.\n"
     ]
    },
    {
     "name": "stdout",
     "output_type": "stream",
     "text": [
      "Keeping 473 samples with known absence of autoimmune disease\n",
      "Keeping 454 samples with at least 25 cells\n"
     ]
    },
    {
     "name": "stderr",
     "output_type": "stream",
     "text": [
      "Trying to set attribute `.var` of view, copying.\n",
      "Trying to set attribute `.var` of view, copying.\n",
      "Trying to set attribute `.var` of view, copying.\n",
      "/PHShome/lar24/anaconda3/envs/py3_clone/lib/python3.8/site-packages/scanpy/preprocessing/_normalization.py:138: UserWarning: Revieved a view of an AnnData. Making a copy.\n",
      "  view_to_actual(adata)\n",
      "/PHShome/lar24/anaconda3/envs/py3_clone/lib/python3.8/site-packages/scanpy/preprocessing/_simple.py:845: UserWarning: Revieved a view of an AnnData. Making a copy.\n",
      "  view_to_actual(adata)\n",
      "2023-11-01 11:58:08,585 - harmonypy - INFO - Iteration 1 of 50\n",
      "2023-11-01 11:58:30,217 - harmonypy - INFO - Iteration 2 of 50\n",
      "2023-11-01 11:58:53,156 - harmonypy - INFO - Iteration 3 of 50\n",
      "2023-11-01 11:59:19,472 - harmonypy - INFO - Iteration 4 of 50\n",
      "2023-11-01 11:59:36,299 - harmonypy - INFO - Iteration 5 of 50\n",
      "2023-11-01 11:59:50,502 - harmonypy - INFO - Iteration 6 of 50\n",
      "2023-11-01 12:00:06,286 - harmonypy - INFO - Iteration 7 of 50\n",
      "2023-11-01 12:00:20,206 - harmonypy - INFO - Iteration 8 of 50\n",
      "2023-11-01 12:00:35,214 - harmonypy - INFO - Iteration 9 of 50\n",
      "2023-11-01 12:00:48,561 - harmonypy - INFO - Iteration 10 of 50\n",
      "2023-11-01 12:01:00,991 - harmonypy - INFO - Converged after 10 iterations\n"
     ]
    },
    {
     "name": "stdout",
     "output_type": "stream",
     "text": [
      "graph\n",
      "umap\n"
     ]
    },
    {
     "name": "stderr",
     "output_type": "stream",
     "text": [
      "/PHShome/lar24/anaconda3/envs/py3_clone/lib/python3.8/site-packages/IPython/core/interactiveshell.py:3441: DtypeWarning: Columns (12) have mixed types.Specify dtype option on import or set low_memory=False.\n",
      "  exec(code_obj, self.user_global_ns, self.user_ns)\n"
     ]
    },
    {
     "name": "stdout",
     "output_type": "stream",
     "text": [
      "warning: the following columns of obs are non-numeric.\n",
      "['id' 'majortype' 'celltype' 'preQC_celltype' 'pool' 'indiv_barcode']\n",
      "consider casting to numeric types where appropriate, and\n",
      "consider re-coding text-valued columns with pandas.get_dummies\n"
     ]
    },
    {
     "name": "stderr",
     "output_type": "stream",
     "text": [
      "/PHShome/lar24/anaconda3/envs/py3_clone/lib/python3.8/site-packages/anndata/_core/anndata.py:1220: FutureWarning: The `inplace` parameter in pandas.Categorical.reorder_categories is deprecated and will be removed in a future version. Reordering categories will always return a new Categorical object.\n",
      "  c.reorder_categories(natsorted(c.categories), inplace=True)\n",
      "... storing 'pool' as categorical\n"
     ]
    }
   ],
   "source": [
    "for celltype in [\"Myeloid\", \"NK\"]:\n",
    "    print(celltype)\n",
    "    np.random.seed(0)\n",
    "    d = sc.read_h5ad(src_folder+celltype+\"_expr.h5ad\")\n",
    "\n",
    "    # Remove individuals without documented clinical information\n",
    "    meta = pd.read_csv(src_folder+\"sample_meta.csv\", index_col = 0)\n",
    "    meta_clin = meta.drop(columns = meta.columns[pd.isna(meta).sum(axis=0)<400], inplace = False) # 32 clinical variables\n",
    "    rm_ids = meta_clin.index[pd.isna(meta_clin).sum(axis=1)==meta_clin.shape[1]]\n",
    "    meta = meta.drop(index=rm_ids)\n",
    "    \n",
    "    # Remove individuals with any labeled autoimmune disease\n",
    "    other_dz = meta.Other_Disease.value_counts().index\n",
    "    other_dz = np.concatenate([meta.Autoimmune_Disease_Other.value_counts().index, other_dz])\n",
    "    AIDs = ['MS', 'SLE', 'Sarcoidosis', \"Sjogren's\", 'ankylosing spondylitis', 'multiple sclerosis',\n",
    "            \"Crohn's\", 'dermatomyositis', 'lupus', 'palindromic rheumatism','psoriasis', \n",
    "            'sarcoidosis', 'scleroderma', 'psoriatic arthritis']\n",
    "    meta['non_null'] = [True if type(meta.Other_Disease.values[i]) is not float else False \\\n",
    "                                 for i in np.arange(meta.shape[0])]\n",
    "    meta['Any_AID'] = np.repeat(False, meta.shape[0])\n",
    "    for AID_term in AIDs:\n",
    "        meta.loc[meta.non_null, 'Any_AID'] = [True if meta.Any_AID.values[i] or \\\n",
    "                                             AID_term in meta.Autoimmune_Disease_Other.values[i] or \\\n",
    "                                  AID_term in meta.Other_Disease.values[i] else False \\\n",
    "                                 for i in np.where(meta.non_null)[0]]\n",
    "    AID_ids = np.array(meta.index[meta.Any_AID])\n",
    "    meta = meta.drop(index=AID_ids)\n",
    "    \n",
    "    # Remove individuals with tabulated autoimmune disease\n",
    "    meta = meta.loc[meta.Autoimmune_Disease==0,:]\n",
    "    meta = meta.loc[meta.Rheumatoid_arthritis==0,:]\n",
    "    meta = meta.loc[meta.Diabetes_type1==0,:]\n",
    "    meta = meta.loc[meta.UlcerativeColitis==0,:]\n",
    "    meta = meta.loc[meta.Autoimmune_Disease_Other==\"N\",:]\n",
    "    keep_ids = meta.index\n",
    "    keep_cells = np.repeat(False, d.obs.shape[0])\n",
    "    for sel_donor in keep_ids:\n",
    "        keep_cells[np.where(d.obs.individual.values==sel_donor)] = True\n",
    "\n",
    "    d = d[keep_cells,:]\n",
    "    print(\"Keeping \"+str(len(np.unique(d.obs.individual)))+\" samples with known absence of autoimmune disease\")\n",
    "\n",
    "    # Retain only samples with at least 25 cells\n",
    "    cellcount = pd.DataFrame(d.obs.individual.value_counts())\n",
    "    cellcount.columns = ['n_cells']\n",
    "    keep_ids = cellcount.index[cellcount.n_cells>=25]\n",
    "    keep_cells = np.repeat(False, d.obs.shape[0])\n",
    "    for sel_donor in keep_ids:\n",
    "        keep_cells[np.where(d.obs.individual.values==sel_donor)] = True\n",
    "\n",
    "    d = d[keep_cells,:]\n",
    "    print(\"Keeping \"+str(len(np.unique(d.obs.individual)))+\" samples with at least 25 cells\")\n",
    "\n",
    "    # Remove all HLA- genes (21)\n",
    "    d.var['HLA'] = ['HLA-' in d.var.index[i] for i in np.arange(d.var.shape[0])]\n",
    "    d = d[:,~d.var.HLA.values]\n",
    "\n",
    "    # Remove cell cycle genes\n",
    "    cc_genes = [\"MCM5\",\"PCNA\",\"TYMS\",\"FEN1\",\"MCM2\",\"MCM4\", \"RRM1\",\"UNG\",\"GINS2\",\"MCM6\",\n",
    "                \"CDCA7\",\"DTL\",\"PRIM1\",\"UHRF1\",\"MLF1IP\",\"HELLS\",\"RFC2\",\"RPA2\",\"NASP\", \n",
    "                \"RAD51AP1\",\"GMNN\",\"WDR76\",\"SLBP\",\"CCNE2\",\"UBR7\",\"POLD3\",\"MSH2\",\"ATAD2\",\n",
    "                \"RAD51\",\"RRM2\", \"CDC45\", \"CDC6\", \"EXO1\", \"TIPIN\", \"DSCC1\", \"BLM\", \"CASP8AP2\",\n",
    "                \"USP1\",\"CLSPN\",\"POLA1\",\"CHAF1B\",\"BRIP1\",\"E2F8\",\"HMGB2\",\"CDK1\",\"NUSAP1\",\"UBE2C\",\n",
    "                \"BIRC5\",\"TPX2\",\"TOP2A\",\"NDC80\",\"CKS2\",\"NUF2\",\"CKS1B\",\"MKI67\",\"TMPO\",\"CENPF\",\n",
    "                \"TACC3\",\"FAM64A\",\"SMC4\",\"CCNB2\",\"CKAP2L\",\"CKAP2\",\"AURKB\",\"BUB1\",\"KIF11\",\n",
    "                \"ANP32E\",\"TUBB4B\",\"GTSE1\",\"KIF20B\",\"HJURP\",\"CDCA3\",\"HN1\", \"CDC20\", \"TTK\",\n",
    "                \"CDC25C\", \"KIF2C\", \"RANGAP1\", \"NCAPD2\", \"DLGAP5\", \"CDCA2\", \"CDCA8\", \"ECT2\", \n",
    "                \"KIF23\", \"HMMR\", \"AURKA\", \"PSRC1\", \"ANLN\", \"LBR\", \"CKAP5\", \"CENPE\", \"CTCF\",\n",
    "                \"NEK2\",\"G2E3\",\"GAS2L3\",\"CBX5\",\"CENPA\"]\n",
    "    d.var['CC'] = [d.var.index[i] in cc_genes for i in np.arange(d.var.shape[0])]\n",
    "    d = d[:,~d.var.CC.values]\n",
    "\n",
    "    # Remove hemoglobin genes (polymorphic)\n",
    "    hb_genes = ['HBB', 'HBA2', 'HBD', 'HBA1']\n",
    "    d.var['HB'] = [d.var.index[i] in hb_genes for i in np.arange(d.var.shape[0])]\n",
    "    d = d[:,~d.var.HB.values]\n",
    "\n",
    "    # Remove platelet genes\n",
    "    plt_genes = ['PF4', 'PPBP']\n",
    "    d.var['Plt'] = [d.var.index[i] in plt_genes for i in np.arange(d.var.shape[0])]\n",
    "    d = d[:,~d.var.Plt.values]\n",
    "\n",
    "    sc.pp.normalize_total(d, target_sum=1e4) #normalize expr\n",
    "    sc.pp.log1p(d) #logarithmize\n",
    "\n",
    "    # variable gene selection\n",
    "    min_disp = {'Myeloid':0.51, 'B':0.39, 'NK': 0.37, 'T': 0.31, 'allcells':0.30}\n",
    "    sc.pp.highly_variable_genes(d, min_disp=min_disp[celltype]) #np.sum(d.var.highly_variable)\n",
    "\n",
    "    high_dispersion = d.var.dispersions_norm > 11\n",
    "    d.var.loc[high_dispersion, 'highly_variable'] = False\n",
    "\n",
    "    d = d[:, d.var.highly_variable]\n",
    "\n",
    "    sc.pp.scale(d, max_value=10) # Scale each gene to unit variance\n",
    "    sc.tl.pca(d, svd_solver='arpack') # PCA\n",
    "\n",
    "    # Harmonize over batch (theta of 2 is default, if >1 batch variable, thetas should sum to 1)\n",
    "    if celltype == \"allcells\":\n",
    "        ho = hm.run_harmony(d.obsm['X_pca'][:,:20], d.obs, ['pool'], max_iter_harmony = 50, theta = 2)\n",
    "    else:\n",
    "        # sel sigma 0.2 > default of 0.1 --> encourages softer clustering b/c all one major type\n",
    "        ho = hm.run_harmony(d.obsm['X_pca'][:,:20], d.obs, ['pool'], \n",
    "                            nclust = 50, sigma = 0.2, max_iter_harmony = 50, theta = 2)\n",
    "    d.obsm['harmpca'] = ho.Z_corr.T\n",
    "\n",
    "    print(\"graph\")\n",
    "    sc.pp.neighbors(d, use_rep = 'harmpca') # graph    \n",
    "    print(\"umap\")\n",
    "    sc.tl.umap(d) # umap    \n",
    "\n",
    "    # Load cell metadata\n",
    "    cell_meta = pd.read_csv(src_folder+\"cell_meta.csv\", index_col = 0)\n",
    "    cell_meta['batch'] = cell_meta.pool_number.values\n",
    "    d.obs['id'] = d.obs.individual.values\n",
    "    d.obs['preQC_celltype'] = d.obs['predicted.celltype.l2'].values\n",
    "\n",
    "    d.obs = d.obs.loc[:,['id', 'i_RawExpr', 'majortype', 'celltype', 'ref_UMAP1', 'ref_UMAP2', 'preQC_celltype']]\n",
    "    d.obs = d.obs.join(cell_meta.loc[:,['nCount_RNA', 'nFeature_RNA', 'pool', 'percent.mt', 'batch',\n",
    "            'sex', 'age', 'indiv_barcode']])\n",
    "\n",
    "    # make anndata object\n",
    "    d = mad.MultiAnnData(d, sampleid='id')\n",
    "    d.use_R2 = False\n",
    "    d.scale_variance = False\n",
    "    d.count_factor = 0\n",
    "\n",
    "    # aggregate sample metadata imported per-cell\n",
    "    d.obs_to_sample(['sex', 'age', 'batch'])\n",
    "    d.samplem['sex_M'] = (d.samplem.sex==1)*1 # From 1 vs 2 to boolean\n",
    "    d.samplem = d.samplem.drop(columns = ['sex'])\n",
    "\n",
    "    # add other clinical metadata\n",
    "    d.samplem = d.samplem.join(meta.loc[:,['gPC1', 'gPC2', 'gPC3', 'gPC4', 'gPC5', 'gPC6']])\n",
    "\n",
    "    categorical = ['Autoimmune_Disease_Other', 'Ca_Type', 'Eye_DiseaseType', 'Other_Disease', 'Other_Meds']\n",
    "    for attribute in d.samplem.columns:\n",
    "        if attribute not in categorical: d.samplem[attribute] = d.samplem[attribute].values.tolist()\n",
    "    for attribute in d.samplem.columns:\n",
    "        if attribute in categorical: d.samplem[attribute] = d.samplem[attribute].values.astype(str).tolist()\n",
    "\n",
    "    # build NAM, compute NAM-PCs corrected for batch and covariates\n",
    "    covs = ['age', 'sex_M', 'gPC1', 'gPC2', 'gPC3', 'gPC4', 'gPC5', 'gPC6']\n",
    "    cna.tl.nam(d, batches=d.samplem.batch, covs=d.samplem[covs], ks=[d.samplem.shape[0]])\n",
    "\n",
    "    # save data objects\n",
    "    d.write(res_folder+\"gwas_\"+celltype+\"/\"+celltype+\"_noAIDs.h5ad\")"
   ]
  },
  {
   "cell_type": "code",
   "execution_count": 5,
   "id": "ea812a73",
   "metadata": {},
   "outputs": [
    {
     "name": "stdout",
     "output_type": "stream",
     "text": [
      "454\n",
      "247\n"
     ]
    }
   ],
   "source": [
    "# Report count of samples included in each object\n",
    "for celltype in ['NK', 'Myeloid']:\n",
    "    d = cna.read(res_folder+\"gwas_\"+celltype+\"/\"+celltype+\"_noAIDs.h5ad\")\n",
    "    print(d.samplem.shape[0])"
   ]
  },
  {
   "cell_type": "markdown",
   "id": "236597af",
   "metadata": {},
   "source": [
    "## Only donors with known absence of asthma\n",
    "\n",
    "Excludes donors lacking clinical metadata or with known asthma"
   ]
  },
  {
   "cell_type": "code",
   "execution_count": 6,
   "id": "b1baaf69",
   "metadata": {},
   "outputs": [
    {
     "name": "stderr",
     "output_type": "stream",
     "text": [
      "Trying to set attribute `.var` of view, copying.\n"
     ]
    },
    {
     "name": "stdout",
     "output_type": "stream",
     "text": [
      "Keeping 461 samples with known absence of asthma\n",
      "Keeping 444 samples with at least 25 cells\n"
     ]
    },
    {
     "name": "stderr",
     "output_type": "stream",
     "text": [
      "Trying to set attribute `.var` of view, copying.\n",
      "Trying to set attribute `.var` of view, copying.\n",
      "Trying to set attribute `.var` of view, copying.\n",
      "/PHShome/lar24/anaconda3/envs/py3_clone/lib/python3.8/site-packages/scanpy/preprocessing/_normalization.py:138: UserWarning: Revieved a view of an AnnData. Making a copy.\n",
      "  view_to_actual(adata)\n",
      "/PHShome/lar24/anaconda3/envs/py3_clone/lib/python3.8/site-packages/scanpy/preprocessing/_simple.py:845: UserWarning: Revieved a view of an AnnData. Making a copy.\n",
      "  view_to_actual(adata)\n",
      "2023-11-01 12:03:17,962 - harmonypy - INFO - Iteration 1 of 50\n",
      "2023-11-01 12:03:46,663 - harmonypy - INFO - Iteration 2 of 50\n",
      "2023-11-01 12:04:13,892 - harmonypy - INFO - Iteration 3 of 50\n",
      "2023-11-01 12:04:39,864 - harmonypy - INFO - Iteration 4 of 50\n",
      "2023-11-01 12:04:53,656 - harmonypy - INFO - Iteration 5 of 50\n",
      "2023-11-01 12:05:07,058 - harmonypy - INFO - Iteration 6 of 50\n",
      "2023-11-01 12:05:21,160 - harmonypy - INFO - Iteration 7 of 50\n",
      "2023-11-01 12:05:37,776 - harmonypy - INFO - Iteration 8 of 50\n",
      "2023-11-01 12:05:54,420 - harmonypy - INFO - Iteration 9 of 50\n",
      "2023-11-01 12:06:07,298 - harmonypy - INFO - Iteration 10 of 50\n",
      "2023-11-01 12:06:20,228 - harmonypy - INFO - Converged after 10 iterations\n"
     ]
    },
    {
     "name": "stdout",
     "output_type": "stream",
     "text": [
      "graph\n",
      "umap\n"
     ]
    },
    {
     "name": "stderr",
     "output_type": "stream",
     "text": [
      "/PHShome/lar24/anaconda3/envs/py3_clone/lib/python3.8/site-packages/IPython/core/interactiveshell.py:3441: DtypeWarning: Columns (12) have mixed types.Specify dtype option on import or set low_memory=False.\n",
      "  exec(code_obj, self.user_global_ns, self.user_ns)\n"
     ]
    },
    {
     "name": "stdout",
     "output_type": "stream",
     "text": [
      "warning: the following columns of obs are non-numeric.\n",
      "['id' 'majortype' 'celltype' 'preQC_celltype' 'pool' 'indiv_barcode']\n",
      "consider casting to numeric types where appropriate, and\n",
      "consider re-coding text-valued columns with pandas.get_dummies\n"
     ]
    },
    {
     "name": "stderr",
     "output_type": "stream",
     "text": [
      "/PHShome/lar24/anaconda3/envs/py3_clone/lib/python3.8/site-packages/anndata/_core/anndata.py:1220: FutureWarning: The `inplace` parameter in pandas.Categorical.reorder_categories is deprecated and will be removed in a future version. Reordering categories will always return a new Categorical object.\n",
      "  c.reorder_categories(natsorted(c.categories), inplace=True)\n",
      "... storing 'pool' as categorical\n"
     ]
    }
   ],
   "source": [
    "celltype=\"NK\"\n",
    "np.random.seed(0)\n",
    "d = sc.read_h5ad(src_folder+celltype+\"_expr.h5ad\")\n",
    "\n",
    "# Remove individuals without documented clinical information\n",
    "meta = pd.read_csv(src_folder+\"sample_meta.csv\", index_col = 0)\n",
    "meta_clin = meta.drop(columns = meta.columns[pd.isna(meta).sum(axis=0)<400], inplace = False) # 32 clinical variables\n",
    "rm_ids = meta_clin.index[pd.isna(meta_clin).sum(axis=1)==meta_clin.shape[1]]\n",
    "meta = meta.drop(index=rm_ids)\n",
    "\n",
    "# Remove individuals with any labeled autoimmune disease\n",
    "meta['non_null'] = [True if type(meta.Other_Disease.values[i]) is not float else False \\\n",
    "                             for i in np.arange(meta.shape[0])]\n",
    "meta['Asthma'] = np.repeat(False, meta.shape[0])\n",
    "meta.loc[meta.non_null, 'Asthma'] = [True if 'asthma' in meta.Autoimmune_Disease_Other.values[i] or \\\n",
    "                              'asthma' in meta.Other_Disease.values[i] else False \\\n",
    "                             for i in np.where(meta.non_null)[0]]\n",
    "Asthma_ids = np.array(meta.index[meta.Asthma.values])    \n",
    "    \n",
    "meta = meta.drop(index=Asthma_ids)\n",
    "keep_ids = meta.index\n",
    "keep_cells = np.repeat(False, d.obs.shape[0])\n",
    "for sel_donor in keep_ids:\n",
    "    keep_cells[np.where(d.obs.individual.values==sel_donor)] = True\n",
    "\n",
    "d = d[keep_cells,:]\n",
    "print(\"Keeping \"+str(len(np.unique(d.obs.individual)))+\" samples with known absence of asthma\")\n",
    "\n",
    "# Retain only samples with at least 25 cells\n",
    "cellcount = pd.DataFrame(d.obs.individual.value_counts())\n",
    "cellcount.columns = ['n_cells']\n",
    "keep_ids = cellcount.index[cellcount.n_cells>=25]\n",
    "keep_cells = np.repeat(False, d.obs.shape[0])\n",
    "for sel_donor in keep_ids:\n",
    "    keep_cells[np.where(d.obs.individual.values==sel_donor)] = True\n",
    "\n",
    "d = d[keep_cells,:]\n",
    "print(\"Keeping \"+str(len(np.unique(d.obs.individual)))+\" samples with at least 25 cells\")\n",
    "\n",
    "# Remove all HLA- genes (21)\n",
    "d.var['HLA'] = ['HLA-' in d.var.index[i] for i in np.arange(d.var.shape[0])]\n",
    "d = d[:,~d.var.HLA.values]\n",
    "\n",
    "# Remove cell cycle genes\n",
    "cc_genes = [\"MCM5\",\"PCNA\",\"TYMS\",\"FEN1\",\"MCM2\",\"MCM4\", \"RRM1\",\"UNG\",\"GINS2\",\"MCM6\",\n",
    "            \"CDCA7\",\"DTL\",\"PRIM1\",\"UHRF1\",\"MLF1IP\",\"HELLS\",\"RFC2\",\"RPA2\",\"NASP\", \n",
    "            \"RAD51AP1\",\"GMNN\",\"WDR76\",\"SLBP\",\"CCNE2\",\"UBR7\",\"POLD3\",\"MSH2\",\"ATAD2\",\n",
    "            \"RAD51\",\"RRM2\", \"CDC45\", \"CDC6\", \"EXO1\", \"TIPIN\", \"DSCC1\", \"BLM\", \"CASP8AP2\",\n",
    "            \"USP1\",\"CLSPN\",\"POLA1\",\"CHAF1B\",\"BRIP1\",\"E2F8\",\"HMGB2\",\"CDK1\",\"NUSAP1\",\"UBE2C\",\n",
    "            \"BIRC5\",\"TPX2\",\"TOP2A\",\"NDC80\",\"CKS2\",\"NUF2\",\"CKS1B\",\"MKI67\",\"TMPO\",\"CENPF\",\n",
    "            \"TACC3\",\"FAM64A\",\"SMC4\",\"CCNB2\",\"CKAP2L\",\"CKAP2\",\"AURKB\",\"BUB1\",\"KIF11\",\n",
    "            \"ANP32E\",\"TUBB4B\",\"GTSE1\",\"KIF20B\",\"HJURP\",\"CDCA3\",\"HN1\", \"CDC20\", \"TTK\",\n",
    "            \"CDC25C\", \"KIF2C\", \"RANGAP1\", \"NCAPD2\", \"DLGAP5\", \"CDCA2\", \"CDCA8\", \"ECT2\", \n",
    "            \"KIF23\", \"HMMR\", \"AURKA\", \"PSRC1\", \"ANLN\", \"LBR\", \"CKAP5\", \"CENPE\", \"CTCF\",\n",
    "            \"NEK2\",\"G2E3\",\"GAS2L3\",\"CBX5\",\"CENPA\"]\n",
    "d.var['CC'] = [d.var.index[i] in cc_genes for i in np.arange(d.var.shape[0])]\n",
    "d = d[:,~d.var.CC.values]\n",
    "\n",
    "# Remove hemoglobin genes (polymorphic)\n",
    "hb_genes = ['HBB', 'HBA2', 'HBD', 'HBA1']\n",
    "d.var['HB'] = [d.var.index[i] in hb_genes for i in np.arange(d.var.shape[0])]\n",
    "d = d[:,~d.var.HB.values]\n",
    "\n",
    "# Remove platelet genes\n",
    "plt_genes = ['PF4', 'PPBP']\n",
    "d.var['Plt'] = [d.var.index[i] in plt_genes for i in np.arange(d.var.shape[0])]\n",
    "d = d[:,~d.var.Plt.values]\n",
    "\n",
    "sc.pp.normalize_total(d, target_sum=1e4) #normalize expr\n",
    "sc.pp.log1p(d) #logarithmize\n",
    "\n",
    "# variable gene selection\n",
    "min_disp = {'Myeloid':0.51, 'B':0.39, 'NK': 0.37, 'T': 0.31, 'allcells':0.30}\n",
    "sc.pp.highly_variable_genes(d, min_disp=min_disp[celltype]) #np.sum(d.var.highly_variable)\n",
    "\n",
    "high_dispersion = d.var.dispersions_norm > 11\n",
    "d.var.loc[high_dispersion, 'highly_variable'] = False\n",
    "\n",
    "d = d[:, d.var.highly_variable]\n",
    "\n",
    "sc.pp.scale(d, max_value=10) # Scale each gene to unit variance\n",
    "sc.tl.pca(d, svd_solver='arpack') # PCA\n",
    "\n",
    "# Harmonize over batch (theta of 2 is default, if >1 batch variable, thetas should sum to 1)\n",
    "if celltype == \"allcells\":\n",
    "    ho = hm.run_harmony(d.obsm['X_pca'][:,:20], d.obs, ['pool'], max_iter_harmony = 50, theta = 2)\n",
    "else:\n",
    "    # sel sigma 0.2 > default of 0.1 --> encourages softer clustering b/c all one major type\n",
    "    ho = hm.run_harmony(d.obsm['X_pca'][:,:20], d.obs, ['pool'], \n",
    "                        nclust = 50, sigma = 0.2, max_iter_harmony = 50, theta = 2)\n",
    "d.obsm['harmpca'] = ho.Z_corr.T\n",
    "\n",
    "print(\"graph\")\n",
    "sc.pp.neighbors(d, use_rep = 'harmpca') # graph    \n",
    "print(\"umap\")\n",
    "sc.tl.umap(d) # umap    \n",
    "\n",
    "# Load cell metadata\n",
    "cell_meta = pd.read_csv(src_folder+\"cell_meta.csv\", index_col = 0)\n",
    "cell_meta['batch'] = cell_meta.pool_number.values\n",
    "d.obs['id'] = d.obs.individual.values\n",
    "d.obs['preQC_celltype'] = d.obs['predicted.celltype.l2'].values\n",
    "\n",
    "d.obs = d.obs.loc[:,['id', 'i_RawExpr', 'majortype', 'celltype', 'ref_UMAP1', 'ref_UMAP2', 'preQC_celltype']]\n",
    "d.obs = d.obs.join(cell_meta.loc[:,['nCount_RNA', 'nFeature_RNA', 'pool', 'percent.mt', 'batch',\n",
    "        'sex', 'age', 'indiv_barcode']])\n",
    "\n",
    "# make anndata object\n",
    "d = mad.MultiAnnData(d, sampleid='id')\n",
    "d.use_R2 = False\n",
    "d.scale_variance = False\n",
    "d.count_factor = 0\n",
    "\n",
    "# aggregate sample metadata imported per-cell\n",
    "d.obs_to_sample(['sex', 'age', 'batch'])\n",
    "d.samplem['sex_M'] = (d.samplem.sex==1)*1 # From 1 vs 2 to boolean\n",
    "d.samplem = d.samplem.drop(columns = ['sex'])\n",
    "\n",
    "# add other clinical metadata\n",
    "d.samplem = d.samplem.join(meta.loc[:,['gPC1', 'gPC2', 'gPC3', 'gPC4', 'gPC5', 'gPC6']])\n",
    "\n",
    "categorical = ['Autoimmune_Disease_Other', 'Ca_Type', 'Eye_DiseaseType', 'Other_Disease', 'Other_Meds']\n",
    "for attribute in d.samplem.columns:\n",
    "    if attribute not in categorical: d.samplem[attribute] = d.samplem[attribute].values.tolist()\n",
    "for attribute in d.samplem.columns:\n",
    "    if attribute in categorical: d.samplem[attribute] = d.samplem[attribute].values.astype(str).tolist()\n",
    "\n",
    "# build NAM, compute NAM-PCs corrected for batch and covariates\n",
    "covs = ['age', 'sex_M', 'gPC1', 'gPC2', 'gPC3', 'gPC4', 'gPC5', 'gPC6']\n",
    "cna.tl.nam(d, batches=d.samplem.batch, covs=d.samplem[covs], ks=[d.samplem.shape[0]])\n",
    "\n",
    "# save data objects\n",
    "d.write(res_folder+\"gwas_\"+celltype+\"/\"+celltype+\"_noAsthma.h5ad\")"
   ]
  },
  {
   "cell_type": "code",
   "execution_count": 7,
   "id": "f10c57eb",
   "metadata": {},
   "outputs": [
    {
     "name": "stdout",
     "output_type": "stream",
     "text": [
      "444\n"
     ]
    }
   ],
   "source": [
    "# Report count of samples included in each object\n",
    "for celltype in ['NK']:\n",
    "    d = cna.read(res_folder+\"gwas_\"+celltype+\"/\"+celltype+\"_noAsthma.h5ad\")\n",
    "    print(d.samplem.shape[0])"
   ]
  },
  {
   "cell_type": "markdown",
   "id": "e2d5f887",
   "metadata": {},
   "source": [
    "## Only donors with known metadata (no ovarian cancer cases recorded)\n",
    "\n",
    "Excludes donors lacking clinical metadata. None with clinical metadata have a record of ovarian cancer."
   ]
  },
  {
   "cell_type": "code",
   "execution_count": 8,
   "id": "764868ab",
   "metadata": {},
   "outputs": [
    {
     "name": "stdout",
     "output_type": "stream",
     "text": [
      "Keeping 534 samples with known absence of asthma\n",
      "Keeping 513 samples with at least 25 cells\n"
     ]
    },
    {
     "name": "stderr",
     "output_type": "stream",
     "text": [
      "Trying to set attribute `.var` of view, copying.\n",
      "Trying to set attribute `.var` of view, copying.\n",
      "Trying to set attribute `.var` of view, copying.\n",
      "Trying to set attribute `.var` of view, copying.\n",
      "/PHShome/lar24/anaconda3/envs/py3_clone/lib/python3.8/site-packages/scanpy/preprocessing/_normalization.py:138: UserWarning: Revieved a view of an AnnData. Making a copy.\n",
      "  view_to_actual(adata)\n",
      "/PHShome/lar24/anaconda3/envs/py3_clone/lib/python3.8/site-packages/scanpy/preprocessing/_simple.py:845: UserWarning: Revieved a view of an AnnData. Making a copy.\n",
      "  view_to_actual(adata)\n",
      "2023-11-01 12:08:32,952 - harmonypy - INFO - Iteration 1 of 50\n",
      "2023-11-01 12:09:06,048 - harmonypy - INFO - Iteration 2 of 50\n",
      "2023-11-01 12:09:40,176 - harmonypy - INFO - Iteration 3 of 50\n",
      "2023-11-01 12:10:14,974 - harmonypy - INFO - Iteration 4 of 50\n",
      "2023-11-01 12:10:49,287 - harmonypy - INFO - Iteration 5 of 50\n",
      "2023-11-01 12:11:09,067 - harmonypy - INFO - Iteration 6 of 50\n",
      "2023-11-01 12:11:25,050 - harmonypy - INFO - Iteration 7 of 50\n",
      "2023-11-01 12:11:40,220 - harmonypy - INFO - Iteration 8 of 50\n",
      "2023-11-01 12:11:54,581 - harmonypy - INFO - Iteration 9 of 50\n",
      "2023-11-01 12:12:10,774 - harmonypy - INFO - Iteration 10 of 50\n",
      "2023-11-01 12:12:26,924 - harmonypy - INFO - Converged after 10 iterations\n"
     ]
    },
    {
     "name": "stdout",
     "output_type": "stream",
     "text": [
      "graph\n",
      "umap\n"
     ]
    },
    {
     "name": "stderr",
     "output_type": "stream",
     "text": [
      "/PHShome/lar24/anaconda3/envs/py3_clone/lib/python3.8/site-packages/IPython/core/interactiveshell.py:3441: DtypeWarning: Columns (12) have mixed types.Specify dtype option on import or set low_memory=False.\n",
      "  exec(code_obj, self.user_global_ns, self.user_ns)\n"
     ]
    },
    {
     "name": "stdout",
     "output_type": "stream",
     "text": [
      "warning: the following columns of obs are non-numeric.\n",
      "['id' 'majortype' 'celltype' 'preQC_celltype' 'pool' 'indiv_barcode']\n",
      "consider casting to numeric types where appropriate, and\n",
      "consider re-coding text-valued columns with pandas.get_dummies\n"
     ]
    },
    {
     "name": "stderr",
     "output_type": "stream",
     "text": [
      "/PHShome/lar24/anaconda3/envs/py3_clone/lib/python3.8/site-packages/anndata/_core/anndata.py:1220: FutureWarning: The `inplace` parameter in pandas.Categorical.reorder_categories is deprecated and will be removed in a future version. Reordering categories will always return a new Categorical object.\n",
      "  c.reorder_categories(natsorted(c.categories), inplace=True)\n",
      "... storing 'pool' as categorical\n"
     ]
    }
   ],
   "source": [
    "celltype=\"NK\"\n",
    "np.random.seed(0)\n",
    "d = sc.read_h5ad(src_folder+celltype+\"_expr.h5ad\")\n",
    "\n",
    "# Remove individuals without documented clinical information\n",
    "meta = pd.read_csv(src_folder+\"sample_meta.csv\", index_col = 0)\n",
    "meta_clin = meta.drop(columns = meta.columns[pd.isna(meta).sum(axis=0)<400], inplace = False) # 32 clinical variables\n",
    "rm_ids = meta_clin.index[pd.isna(meta_clin).sum(axis=1)==meta_clin.shape[1]]\n",
    "meta = meta.drop(index=rm_ids)\n",
    "keep_ids = meta.index\n",
    "keep_cells = np.repeat(False, d.obs.shape[0])\n",
    "for sel_donor in keep_ids:\n",
    "    keep_cells[np.where(d.obs.individual.values==sel_donor)] = True\n",
    "\n",
    "d = d[keep_cells,:]\n",
    "print(\"Keeping \"+str(len(np.unique(d.obs.individual)))+\" samples with known absence of asthma\")\n",
    "\n",
    "# Retain only samples with at least 25 cells\n",
    "cellcount = pd.DataFrame(d.obs.individual.value_counts())\n",
    "cellcount.columns = ['n_cells']\n",
    "keep_ids = cellcount.index[cellcount.n_cells>=25]\n",
    "keep_cells = np.repeat(False, d.obs.shape[0])\n",
    "for sel_donor in keep_ids:\n",
    "    keep_cells[np.where(d.obs.individual.values==sel_donor)] = True\n",
    "\n",
    "d = d[keep_cells,:]\n",
    "print(\"Keeping \"+str(len(np.unique(d.obs.individual)))+\" samples with at least 25 cells\")\n",
    "\n",
    "# Remove all HLA- genes (21)\n",
    "d.var['HLA'] = ['HLA-' in d.var.index[i] for i in np.arange(d.var.shape[0])]\n",
    "d = d[:,~d.var.HLA.values]\n",
    "\n",
    "# Remove cell cycle genes\n",
    "cc_genes = [\"MCM5\",\"PCNA\",\"TYMS\",\"FEN1\",\"MCM2\",\"MCM4\", \"RRM1\",\"UNG\",\"GINS2\",\"MCM6\",\n",
    "            \"CDCA7\",\"DTL\",\"PRIM1\",\"UHRF1\",\"MLF1IP\",\"HELLS\",\"RFC2\",\"RPA2\",\"NASP\", \n",
    "            \"RAD51AP1\",\"GMNN\",\"WDR76\",\"SLBP\",\"CCNE2\",\"UBR7\",\"POLD3\",\"MSH2\",\"ATAD2\",\n",
    "            \"RAD51\",\"RRM2\", \"CDC45\", \"CDC6\", \"EXO1\", \"TIPIN\", \"DSCC1\", \"BLM\", \"CASP8AP2\",\n",
    "            \"USP1\",\"CLSPN\",\"POLA1\",\"CHAF1B\",\"BRIP1\",\"E2F8\",\"HMGB2\",\"CDK1\",\"NUSAP1\",\"UBE2C\",\n",
    "            \"BIRC5\",\"TPX2\",\"TOP2A\",\"NDC80\",\"CKS2\",\"NUF2\",\"CKS1B\",\"MKI67\",\"TMPO\",\"CENPF\",\n",
    "            \"TACC3\",\"FAM64A\",\"SMC4\",\"CCNB2\",\"CKAP2L\",\"CKAP2\",\"AURKB\",\"BUB1\",\"KIF11\",\n",
    "            \"ANP32E\",\"TUBB4B\",\"GTSE1\",\"KIF20B\",\"HJURP\",\"CDCA3\",\"HN1\", \"CDC20\", \"TTK\",\n",
    "            \"CDC25C\", \"KIF2C\", \"RANGAP1\", \"NCAPD2\", \"DLGAP5\", \"CDCA2\", \"CDCA8\", \"ECT2\", \n",
    "            \"KIF23\", \"HMMR\", \"AURKA\", \"PSRC1\", \"ANLN\", \"LBR\", \"CKAP5\", \"CENPE\", \"CTCF\",\n",
    "            \"NEK2\",\"G2E3\",\"GAS2L3\",\"CBX5\",\"CENPA\"]\n",
    "d.var['CC'] = [d.var.index[i] in cc_genes for i in np.arange(d.var.shape[0])]\n",
    "d = d[:,~d.var.CC.values]\n",
    "\n",
    "# Remove hemoglobin genes (polymorphic)\n",
    "hb_genes = ['HBB', 'HBA2', 'HBD', 'HBA1']\n",
    "d.var['HB'] = [d.var.index[i] in hb_genes for i in np.arange(d.var.shape[0])]\n",
    "d = d[:,~d.var.HB.values]\n",
    "\n",
    "# Remove platelet genes\n",
    "plt_genes = ['PF4', 'PPBP']\n",
    "d.var['Plt'] = [d.var.index[i] in plt_genes for i in np.arange(d.var.shape[0])]\n",
    "d = d[:,~d.var.Plt.values]\n",
    "\n",
    "sc.pp.normalize_total(d, target_sum=1e4) #normalize expr\n",
    "sc.pp.log1p(d) #logarithmize\n",
    "\n",
    "# variable gene selection\n",
    "min_disp = {'Myeloid':0.51, 'B':0.39, 'NK': 0.37, 'T': 0.31, 'allcells':0.30}\n",
    "sc.pp.highly_variable_genes(d, min_disp=min_disp[celltype]) #np.sum(d.var.highly_variable)\n",
    "\n",
    "high_dispersion = d.var.dispersions_norm > 11\n",
    "d.var.loc[high_dispersion, 'highly_variable'] = False\n",
    "\n",
    "d = d[:, d.var.highly_variable]\n",
    "\n",
    "sc.pp.scale(d, max_value=10) # Scale each gene to unit variance\n",
    "sc.tl.pca(d, svd_solver='arpack') # PCA\n",
    "\n",
    "# Harmonize over batch (theta of 2 is default, if >1 batch variable, thetas should sum to 1)\n",
    "if celltype == \"allcells\":\n",
    "    ho = hm.run_harmony(d.obsm['X_pca'][:,:20], d.obs, ['pool'], max_iter_harmony = 50, theta = 2)\n",
    "else:\n",
    "    # sel sigma 0.2 > default of 0.1 --> encourages softer clustering b/c all one major type\n",
    "    ho = hm.run_harmony(d.obsm['X_pca'][:,:20], d.obs, ['pool'], \n",
    "                        nclust = 50, sigma = 0.2, max_iter_harmony = 50, theta = 2)\n",
    "d.obsm['harmpca'] = ho.Z_corr.T\n",
    "\n",
    "print(\"graph\")\n",
    "sc.pp.neighbors(d, use_rep = 'harmpca') # graph    \n",
    "print(\"umap\")\n",
    "sc.tl.umap(d) # umap    \n",
    "\n",
    "# Load cell metadata\n",
    "cell_meta = pd.read_csv(src_folder+\"cell_meta.csv\", index_col = 0)\n",
    "cell_meta['batch'] = cell_meta.pool_number.values\n",
    "d.obs['id'] = d.obs.individual.values\n",
    "d.obs['preQC_celltype'] = d.obs['predicted.celltype.l2'].values\n",
    "\n",
    "d.obs = d.obs.loc[:,['id', 'i_RawExpr', 'majortype', 'celltype', 'ref_UMAP1', 'ref_UMAP2', 'preQC_celltype']]\n",
    "d.obs = d.obs.join(cell_meta.loc[:,['nCount_RNA', 'nFeature_RNA', 'pool', 'percent.mt', 'batch',\n",
    "        'sex', 'age', 'indiv_barcode']])\n",
    "\n",
    "# make anndata object\n",
    "d = mad.MultiAnnData(d, sampleid='id')\n",
    "d.use_R2 = False\n",
    "d.scale_variance = False\n",
    "d.count_factor = 0\n",
    "\n",
    "# aggregate sample metadata imported per-cell\n",
    "d.obs_to_sample(['sex', 'age', 'batch'])\n",
    "d.samplem['sex_M'] = (d.samplem.sex==1)*1 # From 1 vs 2 to boolean\n",
    "d.samplem = d.samplem.drop(columns = ['sex'])\n",
    "\n",
    "# add other clinical metadata\n",
    "d.samplem = d.samplem.join(meta.loc[:,['gPC1', 'gPC2', 'gPC3', 'gPC4', 'gPC5', 'gPC6']])\n",
    "\n",
    "categorical = ['Autoimmune_Disease_Other', 'Ca_Type', 'Eye_DiseaseType', 'Other_Disease', 'Other_Meds']\n",
    "for attribute in d.samplem.columns:\n",
    "    if attribute not in categorical: d.samplem[attribute] = d.samplem[attribute].values.tolist()\n",
    "for attribute in d.samplem.columns:\n",
    "    if attribute in categorical: d.samplem[attribute] = d.samplem[attribute].values.astype(str).tolist()\n",
    "\n",
    "# build NAM, compute NAM-PCs corrected for batch and covariates\n",
    "covs = ['age', 'sex_M', 'gPC1', 'gPC2', 'gPC3', 'gPC4', 'gPC5', 'gPC6']\n",
    "cna.tl.nam(d, batches=d.samplem.batch, covs=d.samplem[covs], ks=[d.samplem.shape[0]])\n",
    "\n",
    "# save data objects\n",
    "d.write(res_folder+\"gwas_\"+celltype+\"/\"+celltype+\"_KnownMeta.h5ad\")"
   ]
  },
  {
   "cell_type": "code",
   "execution_count": 9,
   "id": "4657a606",
   "metadata": {},
   "outputs": [
    {
     "name": "stdout",
     "output_type": "stream",
     "text": [
      "513\n"
     ]
    }
   ],
   "source": [
    "# Report count of samples included in each object\n",
    "for celltype in ['NK']:\n",
    "    d = cna.read(res_folder+\"gwas_\"+celltype+\"/\"+celltype+\"_KnownMeta.h5ad\")\n",
    "    print(d.samplem.shape[0])"
   ]
  },
  {
   "cell_type": "markdown",
   "id": "a85998a4",
   "metadata": {},
   "source": [
    "## Downsampled datasets for power simulations"
   ]
  },
  {
   "cell_type": "code",
   "execution_count": null,
   "id": "00a72704",
   "metadata": {},
   "outputs": [],
   "source": [
    "for frac_keep in [0.8, 0.6, 0.4, 0.2]:\n",
    "    print(frac_keep)\n",
    "    for celltype in [\"allcells\", \"NK\", \"B\", \"T\", \"Myeloid\"]:\n",
    "        print(celltype)\n",
    "        np.random.seed(0)\n",
    "        d = sc.read_h5ad(src_folder+celltype+\"_expr.h5ad\")\n",
    "\n",
    "        # Retain only samples with at least 25 cells\n",
    "        cellcount = pd.DataFrame(d.obs.individual.value_counts())\n",
    "        cellcount.columns = ['n_cells']\n",
    "        keep_ids = cellcount.index[cellcount.n_cells>=25]\n",
    "        keep_cells = np.repeat(False, d.obs.shape[0])\n",
    "        for sel_donor in keep_ids:\n",
    "            keep_cells[np.where(d.obs.individual.values==sel_donor)] = True\n",
    "        d = d[keep_cells,:]\n",
    "        print(\"Keeping \"+str(len(np.unique(d.obs.individual)))+\" samples with at least 25 cells\")\n",
    "\n",
    "        # Downsample dataset\n",
    "        all_ids = np.unique(d.obs.individual)\n",
    "        N_keep = int(frac_keep*len(all_ids))\n",
    "        keep_ids = all_ids[np.random.choice(np.arange(len(all_ids)), N_keep, replace = False)]\n",
    "        keep_cells = np.repeat(False, d.obs.shape[0])\n",
    "        for sel_donor in keep_ids:\n",
    "            keep_cells[np.where(d.obs.individual.values==sel_donor)] = True\n",
    "        d = d[keep_cells,:]\n",
    "        print(\"Keeping \"+str(len(np.unique(d.obs.individual)))+\" samples after downsampling\")\n",
    "\n",
    "        # Remove all HLA- genes (21)\n",
    "        d.var['HLA'] = ['HLA-' in d.var.index[i] for i in np.arange(d.var.shape[0])]\n",
    "        d = d[:,~d.var.HLA.values]\n",
    "\n",
    "        # Remove cell cycle genes\n",
    "        cc_genes = [\"MCM5\",\"PCNA\",\"TYMS\",\"FEN1\",\"MCM2\",\"MCM4\", \"RRM1\",\"UNG\",\"GINS2\",\"MCM6\",\n",
    "                    \"CDCA7\",\"DTL\",\"PRIM1\",\"UHRF1\",\"MLF1IP\",\"HELLS\",\"RFC2\",\"RPA2\",\"NASP\", \n",
    "                    \"RAD51AP1\",\"GMNN\",\"WDR76\",\"SLBP\",\"CCNE2\",\"UBR7\",\"POLD3\",\"MSH2\",\"ATAD2\",\n",
    "                    \"RAD51\",\"RRM2\", \"CDC45\", \"CDC6\", \"EXO1\", \"TIPIN\", \"DSCC1\", \"BLM\", \"CASP8AP2\",\n",
    "                    \"USP1\",\"CLSPN\",\"POLA1\",\"CHAF1B\",\"BRIP1\",\"E2F8\",\"HMGB2\",\"CDK1\",\"NUSAP1\",\"UBE2C\",\n",
    "                    \"BIRC5\",\"TPX2\",\"TOP2A\",\"NDC80\",\"CKS2\",\"NUF2\",\"CKS1B\",\"MKI67\",\"TMPO\",\"CENPF\",\n",
    "                    \"TACC3\",\"FAM64A\",\"SMC4\",\"CCNB2\",\"CKAP2L\",\"CKAP2\",\"AURKB\",\"BUB1\",\"KIF11\",\n",
    "                    \"ANP32E\",\"TUBB4B\",\"GTSE1\",\"KIF20B\",\"HJURP\",\"CDCA3\",\"HN1\", \"CDC20\", \"TTK\",\n",
    "                    \"CDC25C\", \"KIF2C\", \"RANGAP1\", \"NCAPD2\", \"DLGAP5\", \"CDCA2\", \"CDCA8\", \"ECT2\", \n",
    "                    \"KIF23\", \"HMMR\", \"AURKA\", \"PSRC1\", \"ANLN\", \"LBR\", \"CKAP5\", \"CENPE\", \"CTCF\",\n",
    "                    \"NEK2\",\"G2E3\",\"GAS2L3\",\"CBX5\",\"CENPA\"]\n",
    "        d.var['CC'] = [d.var.index[i] in cc_genes for i in np.arange(d.var.shape[0])]\n",
    "        d = d[:,~d.var.CC.values]\n",
    "\n",
    "        # Remove hemoglobin genes (polymorphic)\n",
    "        hb_genes = ['HBB', 'HBA2', 'HBD', 'HBA1']\n",
    "        d.var['HB'] = [d.var.index[i] in hb_genes for i in np.arange(d.var.shape[0])]\n",
    "        d = d[:,~d.var.HB.values]\n",
    "\n",
    "        # Remove platelet genes\n",
    "        plt_genes = ['PF4', 'PPBP']\n",
    "        d.var['Plt'] = [d.var.index[i] in plt_genes for i in np.arange(d.var.shape[0])]\n",
    "        d = d[:,~d.var.Plt.values]\n",
    "\n",
    "        sc.pp.normalize_total(d, target_sum=1e4) #normalize expr\n",
    "        sc.pp.log1p(d) #logarithmize\n",
    "\n",
    "        # variable gene selection\n",
    "        min_disp = {'Myeloid':0.51, 'B':0.39, 'NK': 0.37, 'T': 0.31, 'allcells':0.30}\n",
    "        sc.pp.highly_variable_genes(d, min_disp=min_disp[celltype]) #np.sum(d.var.highly_variable)\n",
    "\n",
    "        high_dispersion = d.var.dispersions_norm > 11\n",
    "        d.var.loc[high_dispersion, 'highly_variable'] = False\n",
    "\n",
    "        d = d[:, d.var.highly_variable]\n",
    "\n",
    "        sc.pp.scale(d, max_value=10) # Scale each gene to unit variance\n",
    "        sc.tl.pca(d, svd_solver='arpack') # PCA\n",
    "\n",
    "        # Harmonize over batch (theta of 2 is default, if >1 batch variable, thetas should sum to 1)\n",
    "        if celltype == \"allcells\":\n",
    "            ho = hm.run_harmony(d.obsm['X_pca'][:,:20], d.obs, ['pool'], max_iter_harmony = 50, theta = 2)\n",
    "        else:\n",
    "            # sel sigma 0.2 > default of 0.1 --> encourages softer clustering b/c all one major type\n",
    "            ho = hm.run_harmony(d.obsm['X_pca'][:,:20], d.obs, ['pool'], \n",
    "                                nclust = 50, sigma = 0.2, max_iter_harmony = 50, theta = 2)\n",
    "        d.obsm['harmpca'] = ho.Z_corr.T\n",
    "\n",
    "        print(\"graph\")\n",
    "        sc.pp.neighbors(d, use_rep = 'harmpca') # graph    \n",
    "        #print(\"umap\")\n",
    "        #sc.tl.umap(d) # umap    \n",
    "\n",
    "        # Load cell metadata\n",
    "        cell_meta = pd.read_csv(src_folder+\"cell_meta.csv\", index_col = 0)\n",
    "        cell_meta['batch'] = cell_meta.pool_number.values\n",
    "        d.obs['id'] = d.obs.individual.values\n",
    "        d.obs['preQC_celltype'] = d.obs['predicted.celltype.l2'].values\n",
    "\n",
    "        d.obs = d.obs.loc[:,['id', 'i_RawExpr', 'majortype', 'celltype', 'ref_UMAP1', 'ref_UMAP2', 'preQC_celltype']]\n",
    "        d.obs = d.obs.join(cell_meta.loc[:,['nCount_RNA', 'nFeature_RNA', 'pool', 'percent.mt', 'batch',\n",
    "                'sex', 'age', 'indiv_barcode']])\n",
    "\n",
    "        # make anndata object\n",
    "        d = mad.MultiAnnData(d, sampleid='id')\n",
    "        d.use_R2 = False\n",
    "        d.scale_variance = False\n",
    "        d.count_factor = 0\n",
    "\n",
    "        # aggregate sample metadata imported per-cell\n",
    "        d.obs_to_sample(['sex', 'age', 'batch'])\n",
    "        d.samplem['sex_M'] = (d.samplem.sex==1)*1 # From 1 vs 2 to boolean\n",
    "        d.samplem = d.samplem.drop(columns = ['sex'])\n",
    "\n",
    "        # add other clinical metadata\n",
    "        meta = pd.read_csv(src_folder+\"sample_meta.csv\", index_col = 0)\n",
    "        d.samplem = d.samplem.join(meta.loc[:,['gPC1', 'gPC2', 'gPC3', 'gPC4', 'gPC5', 'gPC6']])\n",
    "\n",
    "        categorical = ['Autoimmune_Disease_Other', 'Ca_Type', 'Eye_DiseaseType', 'Other_Disease', 'Other_Meds']\n",
    "        for attribute in d.samplem.columns:\n",
    "            if attribute not in categorical: d.samplem[attribute] = d.samplem[attribute].values.tolist()\n",
    "        for attribute in d.samplem.columns:\n",
    "            if attribute in categorical: d.samplem[attribute] = d.samplem[attribute].values.astype(str).tolist()\n",
    "\n",
    "        # build NAM, compute NAM-PCs corrected for batch and covariates\n",
    "        covs = ['age', 'sex_M', 'gPC1', 'gPC2', 'gPC3', 'gPC4', 'gPC5', 'gPC6']\n",
    "        cna.tl.nam(d, batches=d.samplem.batch, covs=d.samplem[covs], ks=[d.samplem.shape[0]])\n",
    "\n",
    "        # save data objects\n",
    "        d.write(\"/data/srlab/lrumker/MCSC_Project/cna-qtl/nonnull_sims/downsampled/\"+\\\n",
    "                celltype+\"_\"+\"pt\".join(str(frac_keep).split(\".\"))+\".h5ad\")"
   ]
  }
 ],
 "metadata": {
  "kernelspec": {
   "display_name": "Python 3 (ipykernel)",
   "language": "python",
   "name": "python3"
  },
  "language_info": {
   "codemirror_mode": {
    "name": "ipython",
    "version": 3
   },
   "file_extension": ".py",
   "mimetype": "text/x-python",
   "name": "python",
   "nbconvert_exporter": "python",
   "pygments_lexer": "ipython3",
   "version": "3.8.10"
  }
 },
 "nbformat": 4,
 "nbformat_minor": 5
}
